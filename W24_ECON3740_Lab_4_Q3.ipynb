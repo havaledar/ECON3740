{
  "nbformat": 4,
  "nbformat_minor": 0,
  "metadata": {
    "colab": {
      "provenance": [],
      "authorship_tag": "ABX9TyNn2uRkT8y7+siY/MxmOsYy",
      "include_colab_link": true
    },
    "kernelspec": {
      "name": "python3",
      "display_name": "Python 3"
    },
    "language_info": {
      "name": "python"
    }
  },
  "cells": [
    {
      "cell_type": "markdown",
      "metadata": {
        "id": "view-in-github",
        "colab_type": "text"
      },
      "source": [
        "<a href=\"https://colab.research.google.com/github/havaledar/ECON3740/blob/main/W24_ECON3740_Lab_4_Q3.ipynb\" target=\"_parent\"><img src=\"https://colab.research.google.com/assets/colab-badge.svg\" alt=\"Open In Colab\"/></a>"
      ]
    },
    {
      "cell_type": "markdown",
      "source": [
        "$$\n",
        "\\large{Assignment 1 - Question 3}\n",
        "$$"
      ],
      "metadata": {
        "id": "-Xhjio4vepmt"
      }
    },
    {
      "cell_type": "markdown",
      "source": [
        "* Adding an image.\n",
        "\n",
        "* Multiplying salary column\n",
        "```python\n",
        "# Convert the 'salary' column to a larger integer type\n",
        "CEOSAL['salary'] = CEOSAL['salary'].astype('int64')\n",
        "# Multiply the 'salary' column by 1000\n",
        "CEOSAL['newsal'] = CEOSAL['salary'] * 1000\n",
        "```"
      ],
      "metadata": {
        "id": "xtE-ix2Te_Qb"
      }
    },
    {
      "cell_type": "markdown",
      "source": [
        "## Libraries"
      ],
      "metadata": {
        "id": "mZEoLrEfEdhv"
      }
    },
    {
      "cell_type": "code",
      "execution_count": 1,
      "metadata": {
        "colab": {
          "base_uri": "https://localhost:8080/"
        },
        "id": "Ch3nLEAdeEWY",
        "outputId": "d0ee3795-9a3c-4b8b-d94c-a79ff63b1fc9"
      },
      "outputs": [
        {
          "output_type": "stream",
          "name": "stdout",
          "text": [
            "Collecting stargazer\n",
            "  Downloading stargazer-0.0.6-py3-none-any.whl (11 kB)\n",
            "Installing collected packages: stargazer\n",
            "Successfully installed stargazer-0.0.6\n",
            "Collecting gdown==v4.6.3\n",
            "  Downloading gdown-4.6.3-py3-none-any.whl (14 kB)\n",
            "Requirement already satisfied: filelock in /usr/local/lib/python3.10/dist-packages (from gdown==v4.6.3) (3.13.1)\n",
            "Requirement already satisfied: requests[socks] in /usr/local/lib/python3.10/dist-packages (from gdown==v4.6.3) (2.31.0)\n",
            "Requirement already satisfied: six in /usr/local/lib/python3.10/dist-packages (from gdown==v4.6.3) (1.16.0)\n",
            "Requirement already satisfied: tqdm in /usr/local/lib/python3.10/dist-packages (from gdown==v4.6.3) (4.66.1)\n",
            "Requirement already satisfied: beautifulsoup4 in /usr/local/lib/python3.10/dist-packages (from gdown==v4.6.3) (4.11.2)\n",
            "Requirement already satisfied: soupsieve>1.2 in /usr/local/lib/python3.10/dist-packages (from beautifulsoup4->gdown==v4.6.3) (2.5)\n",
            "Requirement already satisfied: charset-normalizer<4,>=2 in /usr/local/lib/python3.10/dist-packages (from requests[socks]->gdown==v4.6.3) (3.3.2)\n",
            "Requirement already satisfied: idna<4,>=2.5 in /usr/local/lib/python3.10/dist-packages (from requests[socks]->gdown==v4.6.3) (3.6)\n",
            "Requirement already satisfied: urllib3<3,>=1.21.1 in /usr/local/lib/python3.10/dist-packages (from requests[socks]->gdown==v4.6.3) (2.0.7)\n",
            "Requirement already satisfied: certifi>=2017.4.17 in /usr/local/lib/python3.10/dist-packages (from requests[socks]->gdown==v4.6.3) (2023.11.17)\n",
            "Requirement already satisfied: PySocks!=1.5.7,>=1.5.6 in /usr/local/lib/python3.10/dist-packages (from requests[socks]->gdown==v4.6.3) (1.7.1)\n",
            "Installing collected packages: gdown\n",
            "  Attempting uninstall: gdown\n",
            "    Found existing installation: gdown 4.7.3\n",
            "    Uninstalling gdown-4.7.3:\n",
            "      Successfully uninstalled gdown-4.7.3\n",
            "Successfully installed gdown-4.6.3\n"
          ]
        }
      ],
      "source": [
        "# Installing Libraries\n",
        "!pip install stargazer\n",
        "!pip install gdown==v4.6.3\n",
        "\n",
        "# Importing Libraries\n",
        "import pandas as pd\n",
        "import numpy as np\n",
        "from stargazer.stargazer import Stargazer\n",
        "import gdown\n",
        "import statsmodels.formula.api as smf\n",
        "import seaborn as sns\n",
        "import matplotlib.pyplot as plt"
      ]
    },
    {
      "cell_type": "markdown",
      "source": [
        "#Reading data"
      ],
      "metadata": {
        "id": "MO2-BY3FhWjL"
      }
    },
    {
      "cell_type": "code",
      "source": [
        "url = 'https://drive.google.com/file/d/1FAfkh6Pr6J3CRCLs8ql8QMCa1309fcEU/view?usp=drive_link'\n",
        "output_filename = 'ceosal.dta'\n",
        "gdown.download(url, output_filename, fuzzy=True ,quiet=False)"
      ],
      "metadata": {
        "colab": {
          "base_uri": "https://localhost:8080/",
          "height": 110
        },
        "id": "zeHDu6ViJJFh",
        "outputId": "565f4562-a048-4dea-a159-e60b868fcfcd"
      },
      "execution_count": 2,
      "outputs": [
        {
          "output_type": "stream",
          "name": "stderr",
          "text": [
            "Downloading...\n",
            "From: https://drive.google.com/uc?id=1FAfkh6Pr6J3CRCLs8ql8QMCa1309fcEU\n",
            "To: /content/ceosal.dta\n",
            "100%|██████████| 13.9k/13.9k [00:00<00:00, 23.9MB/s]\n"
          ]
        },
        {
          "output_type": "execute_result",
          "data": {
            "text/plain": [
              "'ceosal.dta'"
            ],
            "application/vnd.google.colaboratory.intrinsic+json": {
              "type": "string"
            }
          },
          "metadata": {},
          "execution_count": 2
        }
      ]
    },
    {
      "cell_type": "code",
      "source": [
        "CEOSAL = pd.read_stata('/content/ceosal.dta')"
      ],
      "metadata": {
        "id": "_ZnddxunKgLH"
      },
      "execution_count": 3,
      "outputs": []
    },
    {
      "cell_type": "code",
      "source": [
        "CEOSAL = CEOSAL[CEOSAL['age'] <= 55]"
      ],
      "metadata": {
        "id": "7blfIqCRh--N"
      },
      "execution_count": 4,
      "outputs": []
    },
    {
      "cell_type": "code",
      "source": [
        "CEOSAL.shape"
      ],
      "metadata": {
        "colab": {
          "base_uri": "https://localhost:8080/"
        },
        "id": "jsfsKoc_iA_m",
        "outputId": "19210bd1-587f-4e3d-9b79-dd8c39e3faba"
      },
      "execution_count": 5,
      "outputs": [
        {
          "output_type": "execute_result",
          "data": {
            "text/plain": [
              "(75, 13)"
            ]
          },
          "metadata": {},
          "execution_count": 5
        }
      ]
    },
    {
      "cell_type": "markdown",
      "source": [
        "# Question 2"
      ],
      "metadata": {
        "id": "XpvN4vUauutd"
      }
    },
    {
      "cell_type": "code",
      "source": [
        "CEOSAL['salary'].info()"
      ],
      "metadata": {
        "id": "Zc1coa7IdoKe",
        "outputId": "01c6fcd2-3062-485e-8a7e-004d7e131901",
        "colab": {
          "base_uri": "https://localhost:8080/"
        }
      },
      "execution_count": 6,
      "outputs": [
        {
          "output_type": "stream",
          "name": "stdout",
          "text": [
            "<class 'pandas.core.series.Series'>\n",
            "Int64Index: 75 entries, 0 to 167\n",
            "Series name: salary\n",
            "Non-Null Count  Dtype\n",
            "--------------  -----\n",
            "75 non-null     int16\n",
            "dtypes: int16(1)\n",
            "memory usage: 750.0 bytes\n"
          ]
        }
      ]
    },
    {
      "cell_type": "code",
      "source": [
        "# Convert the 'salary' column to a larger integer type\n",
        "CEOSAL['salary'] = CEOSAL['salary'].astype('int64')\n",
        "\n",
        "# Multiply the 'salary' column by 1000\n",
        "CEOSAL['newsal'] = CEOSAL['salary'] * 1000\n",
        "\n",
        "CEOSAL['newsal']"
      ],
      "metadata": {
        "id": "NmUDwyh5usUa",
        "outputId": "b29054d2-09c5-401d-d487-e1ab93afb7bd",
        "colab": {
          "base_uri": "https://localhost:8080/"
        }
      },
      "execution_count": 7,
      "outputs": [
        {
          "output_type": "execute_result",
          "data": {
            "text/plain": [
              "0      1161000\n",
              "1       600000\n",
              "2       379000\n",
              "3       651000\n",
              "4       497000\n",
              "        ...   \n",
              "162    1268000\n",
              "164     693000\n",
              "165     369000\n",
              "166     381000\n",
              "167     467000\n",
              "Name: newsal, Length: 75, dtype: int64"
            ]
          },
          "metadata": {},
          "execution_count": 7
        }
      ]
    },
    {
      "cell_type": "markdown",
      "source": [
        "# Plot with regression line"
      ],
      "metadata": {
        "id": "VjkOGwLshdvG"
      }
    },
    {
      "cell_type": "code",
      "source": [
        "sns.regplot(x='ceoten',\n",
        "            y='salary',\n",
        "            data=CEOSAL,\n",
        "            ci=None,\n",
        "            scatter_kws={'facecolors':'white',\n",
        "                         'edgecolors':'black'})\n",
        "\n",
        "plt.show()"
      ],
      "metadata": {
        "colab": {
          "base_uri": "https://localhost:8080/",
          "height": 449
        },
        "id": "NlEmbK0IhdTc",
        "outputId": "49c97d62-82b2-4758-9b94-1f1f02e71e61"
      },
      "execution_count": 10,
      "outputs": [
        {
          "output_type": "display_data",
          "data": {
            "text/plain": [
              "<Figure size 640x480 with 1 Axes>"
            ],
            "image/png": "[encoded data removed]"
          },
          "metadata": {}
        }
      ]
    },
    {
      "cell_type": "markdown",
      "source": [
        "# Xbar & Ybar"
      ],
      "metadata": {
        "id": "5ounuoRLi9LJ"
      }
    },
    {
      "cell_type": "code",
      "source": [
        "CEOSAL['Xbar'] = CEOSAL['ceoten'].mean()\n",
        "CEOSAL['Ybar'] = CEOSAL['salary'].mean()"
      ],
      "metadata": {
        "id": "bHdJ3F95jBAM"
      },
      "execution_count": 13,
      "outputs": []
    },
    {
      "cell_type": "code",
      "source": [
        "CEOSAL['Ybar'].describe()"
      ],
      "metadata": {
        "id": "CEIS1V9Kesv3",
        "outputId": "ec48c277-8df0-434a-d58c-132b9bfda502",
        "colab": {
          "base_uri": "https://localhost:8080/"
        }
      },
      "execution_count": 14,
      "outputs": [
        {
          "output_type": "execute_result",
          "data": {
            "text/plain": [
              "count     75.000000\n",
              "mean     781.266667\n",
              "std        0.000000\n",
              "min      781.266667\n",
              "25%      781.266667\n",
              "50%      781.266667\n",
              "75%      781.266667\n",
              "max      781.266667\n",
              "Name: Ybar, dtype: float64"
            ]
          },
          "metadata": {},
          "execution_count": 14
        }
      ]
    },
    {
      "cell_type": "markdown",
      "source": [
        "# XX_YY"
      ],
      "metadata": {
        "id": "QObmNsc2jOZc"
      }
    },
    {
      "cell_type": "markdown",
      "source": [
        "$\\color{red}{\\text{Add 1 parenthesis}}$"
      ],
      "metadata": {
        "id": "7RRE23fju59x"
      }
    },
    {
      "cell_type": "code",
      "source": [
        "CEOSAL"
      ],
      "metadata": {
        "id": "bTe8oPgmfTXZ",
        "outputId": "1c5dc4e6-736b-40ad-903e-806db575481c",
        "colab": {
          "base_uri": "https://localhost:8080/",
          "height": 443
        }
      },
      "execution_count": 19,
      "outputs": [
        {
          "output_type": "execute_result",
          "data": {
            "text/plain": [
              "     salary  age  college  grad  comten  ceoten   sales  profits   mktval  \\\n",
              "0      1161   49        1     1       9       2  6200.0      966  23200.0   \n",
              "1       600   43        1     1      10      10   283.0       48   1100.0   \n",
              "2       379   51        1     1       9       3   169.0       40   1100.0   \n",
              "3       651   55        1     0      22      22  1100.0      -54   1000.0   \n",
              "4       497   44        1     1       8       6   351.0       28    387.0   \n",
              "..      ...  ...      ...   ...     ...     ...     ...      ...      ...   \n",
              "162    1268   47        1     0      20       4  1100.0       47   2500.0   \n",
              "164     693   46        1     1       7       3  2200.0       44    533.0   \n",
              "165     369   49        1     1       4       1    65.0     -132   1200.0   \n",
              "166     381   54        1     0      30       2  2700.0      386   4500.0   \n",
              "167     467   49        1     1      13       0   513.0       49    534.0   \n",
              "\n",
              "     comtensq  ceotensq    profmarg       nsal   newsal      Xbar        Ybar  \\\n",
              "0          81         4   15.580646  1161000.0  1161000  6.493333  781.266667   \n",
              "1         100       100   16.961130   600000.0   600000  6.493333  781.266667   \n",
              "2          81         9   23.668638   379000.0   379000  6.493333  781.266667   \n",
              "3         484       484   -4.909091   651000.0   651000  6.493333  781.266667   \n",
              "4          64        36    7.977208   497000.0   497000  6.493333  781.266667   \n",
              "..        ...       ...         ...        ...      ...       ...         ...   \n",
              "162       400        16    4.272727  1268000.0  1268000  6.493333  781.266667   \n",
              "164        49         9    2.000000   693000.0   693000  6.493333  781.266667   \n",
              "165        16         1 -203.076920   369000.0   369000  6.493333  781.266667   \n",
              "166       900         4   14.296296   381000.0   381000  6.493333  781.266667   \n",
              "167       169         0    9.551657   467000.0   467000  6.493333  781.266667   \n",
              "\n",
              "            XX_YY  \n",
              "0    24150.133333  \n",
              "1    24150.133333  \n",
              "2    24150.133333  \n",
              "3    24150.133333  \n",
              "4    24150.133333  \n",
              "..            ...  \n",
              "162  24150.133333  \n",
              "164  24150.133333  \n",
              "165  24150.133333  \n",
              "166  24150.133333  \n",
              "167  24150.133333  \n",
              "\n",
              "[75 rows x 17 columns]"
            ],
            "text/html": [
              "\n",
              "  <div id=\"df-a0d2b6a9-1ff8-4e48-a92c-aab8aa12b638\" class=\"colab-df-container\">\n",
              "    <div>\n",
              "<style scoped>\n",
              "    .dataframe tbody tr th:only-of-type {\n",
              "        vertical-align: middle;\n",
              "    }\n",
              "\n",
              "    .dataframe tbody tr th {\n",
              "        vertical-align: top;\n",
              "    }\n",
              "\n",
              "    .dataframe thead th {\n",
              "        text-align: right;\n",
              "    }\n",
              "</style>\n",
              "<table border=\"1\" class=\"dataframe\">\n",
              "  <thead>\n",
              "    <tr style=\"text-align: right;\">\n",
              "      <th></th>\n",
              "      <th>salary</th>\n",
              "      <th>age</th>\n",
              "      <th>college</th>\n",
              "      <th>grad</th>\n",
              "      <th>comten</th>\n",
              "      <th>ceoten</th>\n",
              "      <th>sales</th>\n",
              "      <th>profits</th>\n",
              "      <th>mktval</th>\n",
              "      <th>comtensq</th>\n",
              "      <th>ceotensq</th>\n",
              "      <th>profmarg</th>\n",
              "      <th>nsal</th>\n",
              "      <th>newsal</th>\n",
              "      <th>Xbar</th>\n",
              "      <th>Ybar</th>\n",
              "      <th>XX_YY</th>\n",
              "    </tr>\n",
              "  </thead>\n",
              "  <tbody>\n",
              "    <tr>\n",
              "      <th>0</th>\n",
              "      <td>1161</td>\n",
              "      <td>49</td>\n",
              "      <td>1</td>\n",
              "      <td>1</td>\n",
              "      <td>9</td>\n",
              "      <td>2</td>\n",
              "      <td>6200.0</td>\n",
              "      <td>966</td>\n",
              "      <td>23200.0</td>\n",
              "      <td>81</td>\n",
              "      <td>4</td>\n",
              "      <td>15.580646</td>\n",
              "      <td>1161000.0</td>\n",
              "      <td>1161000</td>\n",
              "      <td>6.493333</td>\n",
              "      <td>781.266667</td>\n",
              "      <td>24150.133333</td>\n",
              "    </tr>\n",
              "    <tr>\n",
              "      <th>1</th>\n",
              "      <td>600</td>\n",
              "      <td>43</td>\n",
              "      <td>1</td>\n",
              "      <td>1</td>\n",
              "      <td>10</td>\n",
              "      <td>10</td>\n",
              "      <td>283.0</td>\n",
              "      <td>48</td>\n",
              "      <td>1100.0</td>\n",
              "      <td>100</td>\n",
              "      <td>100</td>\n",
              "      <td>16.961130</td>\n",
              "      <td>600000.0</td>\n",
              "      <td>600000</td>\n",
              "      <td>6.493333</td>\n",
              "      <td>781.266667</td>\n",
              "      <td>24150.133333</td>\n",
              "    </tr>\n",
              "    <tr>\n",
              "      <th>2</th>\n",
              "      <td>379</td>\n",
              "      <td>51</td>\n",
              "      <td>1</td>\n",
              "      <td>1</td>\n",
              "      <td>9</td>\n",
              "      <td>3</td>\n",
              "      <td>169.0</td>\n",
              "      <td>40</td>\n",
              "      <td>1100.0</td>\n",
              "      <td>81</td>\n",
              "      <td>9</td>\n",
              "      <td>23.668638</td>\n",
              "      <td>379000.0</td>\n",
              "      <td>379000</td>\n",
              "      <td>6.493333</td>\n",
              "      <td>781.266667</td>\n",
              "      <td>24150.133333</td>\n",
              "    </tr>\n",
              "    <tr>\n",
              "      <th>3</th>\n",
              "      <td>651</td>\n",
              "      <td>55</td>\n",
              "      <td>1</td>\n",
              "      <td>0</td>\n",
              "      <td>22</td>\n",
              "      <td>22</td>\n",
              "      <td>1100.0</td>\n",
              "      <td>-54</td>\n",
              "      <td>1000.0</td>\n",
              "      <td>484</td>\n",
              "      <td>484</td>\n",
              "      <td>-4.909091</td>\n",
              "      <td>651000.0</td>\n",
              "      <td>651000</td>\n",
              "      <td>6.493333</td>\n",
              "      <td>781.266667</td>\n",
              "      <td>24150.133333</td>\n",
              "    </tr>\n",
              "    <tr>\n",
              "      <th>4</th>\n",
              "      <td>497</td>\n",
              "      <td>44</td>\n",
              "      <td>1</td>\n",
              "      <td>1</td>\n",
              "      <td>8</td>\n",
              "      <td>6</td>\n",
              "      <td>351.0</td>\n",
              "      <td>28</td>\n",
              "      <td>387.0</td>\n",
              "      <td>64</td>\n",
              "      <td>36</td>\n",
              "      <td>7.977208</td>\n",
              "      <td>497000.0</td>\n",
              "      <td>497000</td>\n",
              "      <td>6.493333</td>\n",
              "      <td>781.266667</td>\n",
              "      <td>24150.133333</td>\n",
              "    </tr>\n",
              "    <tr>\n",
              "      <th>...</th>\n",
              "      <td>...</td>\n",
              "      <td>...</td>\n",
              "      <td>...</td>\n",
              "      <td>...</td>\n",
              "      <td>...</td>\n",
              "      <td>...</td>\n",
              "      <td>...</td>\n",
              "      <td>...</td>\n",
              "      <td>...</td>\n",
              "      <td>...</td>\n",
              "      <td>...</td>\n",
              "      <td>...</td>\n",
              "      <td>...</td>\n",
              "      <td>...</td>\n",
              "      <td>...</td>\n",
              "      <td>...</td>\n",
              "      <td>...</td>\n",
              "    </tr>\n",
              "    <tr>\n",
              "      <th>162</th>\n",
              "      <td>1268</td>\n",
              "      <td>47</td>\n",
              "      <td>1</td>\n",
              "      <td>0</td>\n",
              "      <td>20</td>\n",
              "      <td>4</td>\n",
              "      <td>1100.0</td>\n",
              "      <td>47</td>\n",
              "      <td>2500.0</td>\n",
              "      <td>400</td>\n",
              "      <td>16</td>\n",
              "      <td>4.272727</td>\n",
              "      <td>1268000.0</td>\n",
              "      <td>1268000</td>\n",
              "      <td>6.493333</td>\n",
              "      <td>781.266667</td>\n",
              "      <td>24150.133333</td>\n",
              "    </tr>\n",
              "    <tr>\n",
              "      <th>164</th>\n",
              "      <td>693</td>\n",
              "      <td>46</td>\n",
              "      <td>1</td>\n",
              "      <td>1</td>\n",
              "      <td>7</td>\n",
              "      <td>3</td>\n",
              "      <td>2200.0</td>\n",
              "      <td>44</td>\n",
              "      <td>533.0</td>\n",
              "      <td>49</td>\n",
              "      <td>9</td>\n",
              "      <td>2.000000</td>\n",
              "      <td>693000.0</td>\n",
              "      <td>693000</td>\n",
              "      <td>6.493333</td>\n",
              "      <td>781.266667</td>\n",
              "      <td>24150.133333</td>\n",
              "    </tr>\n",
              "    <tr>\n",
              "      <th>165</th>\n",
              "      <td>369</td>\n",
              "      <td>49</td>\n",
              "      <td>1</td>\n",
              "      <td>1</td>\n",
              "      <td>4</td>\n",
              "      <td>1</td>\n",
              "      <td>65.0</td>\n",
              "      <td>-132</td>\n",
              "      <td>1200.0</td>\n",
              "      <td>16</td>\n",
              "      <td>1</td>\n",
              "      <td>-203.076920</td>\n",
              "      <td>369000.0</td>\n",
              "      <td>369000</td>\n",
              "      <td>6.493333</td>\n",
              "      <td>781.266667</td>\n",
              "      <td>24150.133333</td>\n",
              "    </tr>\n",
              "    <tr>\n",
              "      <th>166</th>\n",
              "      <td>381</td>\n",
              "      <td>54</td>\n",
              "      <td>1</td>\n",
              "      <td>0</td>\n",
              "      <td>30</td>\n",
              "      <td>2</td>\n",
              "      <td>2700.0</td>\n",
              "      <td>386</td>\n",
              "      <td>4500.0</td>\n",
              "      <td>900</td>\n",
              "      <td>4</td>\n",
              "      <td>14.296296</td>\n",
              "      <td>381000.0</td>\n",
              "      <td>381000</td>\n",
              "      <td>6.493333</td>\n",
              "      <td>781.266667</td>\n",
              "      <td>24150.133333</td>\n",
              "    </tr>\n",
              "    <tr>\n",
              "      <th>167</th>\n",
              "      <td>467</td>\n",
              "      <td>49</td>\n",
              "      <td>1</td>\n",
              "      <td>1</td>\n",
              "      <td>13</td>\n",
              "      <td>0</td>\n",
              "      <td>513.0</td>\n",
              "      <td>49</td>\n",
              "      <td>534.0</td>\n",
              "      <td>169</td>\n",
              "      <td>0</td>\n",
              "      <td>9.551657</td>\n",
              "      <td>467000.0</td>\n",
              "      <td>467000</td>\n",
              "      <td>6.493333</td>\n",
              "      <td>781.266667</td>\n",
              "      <td>24150.133333</td>\n",
              "    </tr>\n",
              "  </tbody>\n",
              "</table>\n",
              "<p>75 rows × 17 columns</p>\n",
              "</div>\n",
              "    <div class=\"colab-df-buttons\">\n",
              "\n",
              "  <div class=\"colab-df-container\">\n",
              "    <button class=\"colab-df-convert\" onclick=\"convertToInteractive('df-a0d2b6a9-1ff8-4e48-a92c-aab8aa12b638')\"\n",
              "            title=\"Convert this dataframe to an interactive table.\"\n",
              "            style=\"display:none;\">\n",
              "\n",
              "  <svg xmlns=\"http://www.w3.org/2000/svg\" height=\"24px\" viewBox=\"0 -960 960 960\">\n",
              "    <path d=\"M120-120v-720h720v720H120Zm60-500h600v-160H180v160Zm220 220h160v-160H400v160Zm0 220h160v-160H400v160ZM180-400h160v-160H180v160Zm440 0h160v-160H620v160ZM180-180h160v-160H180v160Zm440 0h160v-160H620v160Z\"/>\n",
              "  </svg>\n",
              "    </button>\n",
              "\n",
              "  <style>\n",
              "    .colab-df-container {\n",
              "      display:flex;\n",
              "      gap: 12px;\n",
              "    }\n",
              "\n",
              "    .colab-df-convert {\n",
              "      background-color: #E8F0FE;\n",
              "      border: none;\n",
              "      border-radius: 50%;\n",
              "      cursor: pointer;\n",
              "      display: none;\n",
              "      fill: #1967D2;\n",
              "      height: 32px;\n",
              "      padding: 0 0 0 0;\n",
              "      width: 32px;\n",
              "    }\n",
              "\n",
              "    .colab-df-convert:hover {\n",
              "      background-color: #E2EBFA;\n",
              "      box-shadow: 0px 1px 2px rgba(60, 64, 67, 0.3), 0px 1px 3px 1px rgba(60, 64, 67, 0.15);\n",
              "      fill: #174EA6;\n",
              "    }\n",
              "\n",
              "    .colab-df-buttons div {\n",
              "      margin-bottom: 4px;\n",
              "    }\n",
              "\n",
              "    [theme=dark] .colab-df-convert {\n",
              "      background-color: #3B4455;\n",
              "      fill: #D2E3FC;\n",
              "    }\n",
              "\n",
              "    [theme=dark] .colab-df-convert:hover {\n",
              "      background-color: #434B5C;\n",
              "      box-shadow: 0px 1px 3px 1px rgba(0, 0, 0, 0.15);\n",
              "      filter: drop-shadow(0px 1px 2px rgba(0, 0, 0, 0.3));\n",
              "      fill: #FFFFFF;\n",
              "    }\n",
              "  </style>\n",
              "\n",
              "    <script>\n",
              "      const buttonEl =\n",
              "        document.querySelector('#df-a0d2b6a9-1ff8-4e48-a92c-aab8aa12b638 button.colab-df-convert');\n",
              "      buttonEl.style.display =\n",
              "        google.colab.kernel.accessAllowed ? 'block' : 'none';\n",
              "\n",
              "      async function convertToInteractive(key) {\n",
              "        const element = document.querySelector('#df-a0d2b6a9-1ff8-4e48-a92c-aab8aa12b638');\n",
              "        const dataTable =\n",
              "          await google.colab.kernel.invokeFunction('convertToInteractive',\n",
              "                                                    [key], {});\n",
              "        if (!dataTable) return;\n",
              "\n",
              "        const docLinkHtml = 'Like what you see? Visit the ' +\n",
              "          '<a target=\"_blank\" href=https://colab.research.google.com/notebooks/data_table.ipynb>data table notebook</a>'\n",
              "          + ' to learn more about interactive tables.';\n",
              "        element.innerHTML = '';\n",
              "        dataTable['output_type'] = 'display_data';\n",
              "        await google.colab.output.renderOutput(dataTable, element);\n",
              "        const docLink = document.createElement('div');\n",
              "        docLink.innerHTML = docLinkHtml;\n",
              "        element.appendChild(docLink);\n",
              "      }\n",
              "    </script>\n",
              "  </div>\n",
              "\n",
              "\n",
              "<div id=\"df-15672c97-2b66-4989-8f0e-31a5d8b6a259\">\n",
              "  <button class=\"colab-df-quickchart\" onclick=\"quickchart('df-15672c97-2b66-4989-8f0e-31a5d8b6a259')\"\n",
              "            title=\"Suggest charts\"\n",
              "            style=\"display:none;\">\n",
              "\n",
              "<svg xmlns=\"http://www.w3.org/2000/svg\" height=\"24px\"viewBox=\"0 0 24 24\"\n",
              "     width=\"24px\">\n",
              "    <g>\n",
              "        <path d=\"M19 3H5c-1.1 0-2 .9-2 2v14c0 1.1.9 2 2 2h14c1.1 0 2-.9 2-2V5c0-1.1-.9-2-2-2zM9 17H7v-7h2v7zm4 0h-2V7h2v10zm4 0h-2v-4h2v4z\"/>\n",
              "    </g>\n",
              "</svg>\n",
              "  </button>\n",
              "\n",
              "<style>\n",
              "  .colab-df-quickchart {\n",
              "      --bg-color: #E8F0FE;\n",
              "      --fill-color: #1967D2;\n",
              "      --hover-bg-color: #E2EBFA;\n",
              "      --hover-fill-color: #174EA6;\n",
              "      --disabled-fill-color: #AAA;\n",
              "      --disabled-bg-color: #DDD;\n",
              "  }\n",
              "\n",
              "  [theme=dark] .colab-df-quickchart {\n",
              "      --bg-color: #3B4455;\n",
              "      --fill-color: #D2E3FC;\n",
              "      --hover-bg-color: #434B5C;\n",
              "      --hover-fill-color: #FFFFFF;\n",
              "      --disabled-bg-color: #3B4455;\n",
              "      --disabled-fill-color: #666;\n",
              "  }\n",
              "\n",
              "  .colab-df-quickchart {\n",
              "    background-color: var(--bg-color);\n",
              "    border: none;\n",
              "    border-radius: 50%;\n",
              "    cursor: pointer;\n",
              "    display: none;\n",
              "    fill: var(--fill-color);\n",
              "    height: 32px;\n",
              "    padding: 0;\n",
              "    width: 32px;\n",
              "  }\n",
              "\n",
              "  .colab-df-quickchart:hover {\n",
              "    background-color: var(--hover-bg-color);\n",
              "    box-shadow: 0 1px 2px rgba(60, 64, 67, 0.3), 0 1px 3px 1px rgba(60, 64, 67, 0.15);\n",
              "    fill: var(--button-hover-fill-color);\n",
              "  }\n",
              "\n",
              "  .colab-df-quickchart-complete:disabled,\n",
              "  .colab-df-quickchart-complete:disabled:hover {\n",
              "    background-color: var(--disabled-bg-color);\n",
              "    fill: var(--disabled-fill-color);\n",
              "    box-shadow: none;\n",
              "  }\n",
              "\n",
              "  .colab-df-spinner {\n",
              "    border: 2px solid var(--fill-color);\n",
              "    border-color: transparent;\n",
              "    border-bottom-color: var(--fill-color);\n",
              "    animation:\n",
              "      spin 1s steps(1) infinite;\n",
              "  }\n",
              "\n",
              "  @keyframes spin {\n",
              "    0% {\n",
              "      border-color: transparent;\n",
              "      border-bottom-color: var(--fill-color);\n",
              "      border-left-color: var(--fill-color);\n",
              "    }\n",
              "    20% {\n",
              "      border-color: transparent;\n",
              "      border-left-color: var(--fill-color);\n",
              "      border-top-color: var(--fill-color);\n",
              "    }\n",
              "    30% {\n",
              "      border-color: transparent;\n",
              "      border-left-color: var(--fill-color);\n",
              "      border-top-color: var(--fill-color);\n",
              "      border-right-color: var(--fill-color);\n",
              "    }\n",
              "    40% {\n",
              "      border-color: transparent;\n",
              "      border-right-color: var(--fill-color);\n",
              "      border-top-color: var(--fill-color);\n",
              "    }\n",
              "    60% {\n",
              "      border-color: transparent;\n",
              "      border-right-color: var(--fill-color);\n",
              "    }\n",
              "    80% {\n",
              "      border-color: transparent;\n",
              "      border-right-color: var(--fill-color);\n",
              "      border-bottom-color: var(--fill-color);\n",
              "    }\n",
              "    90% {\n",
              "      border-color: transparent;\n",
              "      border-bottom-color: var(--fill-color);\n",
              "    }\n",
              "  }\n",
              "</style>\n",
              "\n",
              "  <script>\n",
              "    async function quickchart(key) {\n",
              "      const quickchartButtonEl =\n",
              "        document.querySelector('#' + key + ' button');\n",
              "      quickchartButtonEl.disabled = true;  // To prevent multiple clicks.\n",
              "      quickchartButtonEl.classList.add('colab-df-spinner');\n",
              "      try {\n",
              "        const charts = await google.colab.kernel.invokeFunction(\n",
              "            'suggestCharts', [key], {});\n",
              "      } catch (error) {\n",
              "        console.error('Error during call to suggestCharts:', error);\n",
              "      }\n",
              "      quickchartButtonEl.classList.remove('colab-df-spinner');\n",
              "      quickchartButtonEl.classList.add('colab-df-quickchart-complete');\n",
              "    }\n",
              "    (() => {\n",
              "      let quickchartButtonEl =\n",
              "        document.querySelector('#df-15672c97-2b66-4989-8f0e-31a5d8b6a259 button');\n",
              "      quickchartButtonEl.style.display =\n",
              "        google.colab.kernel.accessAllowed ? 'block' : 'none';\n",
              "    })();\n",
              "  </script>\n",
              "</div>\n",
              "\n",
              "  <div id=\"id_34e12922-8383-4822-ae92-d28ee1fd238f\">\n",
              "    <style>\n",
              "      .colab-df-generate {\n",
              "        background-color: #E8F0FE;\n",
              "        border: none;\n",
              "        border-radius: 50%;\n",
              "        cursor: pointer;\n",
              "        display: none;\n",
              "        fill: #1967D2;\n",
              "        height: 32px;\n",
              "        padding: 0 0 0 0;\n",
              "        width: 32px;\n",
              "      }\n",
              "\n",
              "      .colab-df-generate:hover {\n",
              "        background-color: #E2EBFA;\n",
              "        box-shadow: 0px 1px 2px rgba(60, 64, 67, 0.3), 0px 1px 3px 1px rgba(60, 64, 67, 0.15);\n",
              "        fill: #174EA6;\n",
              "      }\n",
              "\n",
              "      [theme=dark] .colab-df-generate {\n",
              "        background-color: #3B4455;\n",
              "        fill: #D2E3FC;\n",
              "      }\n",
              "\n",
              "      [theme=dark] .colab-df-generate:hover {\n",
              "        background-color: #434B5C;\n",
              "        box-shadow: 0px 1px 3px 1px rgba(0, 0, 0, 0.15);\n",
              "        filter: drop-shadow(0px 1px 2px rgba(0, 0, 0, 0.3));\n",
              "        fill: #FFFFFF;\n",
              "      }\n",
              "    </style>\n",
              "    <button class=\"colab-df-generate\" onclick=\"generateWithVariable('CEOSAL')\"\n",
              "            title=\"Generate code using this dataframe.\"\n",
              "            style=\"display:none;\">\n",
              "\n",
              "  <svg xmlns=\"http://www.w3.org/2000/svg\" height=\"24px\"viewBox=\"0 0 24 24\"\n",
              "       width=\"24px\">\n",
              "    <path d=\"M7,19H8.4L18.45,9,17,7.55,7,17.6ZM5,21V16.75L18.45,3.32a2,2,0,0,1,2.83,0l1.4,1.43a1.91,1.91,0,0,1,.58,1.4,1.91,1.91,0,0,1-.58,1.4L9.25,21ZM18.45,9,17,7.55Zm-12,3A5.31,5.31,0,0,0,4.9,8.1,5.31,5.31,0,0,0,1,6.5,5.31,5.31,0,0,0,4.9,4.9,5.31,5.31,0,0,0,6.5,1,5.31,5.31,0,0,0,8.1,4.9,5.31,5.31,0,0,0,12,6.5,5.46,5.46,0,0,0,6.5,12Z\"/>\n",
              "  </svg>\n",
              "    </button>\n",
              "    <script>\n",
              "      (() => {\n",
              "      const buttonEl =\n",
              "        document.querySelector('#id_34e12922-8383-4822-ae92-d28ee1fd238f button.colab-df-generate');\n",
              "      buttonEl.style.display =\n",
              "        google.colab.kernel.accessAllowed ? 'block' : 'none';\n",
              "\n",
              "      buttonEl.onclick = () => {\n",
              "        google.colab.notebook.generateWithVariable('CEOSAL');\n",
              "      }\n",
              "      })();\n",
              "    </script>\n",
              "  </div>\n",
              "\n",
              "    </div>\n",
              "  </div>\n"
            ]
          },
          "metadata": {},
          "execution_count": 19
        }
      ]
    },
    {
      "cell_type": "code",
      "source": [
        "CEOSAL['XX_YY'] = ((CEOSAL['ceoten'] - CEOSAL['Xbar']) * (CEOSAL['salary'] - CEOSAL['Ybar'])).sum()\n",
        "\n",
        "print('XX_YY: ', '\\n', CEOSAL['XX_YY'].describe())"
      ],
      "metadata": {
        "colab": {
          "base_uri": "https://localhost:8080/"
        },
        "id": "F8NcscJMjeWD",
        "outputId": "3dac4b2d-f229-4001-a566-1f0772ce7f92"
      },
      "execution_count": 18,
      "outputs": [
        {
          "output_type": "stream",
          "name": "stdout",
          "text": [
            "XX_YY:  \n",
            " count    7.500000e+01\n",
            "mean     2.415013e+04\n",
            "std      3.662477e-12\n",
            "min      2.415013e+04\n",
            "25%      2.415013e+04\n",
            "50%      2.415013e+04\n",
            "75%      2.415013e+04\n",
            "max      2.415013e+04\n",
            "Name: XX_YY, dtype: float64\n"
          ]
        }
      ]
    },
    {
      "cell_type": "markdown",
      "source": [
        "# XX2"
      ],
      "metadata": {
        "id": "bcEA3q9OlbIC"
      }
    },
    {
      "cell_type": "code",
      "source": [
        "CEOSAL['XX2'] = ((CEOSAL['ceoten'] - CEOSAL['Xbar'])**2).sum()\n",
        "print('XX2: ', '\\n', CEOSAL['XX2'].describe())"
      ],
      "metadata": {
        "colab": {
          "base_uri": "https://localhost:8080/"
        },
        "id": "Vk3hkXcQlbgi",
        "outputId": "8458e4e0-cd56-43a0-a176-4045a94bce10"
      },
      "execution_count": 20,
      "outputs": [
        {
          "output_type": "stream",
          "name": "stdout",
          "text": [
            "XX2:  \n",
            " count      75.000000\n",
            "mean     2404.746667\n",
            "std         0.000000\n",
            "min      2404.746667\n",
            "25%      2404.746667\n",
            "50%      2404.746667\n",
            "75%      2404.746667\n",
            "max      2404.746667\n",
            "Name: XX2, dtype: float64\n"
          ]
        }
      ]
    },
    {
      "cell_type": "code",
      "source": [
        "CEOSAL"
      ],
      "metadata": {
        "id": "NthQ1YK_fiXl",
        "outputId": "b2aad719-5106-40b2-a11b-0f7316cc6453",
        "colab": {
          "base_uri": "https://localhost:8080/",
          "height": 443
        }
      },
      "execution_count": 21,
      "outputs": [
        {
          "output_type": "execute_result",
          "data": {
            "text/plain": [
              "     salary  age  college  grad  comten  ceoten   sales  profits   mktval  \\\n",
              "0      1161   49        1     1       9       2  6200.0      966  23200.0   \n",
              "1       600   43        1     1      10      10   283.0       48   1100.0   \n",
              "2       379   51        1     1       9       3   169.0       40   1100.0   \n",
              "3       651   55        1     0      22      22  1100.0      -54   1000.0   \n",
              "4       497   44        1     1       8       6   351.0       28    387.0   \n",
              "..      ...  ...      ...   ...     ...     ...     ...      ...      ...   \n",
              "162    1268   47        1     0      20       4  1100.0       47   2500.0   \n",
              "164     693   46        1     1       7       3  2200.0       44    533.0   \n",
              "165     369   49        1     1       4       1    65.0     -132   1200.0   \n",
              "166     381   54        1     0      30       2  2700.0      386   4500.0   \n",
              "167     467   49        1     1      13       0   513.0       49    534.0   \n",
              "\n",
              "     comtensq  ceotensq    profmarg       nsal   newsal      Xbar        Ybar  \\\n",
              "0          81         4   15.580646  1161000.0  1161000  6.493333  781.266667   \n",
              "1         100       100   16.961130   600000.0   600000  6.493333  781.266667   \n",
              "2          81         9   23.668638   379000.0   379000  6.493333  781.266667   \n",
              "3         484       484   -4.909091   651000.0   651000  6.493333  781.266667   \n",
              "4          64        36    7.977208   497000.0   497000  6.493333  781.266667   \n",
              "..        ...       ...         ...        ...      ...       ...         ...   \n",
              "162       400        16    4.272727  1268000.0  1268000  6.493333  781.266667   \n",
              "164        49         9    2.000000   693000.0   693000  6.493333  781.266667   \n",
              "165        16         1 -203.076920   369000.0   369000  6.493333  781.266667   \n",
              "166       900         4   14.296296   381000.0   381000  6.493333  781.266667   \n",
              "167       169         0    9.551657   467000.0   467000  6.493333  781.266667   \n",
              "\n",
              "            XX_YY          XX2  \n",
              "0    24150.133333  2404.746667  \n",
              "1    24150.133333  2404.746667  \n",
              "2    24150.133333  2404.746667  \n",
              "3    24150.133333  2404.746667  \n",
              "4    24150.133333  2404.746667  \n",
              "..            ...          ...  \n",
              "162  24150.133333  2404.746667  \n",
              "164  24150.133333  2404.746667  \n",
              "165  24150.133333  2404.746667  \n",
              "166  24150.133333  2404.746667  \n",
              "167  24150.133333  2404.746667  \n",
              "\n",
              "[75 rows x 18 columns]"
            ],
            "text/html": [
              "\n",
              "  <div id=\"df-9559b162-b83c-47b9-a7b6-cbaee82011f3\" class=\"colab-df-container\">\n",
              "    <div>\n",
              "<style scoped>\n",
              "    .dataframe tbody tr th:only-of-type {\n",
              "        vertical-align: middle;\n",
              "    }\n",
              "\n",
              "    .dataframe tbody tr th {\n",
              "        vertical-align: top;\n",
              "    }\n",
              "\n",
              "    .dataframe thead th {\n",
              "        text-align: right;\n",
              "    }\n",
              "</style>\n",
              "<table border=\"1\" class=\"dataframe\">\n",
              "  <thead>\n",
              "    <tr style=\"text-align: right;\">\n",
              "      <th></th>\n",
              "      <th>salary</th>\n",
              "      <th>age</th>\n",
              "      <th>college</th>\n",
              "      <th>grad</th>\n",
              "      <th>comten</th>\n",
              "      <th>ceoten</th>\n",
              "      <th>sales</th>\n",
              "      <th>profits</th>\n",
              "      <th>mktval</th>\n",
              "      <th>comtensq</th>\n",
              "      <th>ceotensq</th>\n",
              "      <th>profmarg</th>\n",
              "      <th>nsal</th>\n",
              "      <th>newsal</th>\n",
              "      <th>Xbar</th>\n",
              "      <th>Ybar</th>\n",
              "      <th>XX_YY</th>\n",
              "      <th>XX2</th>\n",
              "    </tr>\n",
              "  </thead>\n",
              "  <tbody>\n",
              "    <tr>\n",
              "      <th>0</th>\n",
              "      <td>1161</td>\n",
              "      <td>49</td>\n",
              "      <td>1</td>\n",
              "      <td>1</td>\n",
              "      <td>9</td>\n",
              "      <td>2</td>\n",
              "      <td>6200.0</td>\n",
              "      <td>966</td>\n",
              "      <td>23200.0</td>\n",
              "      <td>81</td>\n",
              "      <td>4</td>\n",
              "      <td>15.580646</td>\n",
              "      <td>1161000.0</td>\n",
              "      <td>1161000</td>\n",
              "      <td>6.493333</td>\n",
              "      <td>781.266667</td>\n",
              "      <td>24150.133333</td>\n",
              "      <td>2404.746667</td>\n",
              "    </tr>\n",
              "    <tr>\n",
              "      <th>1</th>\n",
              "      <td>600</td>\n",
              "      <td>43</td>\n",
              "      <td>1</td>\n",
              "      <td>1</td>\n",
              "      <td>10</td>\n",
              "      <td>10</td>\n",
              "      <td>283.0</td>\n",
              "      <td>48</td>\n",
              "      <td>1100.0</td>\n",
              "      <td>100</td>\n",
              "      <td>100</td>\n",
              "      <td>16.961130</td>\n",
              "      <td>600000.0</td>\n",
              "      <td>600000</td>\n",
              "      <td>6.493333</td>\n",
              "      <td>781.266667</td>\n",
              "      <td>24150.133333</td>\n",
              "      <td>2404.746667</td>\n",
              "    </tr>\n",
              "    <tr>\n",
              "      <th>2</th>\n",
              "      <td>379</td>\n",
              "      <td>51</td>\n",
              "      <td>1</td>\n",
              "      <td>1</td>\n",
              "      <td>9</td>\n",
              "      <td>3</td>\n",
              "      <td>169.0</td>\n",
              "      <td>40</td>\n",
              "      <td>1100.0</td>\n",
              "      <td>81</td>\n",
              "      <td>9</td>\n",
              "      <td>23.668638</td>\n",
              "      <td>379000.0</td>\n",
              "      <td>379000</td>\n",
              "      <td>6.493333</td>\n",
              "      <td>781.266667</td>\n",
              "      <td>24150.133333</td>\n",
              "      <td>2404.746667</td>\n",
              "    </tr>\n",
              "    <tr>\n",
              "      <th>3</th>\n",
              "      <td>651</td>\n",
              "      <td>55</td>\n",
              "      <td>1</td>\n",
              "      <td>0</td>\n",
              "      <td>22</td>\n",
              "      <td>22</td>\n",
              "      <td>1100.0</td>\n",
              "      <td>-54</td>\n",
              "      <td>1000.0</td>\n",
              "      <td>484</td>\n",
              "      <td>484</td>\n",
              "      <td>-4.909091</td>\n",
              "      <td>651000.0</td>\n",
              "      <td>651000</td>\n",
              "      <td>6.493333</td>\n",
              "      <td>781.266667</td>\n",
              "      <td>24150.133333</td>\n",
              "      <td>2404.746667</td>\n",
              "    </tr>\n",
              "    <tr>\n",
              "      <th>4</th>\n",
              "      <td>497</td>\n",
              "      <td>44</td>\n",
              "      <td>1</td>\n",
              "      <td>1</td>\n",
              "      <td>8</td>\n",
              "      <td>6</td>\n",
              "      <td>351.0</td>\n",
              "      <td>28</td>\n",
              "      <td>387.0</td>\n",
              "      <td>64</td>\n",
              "      <td>36</td>\n",
              "      <td>7.977208</td>\n",
              "      <td>497000.0</td>\n",
              "      <td>497000</td>\n",
              "      <td>6.493333</td>\n",
              "      <td>781.266667</td>\n",
              "      <td>24150.133333</td>\n",
              "      <td>2404.746667</td>\n",
              "    </tr>\n",
              "    <tr>\n",
              "      <th>...</th>\n",
              "      <td>...</td>\n",
              "      <td>...</td>\n",
              "      <td>...</td>\n",
              "      <td>...</td>\n",
              "      <td>...</td>\n",
              "      <td>...</td>\n",
              "      <td>...</td>\n",
              "      <td>...</td>\n",
              "      <td>...</td>\n",
              "      <td>...</td>\n",
              "      <td>...</td>\n",
              "      <td>...</td>\n",
              "      <td>...</td>\n",
              "      <td>...</td>\n",
              "      <td>...</td>\n",
              "      <td>...</td>\n",
              "      <td>...</td>\n",
              "      <td>...</td>\n",
              "    </tr>\n",
              "    <tr>\n",
              "      <th>162</th>\n",
              "      <td>1268</td>\n",
              "      <td>47</td>\n",
              "      <td>1</td>\n",
              "      <td>0</td>\n",
              "      <td>20</td>\n",
              "      <td>4</td>\n",
              "      <td>1100.0</td>\n",
              "      <td>47</td>\n",
              "      <td>2500.0</td>\n",
              "      <td>400</td>\n",
              "      <td>16</td>\n",
              "      <td>4.272727</td>\n",
              "      <td>1268000.0</td>\n",
              "      <td>1268000</td>\n",
              "      <td>6.493333</td>\n",
              "      <td>781.266667</td>\n",
              "      <td>24150.133333</td>\n",
              "      <td>2404.746667</td>\n",
              "    </tr>\n",
              "    <tr>\n",
              "      <th>164</th>\n",
              "      <td>693</td>\n",
              "      <td>46</td>\n",
              "      <td>1</td>\n",
              "      <td>1</td>\n",
              "      <td>7</td>\n",
              "      <td>3</td>\n",
              "      <td>2200.0</td>\n",
              "      <td>44</td>\n",
              "      <td>533.0</td>\n",
              "      <td>49</td>\n",
              "      <td>9</td>\n",
              "      <td>2.000000</td>\n",
              "      <td>693000.0</td>\n",
              "      <td>693000</td>\n",
              "      <td>6.493333</td>\n",
              "      <td>781.266667</td>\n",
              "      <td>24150.133333</td>\n",
              "      <td>2404.746667</td>\n",
              "    </tr>\n",
              "    <tr>\n",
              "      <th>165</th>\n",
              "      <td>369</td>\n",
              "      <td>49</td>\n",
              "      <td>1</td>\n",
              "      <td>1</td>\n",
              "      <td>4</td>\n",
              "      <td>1</td>\n",
              "      <td>65.0</td>\n",
              "      <td>-132</td>\n",
              "      <td>1200.0</td>\n",
              "      <td>16</td>\n",
              "      <td>1</td>\n",
              "      <td>-203.076920</td>\n",
              "      <td>369000.0</td>\n",
              "      <td>369000</td>\n",
              "      <td>6.493333</td>\n",
              "      <td>781.266667</td>\n",
              "      <td>24150.133333</td>\n",
              "      <td>2404.746667</td>\n",
              "    </tr>\n",
              "    <tr>\n",
              "      <th>166</th>\n",
              "      <td>381</td>\n",
              "      <td>54</td>\n",
              "      <td>1</td>\n",
              "      <td>0</td>\n",
              "      <td>30</td>\n",
              "      <td>2</td>\n",
              "      <td>2700.0</td>\n",
              "      <td>386</td>\n",
              "      <td>4500.0</td>\n",
              "      <td>900</td>\n",
              "      <td>4</td>\n",
              "      <td>14.296296</td>\n",
              "      <td>381000.0</td>\n",
              "      <td>381000</td>\n",
              "      <td>6.493333</td>\n",
              "      <td>781.266667</td>\n",
              "      <td>24150.133333</td>\n",
              "      <td>2404.746667</td>\n",
              "    </tr>\n",
              "    <tr>\n",
              "      <th>167</th>\n",
              "      <td>467</td>\n",
              "      <td>49</td>\n",
              "      <td>1</td>\n",
              "      <td>1</td>\n",
              "      <td>13</td>\n",
              "      <td>0</td>\n",
              "      <td>513.0</td>\n",
              "      <td>49</td>\n",
              "      <td>534.0</td>\n",
              "      <td>169</td>\n",
              "      <td>0</td>\n",
              "      <td>9.551657</td>\n",
              "      <td>467000.0</td>\n",
              "      <td>467000</td>\n",
              "      <td>6.493333</td>\n",
              "      <td>781.266667</td>\n",
              "      <td>24150.133333</td>\n",
              "      <td>2404.746667</td>\n",
              "    </tr>\n",
              "  </tbody>\n",
              "</table>\n",
              "<p>75 rows × 18 columns</p>\n",
              "</div>\n",
              "    <div class=\"colab-df-buttons\">\n",
              "\n",
              "  <div class=\"colab-df-container\">\n",
              "    <button class=\"colab-df-convert\" onclick=\"convertToInteractive('df-9559b162-b83c-47b9-a7b6-cbaee82011f3')\"\n",
              "            title=\"Convert this dataframe to an interactive table.\"\n",
              "            style=\"display:none;\">\n",
              "\n",
              "  <svg xmlns=\"http://www.w3.org/2000/svg\" height=\"24px\" viewBox=\"0 -960 960 960\">\n",
              "    <path d=\"M120-120v-720h720v720H120Zm60-500h600v-160H180v160Zm220 220h160v-160H400v160Zm0 220h160v-160H400v160ZM180-400h160v-160H180v160Zm440 0h160v-160H620v160ZM180-180h160v-160H180v160Zm440 0h160v-160H620v160Z\"/>\n",
              "  </svg>\n",
              "    </button>\n",
              "\n",
              "  <style>\n",
              "    .colab-df-container {\n",
              "      display:flex;\n",
              "      gap: 12px;\n",
              "    }\n",
              "\n",
              "    .colab-df-convert {\n",
              "      background-color: #E8F0FE;\n",
              "      border: none;\n",
              "      border-radius: 50%;\n",
              "      cursor: pointer;\n",
              "      display: none;\n",
              "      fill: #1967D2;\n",
              "      height: 32px;\n",
              "      padding: 0 0 0 0;\n",
              "      width: 32px;\n",
              "    }\n",
              "\n",
              "    .colab-df-convert:hover {\n",
              "      background-color: #E2EBFA;\n",
              "      box-shadow: 0px 1px 2px rgba(60, 64, 67, 0.3), 0px 1px 3px 1px rgba(60, 64, 67, 0.15);\n",
              "      fill: #174EA6;\n",
              "    }\n",
              "\n",
              "    .colab-df-buttons div {\n",
              "      margin-bottom: 4px;\n",
              "    }\n",
              "\n",
              "    [theme=dark] .colab-df-convert {\n",
              "      background-color: #3B4455;\n",
              "      fill: #D2E3FC;\n",
              "    }\n",
              "\n",
              "    [theme=dark] .colab-df-convert:hover {\n",
              "      background-color: #434B5C;\n",
              "      box-shadow: 0px 1px 3px 1px rgba(0, 0, 0, 0.15);\n",
              "      filter: drop-shadow(0px 1px 2px rgba(0, 0, 0, 0.3));\n",
              "      fill: #FFFFFF;\n",
              "    }\n",
              "  </style>\n",
              "\n",
              "    <script>\n",
              "      const buttonEl =\n",
              "        document.querySelector('#df-9559b162-b83c-47b9-a7b6-cbaee82011f3 button.colab-df-convert');\n",
              "      buttonEl.style.display =\n",
              "        google.colab.kernel.accessAllowed ? 'block' : 'none';\n",
              "\n",
              "      async function convertToInteractive(key) {\n",
              "        const element = document.querySelector('#df-9559b162-b83c-47b9-a7b6-cbaee82011f3');\n",
              "        const dataTable =\n",
              "          await google.colab.kernel.invokeFunction('convertToInteractive',\n",
              "                                                    [key], {});\n",
              "        if (!dataTable) return;\n",
              "\n",
              "        const docLinkHtml = 'Like what you see? Visit the ' +\n",
              "          '<a target=\"_blank\" href=https://colab.research.google.com/notebooks/data_table.ipynb>data table notebook</a>'\n",
              "          + ' to learn more about interactive tables.';\n",
              "        element.innerHTML = '';\n",
              "        dataTable['output_type'] = 'display_data';\n",
              "        await google.colab.output.renderOutput(dataTable, element);\n",
              "        const docLink = document.createElement('div');\n",
              "        docLink.innerHTML = docLinkHtml;\n",
              "        element.appendChild(docLink);\n",
              "      }\n",
              "    </script>\n",
              "  </div>\n",
              "\n",
              "\n",
              "<div id=\"df-6392536f-8b36-4580-ab61-87a934a7bc41\">\n",
              "  <button class=\"colab-df-quickchart\" onclick=\"quickchart('df-6392536f-8b36-4580-ab61-87a934a7bc41')\"\n",
              "            title=\"Suggest charts\"\n",
              "            style=\"display:none;\">\n",
              "\n",
              "<svg xmlns=\"http://www.w3.org/2000/svg\" height=\"24px\"viewBox=\"0 0 24 24\"\n",
              "     width=\"24px\">\n",
              "    <g>\n",
              "        <path d=\"M19 3H5c-1.1 0-2 .9-2 2v14c0 1.1.9 2 2 2h14c1.1 0 2-.9 2-2V5c0-1.1-.9-2-2-2zM9 17H7v-7h2v7zm4 0h-2V7h2v10zm4 0h-2v-4h2v4z\"/>\n",
              "    </g>\n",
              "</svg>\n",
              "  </button>\n",
              "\n",
              "<style>\n",
              "  .colab-df-quickchart {\n",
              "      --bg-color: #E8F0FE;\n",
              "      --fill-color: #1967D2;\n",
              "      --hover-bg-color: #E2EBFA;\n",
              "      --hover-fill-color: #174EA6;\n",
              "      --disabled-fill-color: #AAA;\n",
              "      --disabled-bg-color: #DDD;\n",
              "  }\n",
              "\n",
              "  [theme=dark] .colab-df-quickchart {\n",
              "      --bg-color: #3B4455;\n",
              "      --fill-color: #D2E3FC;\n",
              "      --hover-bg-color: #434B5C;\n",
              "      --hover-fill-color: #FFFFFF;\n",
              "      --disabled-bg-color: #3B4455;\n",
              "      --disabled-fill-color: #666;\n",
              "  }\n",
              "\n",
              "  .colab-df-quickchart {\n",
              "    background-color: var(--bg-color);\n",
              "    border: none;\n",
              "    border-radius: 50%;\n",
              "    cursor: pointer;\n",
              "    display: none;\n",
              "    fill: var(--fill-color);\n",
              "    height: 32px;\n",
              "    padding: 0;\n",
              "    width: 32px;\n",
              "  }\n",
              "\n",
              "  .colab-df-quickchart:hover {\n",
              "    background-color: var(--hover-bg-color);\n",
              "    box-shadow: 0 1px 2px rgba(60, 64, 67, 0.3), 0 1px 3px 1px rgba(60, 64, 67, 0.15);\n",
              "    fill: var(--button-hover-fill-color);\n",
              "  }\n",
              "\n",
              "  .colab-df-quickchart-complete:disabled,\n",
              "  .colab-df-quickchart-complete:disabled:hover {\n",
              "    background-color: var(--disabled-bg-color);\n",
              "    fill: var(--disabled-fill-color);\n",
              "    box-shadow: none;\n",
              "  }\n",
              "\n",
              "  .colab-df-spinner {\n",
              "    border: 2px solid var(--fill-color);\n",
              "    border-color: transparent;\n",
              "    border-bottom-color: var(--fill-color);\n",
              "    animation:\n",
              "      spin 1s steps(1) infinite;\n",
              "  }\n",
              "\n",
              "  @keyframes spin {\n",
              "    0% {\n",
              "      border-color: transparent;\n",
              "      border-bottom-color: var(--fill-color);\n",
              "      border-left-color: var(--fill-color);\n",
              "    }\n",
              "    20% {\n",
              "      border-color: transparent;\n",
              "      border-left-color: var(--fill-color);\n",
              "      border-top-color: var(--fill-color);\n",
              "    }\n",
              "    30% {\n",
              "      border-color: transparent;\n",
              "      border-left-color: var(--fill-color);\n",
              "      border-top-color: var(--fill-color);\n",
              "      border-right-color: var(--fill-color);\n",
              "    }\n",
              "    40% {\n",
              "      border-color: transparent;\n",
              "      border-right-color: var(--fill-color);\n",
              "      border-top-color: var(--fill-color);\n",
              "    }\n",
              "    60% {\n",
              "      border-color: transparent;\n",
              "      border-right-color: var(--fill-color);\n",
              "    }\n",
              "    80% {\n",
              "      border-color: transparent;\n",
              "      border-right-color: var(--fill-color);\n",
              "      border-bottom-color: var(--fill-color);\n",
              "    }\n",
              "    90% {\n",
              "      border-color: transparent;\n",
              "      border-bottom-color: var(--fill-color);\n",
              "    }\n",
              "  }\n",
              "</style>\n",
              "\n",
              "  <script>\n",
              "    async function quickchart(key) {\n",
              "      const quickchartButtonEl =\n",
              "        document.querySelector('#' + key + ' button');\n",
              "      quickchartButtonEl.disabled = true;  // To prevent multiple clicks.\n",
              "      quickchartButtonEl.classList.add('colab-df-spinner');\n",
              "      try {\n",
              "        const charts = await google.colab.kernel.invokeFunction(\n",
              "            'suggestCharts', [key], {});\n",
              "      } catch (error) {\n",
              "        console.error('Error during call to suggestCharts:', error);\n",
              "      }\n",
              "      quickchartButtonEl.classList.remove('colab-df-spinner');\n",
              "      quickchartButtonEl.classList.add('colab-df-quickchart-complete');\n",
              "    }\n",
              "    (() => {\n",
              "      let quickchartButtonEl =\n",
              "        document.querySelector('#df-6392536f-8b36-4580-ab61-87a934a7bc41 button');\n",
              "      quickchartButtonEl.style.display =\n",
              "        google.colab.kernel.accessAllowed ? 'block' : 'none';\n",
              "    })();\n",
              "  </script>\n",
              "</div>\n",
              "\n",
              "  <div id=\"id_9b7c22f1-c512-4ac1-8a64-150a09aa1cca\">\n",
              "    <style>\n",
              "      .colab-df-generate {\n",
              "        background-color: #E8F0FE;\n",
              "        border: none;\n",
              "        border-radius: 50%;\n",
              "        cursor: pointer;\n",
              "        display: none;\n",
              "        fill: #1967D2;\n",
              "        height: 32px;\n",
              "        padding: 0 0 0 0;\n",
              "        width: 32px;\n",
              "      }\n",
              "\n",
              "      .colab-df-generate:hover {\n",
              "        background-color: #E2EBFA;\n",
              "        box-shadow: 0px 1px 2px rgba(60, 64, 67, 0.3), 0px 1px 3px 1px rgba(60, 64, 67, 0.15);\n",
              "        fill: #174EA6;\n",
              "      }\n",
              "\n",
              "      [theme=dark] .colab-df-generate {\n",
              "        background-color: #3B4455;\n",
              "        fill: #D2E3FC;\n",
              "      }\n",
              "\n",
              "      [theme=dark] .colab-df-generate:hover {\n",
              "        background-color: #434B5C;\n",
              "        box-shadow: 0px 1px 3px 1px rgba(0, 0, 0, 0.15);\n",
              "        filter: drop-shadow(0px 1px 2px rgba(0, 0, 0, 0.3));\n",
              "        fill: #FFFFFF;\n",
              "      }\n",
              "    </style>\n",
              "    <button class=\"colab-df-generate\" onclick=\"generateWithVariable('CEOSAL')\"\n",
              "            title=\"Generate code using this dataframe.\"\n",
              "            style=\"display:none;\">\n",
              "\n",
              "  <svg xmlns=\"http://www.w3.org/2000/svg\" height=\"24px\"viewBox=\"0 0 24 24\"\n",
              "       width=\"24px\">\n",
              "    <path d=\"M7,19H8.4L18.45,9,17,7.55,7,17.6ZM5,21V16.75L18.45,3.32a2,2,0,0,1,2.83,0l1.4,1.43a1.91,1.91,0,0,1,.58,1.4,1.91,1.91,0,0,1-.58,1.4L9.25,21ZM18.45,9,17,7.55Zm-12,3A5.31,5.31,0,0,0,4.9,8.1,5.31,5.31,0,0,0,1,6.5,5.31,5.31,0,0,0,4.9,4.9,5.31,5.31,0,0,0,6.5,1,5.31,5.31,0,0,0,8.1,4.9,5.31,5.31,0,0,0,12,6.5,5.46,5.46,0,0,0,6.5,12Z\"/>\n",
              "  </svg>\n",
              "    </button>\n",
              "    <script>\n",
              "      (() => {\n",
              "      const buttonEl =\n",
              "        document.querySelector('#id_9b7c22f1-c512-4ac1-8a64-150a09aa1cca button.colab-df-generate');\n",
              "      buttonEl.style.display =\n",
              "        google.colab.kernel.accessAllowed ? 'block' : 'none';\n",
              "\n",
              "      buttonEl.onclick = () => {\n",
              "        google.colab.notebook.generateWithVariable('CEOSAL');\n",
              "      }\n",
              "      })();\n",
              "    </script>\n",
              "  </div>\n",
              "\n",
              "    </div>\n",
              "  </div>\n"
            ]
          },
          "metadata": {},
          "execution_count": 21
        }
      ]
    },
    {
      "cell_type": "markdown",
      "source": [
        "# b1"
      ],
      "metadata": {
        "id": "8MvKWLW0kQJi"
      }
    },
    {
      "cell_type": "code",
      "source": [
        "CEOSAL['b1'] = CEOSAL['XX_YY']/CEOSAL['XX2']\n",
        "CEOSAL['b1'].describe()"
      ],
      "metadata": {
        "colab": {
          "base_uri": "https://localhost:8080/"
        },
        "id": "SCS70nVIkTjX",
        "outputId": "8b4d92b6-cb4d-45c6-9291-6cbd3bdb3722"
      },
      "execution_count": 22,
      "outputs": [
        {
          "output_type": "execute_result",
          "data": {
            "text/plain": [
              "count    7.500000e+01\n",
              "mean     1.004269e+01\n",
              "std      1.788319e-15\n",
              "min      1.004269e+01\n",
              "25%      1.004269e+01\n",
              "50%      1.004269e+01\n",
              "75%      1.004269e+01\n",
              "max      1.004269e+01\n",
              "Name: b1, dtype: float64"
            ]
          },
          "metadata": {},
          "execution_count": 22
        }
      ]
    },
    {
      "cell_type": "code",
      "source": [
        "CEOSAL['b1']"
      ],
      "metadata": {
        "colab": {
          "base_uri": "https://localhost:8080/"
        },
        "id": "IZ7qxEVFq9NZ",
        "outputId": "92f46fc5-4637-419f-bbfd-9e8bb2f9cab5"
      },
      "execution_count": 24,
      "outputs": [
        {
          "output_type": "execute_result",
          "data": {
            "text/plain": [
              "0      10.042693\n",
              "1      10.042693\n",
              "2      10.042693\n",
              "3      10.042693\n",
              "4      10.042693\n",
              "         ...    \n",
              "162    10.042693\n",
              "164    10.042693\n",
              "165    10.042693\n",
              "166    10.042693\n",
              "167    10.042693\n",
              "Name: b1, Length: 75, dtype: float64"
            ]
          },
          "metadata": {},
          "execution_count": 24
        }
      ]
    },
    {
      "cell_type": "markdown",
      "source": [
        "# b0"
      ],
      "metadata": {
        "id": "cb_dFocjofC5"
      }
    },
    {
      "cell_type": "code",
      "source": [
        "CEOSAL['b0'] = CEOSAL['Ybar']-CEOSAL['b1'] * CEOSAL['Xbar']\n",
        "CEOSAL['b0'].describe()"
      ],
      "metadata": {
        "colab": {
          "base_uri": "https://localhost:8080/"
        },
        "id": "RfTQd5HQm5dO",
        "outputId": "e0774551-3af8-4c06-a2f8-528aa09c08c0"
      },
      "execution_count": 25,
      "outputs": [
        {
          "output_type": "execute_result",
          "data": {
            "text/plain": [
              "count    7.500000e+01\n",
              "mean     7.160561e+02\n",
              "std      1.144524e-13\n",
              "min      7.160561e+02\n",
              "25%      7.160561e+02\n",
              "50%      7.160561e+02\n",
              "75%      7.160561e+02\n",
              "max      7.160561e+02\n",
              "Name: b0, dtype: float64"
            ]
          },
          "metadata": {},
          "execution_count": 25
        }
      ]
    },
    {
      "cell_type": "markdown",
      "source": [
        "# yhat"
      ],
      "metadata": {
        "id": "5xEqz2Z4ohln"
      }
    },
    {
      "cell_type": "code",
      "source": [
        "CEOSAL['yhat'] = CEOSAL['b0'] + CEOSAL['b1'] * CEOSAL['ceoten']\n",
        "CEOSAL['yhat']"
      ],
      "metadata": {
        "colab": {
          "base_uri": "https://localhost:8080/"
        },
        "id": "KsOBQHeuowDu",
        "outputId": "92a2e637-cbb6-4c55-eb39-9ebb0a8c523b"
      },
      "execution_count": 26,
      "outputs": [
        {
          "output_type": "execute_result",
          "data": {
            "text/plain": [
              "0      736.141498\n",
              "1      816.483045\n",
              "2      746.184191\n",
              "3      936.995365\n",
              "4      776.312271\n",
              "          ...    \n",
              "162    756.226885\n",
              "164    746.184191\n",
              "165    726.098805\n",
              "166    736.141498\n",
              "167    716.056111\n",
              "Name: yhat, Length: 75, dtype: float64"
            ]
          },
          "metadata": {},
          "execution_count": 26
        }
      ]
    },
    {
      "cell_type": "markdown",
      "source": [
        "# yhat plot"
      ],
      "metadata": {
        "id": "-vWCjK_EpVd4"
      }
    },
    {
      "cell_type": "code",
      "source": [
        "sns.regplot(x='ceoten',\n",
        "            y='salary',\n",
        "            data=CEOSAL,\n",
        "            ci=None)\n",
        "\n",
        "plt.scatter(CEOSAL['ceoten'],\n",
        "            CEOSAL['yhat'],\n",
        "            color='red',\n",
        "            label='Red Dots')\n",
        "\n",
        "plt.show()"
      ],
      "metadata": {
        "colab": {
          "base_uri": "https://localhost:8080/",
          "height": 449
        },
        "id": "5kGw7T8apUOW",
        "outputId": "4b49639b-507c-46c4-f09d-ea3d5ae59a5d"
      },
      "execution_count": 27,
      "outputs": [
        {
          "output_type": "display_data",
          "data": {
            "text/plain": [
              "<Figure size 640x480 with 1 Axes>"
            ],
            "image/png": "[encoded data removed]"
          },
          "metadata": {}
        }
      ]
    },
    {
      "cell_type": "markdown",
      "source": [
        "# uhat"
      ],
      "metadata": {
        "id": "yY14G0z-kJi-"
      }
    },
    {
      "cell_type": "code",
      "source": [
        "CEOSAL['uhat'] = CEOSAL['salary'] - CEOSAL['yhat']\n",
        "\n",
        "CEOSAL['uhat'].describe()"
      ],
      "metadata": {
        "colab": {
          "base_uri": "https://localhost:8080/"
        },
        "id": "FrNpR0xyp991",
        "outputId": "b13e7e46-8eda-4f23-f7ae-a7aa1788d08b"
      },
      "execution_count": 28,
      "outputs": [
        {
          "output_type": "execute_result",
          "data": {
            "text/plain": [
              "count    7.500000e+01\n",
              "mean     6.063298e-15\n",
              "std      4.813403e+02\n",
              "min     -5.503977e+02\n",
              "25%     -3.561202e+02\n",
              "50%     -1.512269e+02\n",
              "75%      2.536450e+02\n",
              "max      1.965474e+03\n",
              "Name: uhat, dtype: float64"
            ]
          },
          "metadata": {},
          "execution_count": 28
        }
      ]
    },
    {
      "cell_type": "markdown",
      "source": [
        "# Regression equation"
      ],
      "metadata": {
        "id": "6yhc4OfoheJR"
      }
    },
    {
      "cell_type": "markdown",
      "source": [
        "$$\n",
        "\\hat{\\text{salary}} = 716.05 + 10.04 \\cdot \\text{ceoten} \\\\\n",
        "\\hspace{1pt} (85.14) \\hspace{10pt} (9.88)\n",
        "$$"
      ],
      "metadata": {
        "id": "aM2YdE3dgM1o"
      }
    }
  ]
}