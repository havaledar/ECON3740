{
  "nbformat": 4,
  "nbformat_minor": 0,
  "metadata": {
    "colab": {
      "provenance": [],
      "authorship_tag": "ABX9TyPNf6bjc2DpOr05faWAv4Gb",
      "include_colab_link": true
    },
    "kernelspec": {
      "name": "python3",
      "display_name": "Python 3"
    },
    "language_info": {
      "name": "python"
    }
  },
  "cells": [
    {
      "cell_type": "markdown",
      "metadata": {
        "id": "view-in-github",
        "colab_type": "text"
      },
      "source": [
        "<a href=\"https://colab.research.google.com/github/havaledar/ECON3740/blob/main/W24_ECON3740_Lab_6.ipynb\" target=\"_parent\"><img src=\"https://colab.research.google.com/assets/colab-badge.svg\" alt=\"Open In Colab\"/></a>"
      ]
    },
    {
      "cell_type": "markdown",
      "metadata": {
        "id": "MhTM0yE_ijf2"
      },
      "source": [
        "# Libraries"
      ]
    },
    {
      "cell_type": "code",
      "execution_count": 1,
      "metadata": {
        "id": "bOE0A7_id97m"
      },
      "outputs": [],
      "source": [
        "# !pip install gdown > /dev/null 2>&1\n",
        "!pip install stargazer > /dev/null 2>&1\n",
        "\n",
        "\n",
        "import gdown\n",
        "import pandas as pd\n",
        "import statsmodels.formula.api as smf\n",
        "from stargazer.stargazer import Stargazer"
      ]
    },
    {
      "cell_type": "markdown",
      "metadata": {
        "id": "-i95kXnqvTd_"
      },
      "source": [
        "# Question 1"
      ]
    },
    {
      "cell_type": "markdown",
      "metadata": {
        "id": "44T9aiuJwLeZ"
      },
      "source": [
        "## Reading data"
      ]
    },
    {
      "cell_type": "code",
      "execution_count": 2,
      "metadata": {
        "colab": {
          "base_uri": "https://localhost:8080/",
          "height": 0
        },
        "id": "cHNar4HxwM-8",
        "outputId": "c903c99c-8227-4fa4-ece3-46c29274f7e6"
      },
      "outputs": [
        {
          "output_type": "stream",
          "name": "stderr",
          "text": [
            "Downloading...\n",
            "From: https://drive.google.com/uc?id=1FAfkh6Pr6J3CRCLs8ql8QMCa1309fcEU\n",
            "To: /content/ceosal.dta\n",
            "100%|██████████| 13.9k/13.9k [00:00<00:00, 12.7MB/s]\n"
          ]
        },
        {
          "output_type": "execute_result",
          "data": {
            "text/plain": [
              "'ceosal.dta'"
            ],
            "application/vnd.google.colaboratory.intrinsic+json": {
              "type": "string"
            }
          },
          "metadata": {},
          "execution_count": 2
        }
      ],
      "source": [
        "url = 'https://drive.google.com/file/d/1FAfkh6Pr6J3CRCLs8ql8QMCa1309fcEU/view?usp=drive_link'\n",
        "output_filename = 'ceosal.dta'\n",
        "gdown.download(url, output_filename, fuzzy=True ,quiet=False)"
      ]
    },
    {
      "cell_type": "code",
      "execution_count": 3,
      "metadata": {
        "id": "_ZnddxunKgLH"
      },
      "outputs": [],
      "source": [
        "CEOSAL = pd.read_stata('/content/ceosal.dta', preserve_dtypes=False)"
      ]
    },
    {
      "cell_type": "code",
      "execution_count": 4,
      "metadata": {
        "colab": {
          "base_uri": "https://localhost:8080/"
        },
        "id": "kFlYq5gqwacZ",
        "outputId": "99c35266-52b5-472b-fd5e-845d2dcfa115"
      },
      "outputs": [
        {
          "output_type": "stream",
          "name": "stdout",
          "text": [
            "<class 'pandas.core.frame.DataFrame'>\n",
            "Int64Index: 175 entries, 0 to 174\n",
            "Data columns (total 13 columns):\n",
            " #   Column    Non-Null Count  Dtype  \n",
            "---  ------    --------------  -----  \n",
            " 0   salary    175 non-null    int64  \n",
            " 1   age       175 non-null    int64  \n",
            " 2   college   175 non-null    int64  \n",
            " 3   grad      175 non-null    int64  \n",
            " 4   comten    175 non-null    int64  \n",
            " 5   ceoten    175 non-null    int64  \n",
            " 6   sales     175 non-null    float64\n",
            " 7   profits   175 non-null    int64  \n",
            " 8   mktval    175 non-null    float64\n",
            " 9   comtensq  175 non-null    int64  \n",
            " 10  ceotensq  175 non-null    int64  \n",
            " 11  profmarg  175 non-null    float64\n",
            " 12  nsal      175 non-null    float64\n",
            "dtypes: float64(4), int64(9)\n",
            "memory usage: 19.1 KB\n"
          ]
        }
      ],
      "source": [
        "CEOSAL.info()"
      ]
    },
    {
      "cell_type": "markdown",
      "metadata": {
        "id": "C7RizkzzyXBE"
      },
      "source": [
        "## Filtering the data"
      ]
    },
    {
      "cell_type": "code",
      "execution_count": 5,
      "metadata": {
        "id": "t-jQIkVgyY_s"
      },
      "outputs": [],
      "source": [
        "CEOSAL = CEOSAL[CEOSAL['age'] >50]"
      ]
    },
    {
      "cell_type": "markdown",
      "metadata": {
        "id": "r_RaAAwwwzNm"
      },
      "source": [
        "## Salary ~ Sales"
      ]
    },
    {
      "cell_type": "code",
      "execution_count": 6,
      "metadata": {
        "id": "bJW4BWXhwyiR"
      },
      "outputs": [],
      "source": [
        "m1 = smf.ols('salary ~ sales', CEOSAL)\n",
        "\n",
        "results_m1 = m1.fit()"
      ]
    },
    {
      "cell_type": "markdown",
      "metadata": {
        "id": "tS692DgMy385"
      },
      "source": [
        "## Salary ~ Sales + Market Value"
      ]
    },
    {
      "cell_type": "code",
      "execution_count": 7,
      "metadata": {
        "id": "uMKc349Sy39R"
      },
      "outputs": [],
      "source": [
        "m2 = smf.ols('salary ~ sales + mktval', CEOSAL)\n",
        "\n",
        "results_m2 = m2.fit()"
      ]
    },
    {
      "cell_type": "markdown",
      "metadata": {
        "id": "AvhH_cop18Qa"
      },
      "source": [
        "## Regression table"
      ]
    },
    {
      "cell_type": "code",
      "execution_count": 8,
      "metadata": {
        "id": "axggg23418Qb",
        "outputId": "7ee743a4-1d1c-41f8-d3a2-c090d49ae6c2",
        "colab": {
          "base_uri": "https://localhost:8080/",
          "height": 0
        }
      },
      "outputs": [
        {
          "output_type": "execute_result",
          "data": {
            "text/plain": [
              "<stargazer.stargazer.Stargazer at 0x7fb8ffcf12d0>"
            ],
            "text/html": [
              "<table style=\"text-align:center\"><tr><td colspan=\"3\" style=\"border-bottom: 1px solid black\"></td></tr>\n",
              "<tr><td style=\"text-align:left\"></td><td colspan=\"2\"><em>Dependent variable: salary</em></td></tr><tr><td style=\"text-align:left\"></td><tr><td style=\"text-align:left\"></td><td>(1)</td><td>(2)</td></tr>\n",
              "<tr><td colspan=\"3\" style=\"border-bottom: 1px solid black\"></td></tr>\n",
              "\n",
              "<tr><td style=\"text-align:left\">Intercept</td><td>708.289<sup>***</sup></td><td>687.753<sup>***</sup></td></tr>\n",
              "<tr><td style=\"text-align:left\"></td><td>(40.778)</td><td>(38.843)</td></tr>\n",
              "<tr><td style=\"text-align:left\">mktval</td><td></td><td>0.030<sup>***</sup></td></tr>\n",
              "<tr><td style=\"text-align:left\"></td><td></td><td>(0.007)</td></tr>\n",
              "<tr><td style=\"text-align:left\">sales</td><td>0.037<sup>***</sup></td><td>0.013<sup>*</sup></td></tr>\n",
              "<tr><td style=\"text-align:left\"></td><td>(0.005)</td><td>(0.008)</td></tr>\n",
              "\n",
              "<td colspan=\"3\" style=\"border-bottom: 1px solid black\"></td></tr>\n",
              "<tr><td style=\"text-align: left\">Observations</td><td>137</td><td>137</td></tr><tr><td style=\"text-align: left\">R<sup>2</sup></td><td>0.278</td><td>0.360</td></tr><tr><td style=\"text-align: left\">Adjusted R<sup>2</sup></td><td>0.272</td><td>0.351</td></tr><tr><td style=\"text-align: left\">Residual Std. Error</td><td>404.573 (df=135)</td><td>382.245 (df=134)</td></tr><tr><td style=\"text-align: left\">F Statistic</td><td>51.941<sup>***</sup> (df=1; 135)</td><td>37.709<sup>***</sup> (df=2; 134)</td></tr>\n",
              "<tr><td colspan=\"3\" style=\"border-bottom: 1px solid black\"></td></tr><tr><td style=\"text-align: left\">Note:</td><td colspan=\"2\" style=\"text-align: right\"><sup>*</sup>p&lt;0.1; <sup>**</sup>p&lt;0.05; <sup>***</sup>p&lt;0.01</td></tr></table>"
            ]
          },
          "metadata": {},
          "execution_count": 8
        }
      ],
      "source": [
        "Stargazer([results_m1, results_m2])"
      ]
    },
    {
      "cell_type": "markdown",
      "metadata": {
        "id": "afrk8R_F18Qb"
      },
      "source": [
        "# Question 2"
      ]
    },
    {
      "cell_type": "markdown",
      "metadata": {
        "id": "OHT-ZYM40wNR"
      },
      "source": [
        "## Salary ~ CEO Tenure + Sales + Market Value"
      ]
    },
    {
      "cell_type": "code",
      "execution_count": 9,
      "metadata": {
        "id": "BU2E0sdy0wNR"
      },
      "outputs": [],
      "source": [
        "m3 = smf.ols('salary ~ ceoten + sales + mktval', CEOSAL)\n",
        "\n",
        "results_m3 = m3.fit()"
      ]
    },
    {
      "cell_type": "markdown",
      "metadata": {
        "id": "flQthE1o8etY"
      },
      "source": [
        "## CEO Tenure ~ Sales + Market Value"
      ]
    },
    {
      "cell_type": "code",
      "execution_count": 10,
      "metadata": {
        "id": "gnd-vCmr8hVq"
      },
      "outputs": [],
      "source": [
        "m4 = smf.ols('ceoten ~ sales + mktval', CEOSAL)\n",
        "\n",
        "results_m4 = m4.fit()"
      ]
    },
    {
      "cell_type": "markdown",
      "metadata": {
        "id": "mHNz5N6718Qc"
      },
      "source": [
        "## Residuals"
      ]
    },
    {
      "cell_type": "code",
      "execution_count": 11,
      "metadata": {
        "id": "bhEikQyx94il",
        "colab": {
          "base_uri": "https://localhost:8080/"
        },
        "outputId": "93077155-c0fb-4915-dcb7-ad1f8dca1c9d"
      },
      "outputs": [
        {
          "output_type": "stream",
          "name": "stderr",
          "text": [
            "<ipython-input-11-5c87ea15e390>:1: SettingWithCopyWarning: \n",
            "A value is trying to be set on a copy of a slice from a DataFrame.\n",
            "Try using .loc[row_indexer,col_indexer] = value instead\n",
            "\n",
            "See the caveats in the documentation: https://pandas.pydata.org/pandas-docs/stable/user_guide/indexing.html#returning-a-view-versus-a-copy\n",
            "  CEOSAL['residuals'] = results_m4.resid\n"
          ]
        }
      ],
      "source": [
        "CEOSAL['residuals'] = results_m4.resid"
      ]
    },
    {
      "cell_type": "code",
      "execution_count": 12,
      "metadata": {
        "colab": {
          "base_uri": "https://localhost:8080/"
        },
        "id": "g5feEaFe_LqJ",
        "outputId": "7cdd34ca-4072-4a1e-bcd9-ed872e3434e6"
      },
      "outputs": [
        {
          "output_type": "execute_result",
          "data": {
            "text/plain": [
              "count    1.370000e+02\n",
              "mean    -8.816954e-16\n",
              "std      7.329537e+00\n",
              "min     -8.662236e+00\n",
              "25%     -5.317043e+00\n",
              "50%     -1.675540e+00\n",
              "75%      3.376666e+00\n",
              "max      2.848864e+01\n",
              "Name: residuals, dtype: float64"
            ]
          },
          "metadata": {},
          "execution_count": 12
        }
      ],
      "source": [
        "CEOSAL['residuals'].describe()"
      ]
    },
    {
      "cell_type": "markdown",
      "metadata": {
        "id": "xt7aWOsO18Qc"
      },
      "source": [
        "## Salary ~ Residuals"
      ]
    },
    {
      "cell_type": "code",
      "execution_count": 13,
      "metadata": {
        "colab": {
          "base_uri": "https://localhost:8080/",
          "height": 0
        },
        "id": "egDZegfw_URm",
        "outputId": "cea24b1f-1601-4dbd-f06f-aafddffaa279"
      },
      "outputs": [
        {
          "output_type": "execute_result",
          "data": {
            "text/plain": [
              "<stargazer.stargazer.Stargazer at 0x7fb8c86553f0>"
            ],
            "text/html": [
              "<table style=\"text-align:center\"><tr><td colspan=\"4\" style=\"border-bottom: 1px solid black\"></td></tr>\n",
              "<tr><td style=\"text-align:left\"></td><tr><td style=\"text-align:left\"></td><td>(1)</td><td>(2)</td><td>(3)</td></tr>\n",
              "<tr><td colspan=\"4\" style=\"border-bottom: 1px solid black\"></td></tr>\n",
              "\n",
              "<tr><td style=\"text-align:left\">Intercept</td><td>588.782<sup>***</sup></td><td>8.587<sup>***</sup></td><td>864.212<sup>***</sup></td></tr>\n",
              "<tr><td style=\"text-align:left\"></td><td>(53.450)</td><td>(0.750)</td><td>(40.024)</td></tr>\n",
              "<tr><td style=\"text-align:left\">ceoten</td><td>11.525<sup>***</sup></td><td></td><td></td></tr>\n",
              "<tr><td style=\"text-align:left\"></td><td>(4.376)</td><td></td><td></td></tr>\n",
              "<tr><td style=\"text-align:left\">mktval</td><td>0.029<sup>***</sup></td><td>0.000<sup></sup></td><td></td></tr>\n",
              "<tr><td style=\"text-align:left\"></td><td>(0.007)</td><td>(0.000)</td><td></td></tr>\n",
              "<tr><td style=\"text-align:left\">residuals</td><td></td><td></td><td>11.525<sup>**</sup></td></tr>\n",
              "<tr><td style=\"text-align:left\"></td><td></td><td></td><td>(5.481)</td></tr>\n",
              "<tr><td style=\"text-align:left\">sales</td><td>0.016<sup>**</sup></td><td>-0.000<sup></sup></td><td></td></tr>\n",
              "<tr><td style=\"text-align:left\"></td><td>(0.007)</td><td>(0.000)</td><td></td></tr>\n",
              "\n",
              "<td colspan=\"4\" style=\"border-bottom: 1px solid black\"></td></tr>\n",
              "<tr><td style=\"text-align: left\">Observations</td><td>137</td><td>137</td><td>137</td></tr><tr><td style=\"text-align: left\">R<sup>2</sup></td><td>0.392</td><td>0.019</td><td>0.032</td></tr><tr><td style=\"text-align: left\">Adjusted R<sup>2</sup></td><td>0.378</td><td>0.004</td><td>0.025</td></tr><tr><td style=\"text-align: left\">Residual Std. Error</td><td>374.049 (df=133)</td><td>7.384 (df=134)</td><td>468.471 (df=135)</td></tr><tr><td style=\"text-align: left\">F Statistic</td><td>28.565<sup>***</sup> (df=3; 133)</td><td>1.264<sup></sup> (df=2; 134)</td><td>4.422<sup>**</sup> (df=1; 135)</td></tr>\n",
              "<tr><td colspan=\"4\" style=\"border-bottom: 1px solid black\"></td></tr><tr><td style=\"text-align: left\">Note:</td><td colspan=\"3\" style=\"text-align: right\"><sup>*</sup>p&lt;0.1; <sup>**</sup>p&lt;0.05; <sup>***</sup>p&lt;0.01</td></tr></table>"
            ]
          },
          "metadata": {},
          "execution_count": 13
        }
      ],
      "source": [
        "m5 = smf.ols('salary ~ residuals', CEOSAL)\n",
        "\n",
        "results_m5 = m5.fit()\n",
        "\n",
        "Stargazer([results_m3, results_m4, results_m5])"
      ]
    },
    {
      "cell_type": "markdown",
      "metadata": {
        "id": "viR3bMbIwIs6"
      },
      "source": [
        "# Question 3"
      ]
    },
    {
      "cell_type": "markdown",
      "metadata": {
        "id": "Tyuc9iJYimGQ"
      },
      "source": [
        "## Reading data"
      ]
    },
    {
      "cell_type": "code",
      "execution_count": 14,
      "metadata": {
        "colab": {
          "base_uri": "https://localhost:8080/",
          "height": 0
        },
        "id": "T5Ix8u9PkBK1",
        "outputId": "d827fc5b-529f-48dd-9ac6-a31ecce34746"
      },
      "outputs": [
        {
          "output_type": "stream",
          "name": "stderr",
          "text": [
            "Downloading...\n",
            "From: https://drive.google.com/uc?id=1m0d9gZZBfHm7qGerKKLN7UzWaNUbQi0R\n",
            "To: /content/lfs.dta\n",
            "100%|██████████| 13.6M/13.6M [00:00<00:00, 106MB/s]\n"
          ]
        },
        {
          "output_type": "execute_result",
          "data": {
            "text/plain": [
              "'lfs.dta'"
            ],
            "application/vnd.google.colaboratory.intrinsic+json": {
              "type": "string"
            }
          },
          "metadata": {},
          "execution_count": 14
        }
      ],
      "source": [
        "url = 'https://drive.google.com/file/d/1m0d9gZZBfHm7qGerKKLN7UzWaNUbQi0R/view?usp=sharing'\n",
        "output_filename = 'lfs.dta'\n",
        "gdown.download(url, output_filename, fuzzy=True ,quiet=False)"
      ]
    },
    {
      "cell_type": "code",
      "execution_count": 15,
      "metadata": {
        "id": "gmtVfpKMiij7"
      },
      "outputs": [],
      "source": [
        "LFS = pd.read_stata('lfs.dta', convert_categoricals=True)"
      ]
    },
    {
      "cell_type": "code",
      "execution_count": 16,
      "metadata": {
        "colab": {
          "base_uri": "https://localhost:8080/"
        },
        "id": "KewsaRd1EhEr",
        "outputId": "9cea2331-523b-48b8-8dd3-30876e4d94c2"
      },
      "outputs": [
        {
          "output_type": "stream",
          "name": "stdout",
          "text": [
            "<class 'pandas.core.frame.DataFrame'>\n",
            "Int64Index: 103403 entries, 0 to 103402\n",
            "Data columns (total 60 columns):\n",
            " #   Column    Non-Null Count   Dtype   \n",
            "---  ------    --------------   -----   \n",
            " 0   REC_NUM   103403 non-null  int32   \n",
            " 1   SURVYEAR  103403 non-null  int16   \n",
            " 2   SURVMNTH  103403 non-null  category\n",
            " 3   LFSSTAT   103403 non-null  category\n",
            " 4   PROV      103403 non-null  category\n",
            " 5   CMA       103403 non-null  category\n",
            " 6   AGE_12    103403 non-null  category\n",
            " 7   AGE_6     19607 non-null   category\n",
            " 8   SEX       103403 non-null  category\n",
            " 9   MARSTAT   103403 non-null  category\n",
            " 10  EDUC      103403 non-null  category\n",
            " 11  MJH       61764 non-null   category\n",
            " 12  EVERWORK  41639 non-null   category\n",
            " 13  FTPTLAST  6518 non-null    category\n",
            " 14  COWMAIN   68282 non-null   category\n",
            " 15  IMMIG     103403 non-null  category\n",
            " 16  NAICS_21  68282 non-null   category\n",
            " 17  NOC_10    68282 non-null   category\n",
            " 18  NOC_43    68282 non-null   category\n",
            " 19  YABSENT   9358 non-null    category\n",
            " 20  WKSAWAY   9358 non-null    float64 \n",
            " 21  PAYAWAY   8652 non-null    category\n",
            " 22  UHRSMAIN  61764 non-null   float64 \n",
            " 23  AHRSMAIN  61764 non-null   float64 \n",
            " 24  FTPTMAIN  61764 non-null   category\n",
            " 25  UTOTHRS   61764 non-null   float64 \n",
            " 26  ATOTHRS   61764 non-null   float64 \n",
            " 27  HRSAWAY   45373 non-null   float64 \n",
            " 28  YAWAY     6697 non-null    category\n",
            " 29  PAIDOT    45373 non-null   float64 \n",
            " 30  UNPAIDOT  45373 non-null   float64 \n",
            " 31  XTRAHRS   45373 non-null   float64 \n",
            " 32  WHYPT     10154 non-null   category\n",
            " 33  TENURE    61764 non-null   float64 \n",
            " 34  PREVTEN   6518 non-null    float64 \n",
            " 35  HRLYEARN  53443 non-null   float64 \n",
            " 36  UNION     53443 non-null   category\n",
            " 37  PERMTEMP  53443 non-null   category\n",
            " 38  ESTSIZE   53443 non-null   category\n",
            " 39  FIRMSIZE  53443 non-null   category\n",
            " 40  DURUNEMP  3571 non-null    float64 \n",
            " 41  FLOWUNEM  4139 non-null    category\n",
            " 42  UNEMFTPT  4139 non-null    category\n",
            " 43  WHYLEFTO  6518 non-null    category\n",
            " 44  WHYLEFTN  6518 non-null    category\n",
            " 45  DURJLESS  35422 non-null   float64 \n",
            " 46  AVAILABL  4416 non-null    category\n",
            " 47  LKPUBAG   395 non-null     category\n",
            " 48  LKEMPLOY  1686 non-null    category\n",
            " 49  LKRELS    1093 non-null    category\n",
            " 50  LKATADS   2612 non-null    category\n",
            " 51  LKANSADS  1483 non-null    category\n",
            " 52  LKOTHERN  830 non-null     category\n",
            " 53  PRIORACT  3433 non-null    category\n",
            " 54  YNOLOOK   1226 non-null    category\n",
            " 55  TLOLOOK   138 non-null     category\n",
            " 56  SCHOOLN   76566 non-null   category\n",
            " 57  EFAMTYPE  103403 non-null  category\n",
            " 58  AGYOWNK   26565 non-null   category\n",
            " 59  FINALWT   103403 non-null  int16   \n",
            "dtypes: category(43), float64(14), int16(2), int32(1)\n",
            "memory usage: 16.9 MB\n"
          ]
        }
      ],
      "source": [
        "LFS.info()"
      ]
    },
    {
      "cell_type": "code",
      "execution_count": 17,
      "metadata": {
        "id": "7LiHD_oJ18Qe",
        "outputId": "a0e5e7c9-e26f-4c6c-afa2-47428fd8e683",
        "colab": {
          "base_uri": "https://localhost:8080/"
        }
      },
      "outputs": [
        {
          "output_type": "execute_result",
          "data": {
            "text/plain": [
              "(103403, 60)"
            ]
          },
          "metadata": {},
          "execution_count": 17
        }
      ],
      "source": [
        "LFS.shape"
      ]
    },
    {
      "cell_type": "code",
      "execution_count": 18,
      "metadata": {
        "id": "R9XFmaMpFIRe",
        "colab": {
          "base_uri": "https://localhost:8080/"
        },
        "outputId": "65dcd21b-5646-4d54-d912-7c12e60cc327"
      },
      "outputs": [
        {
          "output_type": "execute_result",
          "data": {
            "text/plain": [
              "{'REC_NUM': 'Order of record in file',\n",
              " 'SURVYEAR': 'Survey year',\n",
              " 'SURVMNTH': 'Survey month',\n",
              " 'LFSSTAT': 'Labour force status',\n",
              " 'PROV': 'Province',\n",
              " 'CMA': 'Nine largest CMAs',\n",
              " 'AGE_12': 'Five-year age group of respondent',\n",
              " 'AGE_6': 'Age in 2 and 3 year groups, 15 to 29',\n",
              " 'SEX': 'Sex of respondent',\n",
              " 'MARSTAT': 'Marital status of respondent',\n",
              " 'EDUC': 'Highest educational attainment',\n",
              " 'MJH': 'Single or multiple jobholder',\n",
              " 'EVERWORK': 'Not currently employed, worked in the past',\n",
              " 'FTPTLAST': 'Full- or part-time status of last job',\n",
              " 'COWMAIN': 'Class of worker, main job',\n",
              " 'IMMIG': 'Immigration status',\n",
              " 'NAICS_21': 'Industry of main job',\n",
              " 'NOC_10': 'Occupation at main job',\n",
              " 'NOC_43': 'Occupation at main job',\n",
              " 'YABSENT': 'Reason of absence, full week',\n",
              " 'WKSAWAY': 'Number of weeks absent from work',\n",
              " 'PAYAWAY': 'Paid for time off, full-week absence only',\n",
              " 'UHRSMAIN': 'Usual hours worked per week at main job',\n",
              " 'AHRSMAIN': 'Actual hours worked per week at main job',\n",
              " 'FTPTMAIN': 'Full- or part-time status at main or only job',\n",
              " 'UTOTHRS': 'Usual hours worked per week at all jobs',\n",
              " 'ATOTHRS': 'Actual hours worked per week at all jobs',\n",
              " 'HRSAWAY': 'Hours away from work, part-week absence only',\n",
              " 'YAWAY': 'Reason for part-week absence',\n",
              " 'PAIDOT': 'Paid overtime hours in reference week',\n",
              " 'UNPAIDOT': 'Unpaid overtime hours in reference week',\n",
              " 'XTRAHRS': 'Number of overtime or extra hours worked',\n",
              " 'WHYPT': 'Reason for part-time work',\n",
              " 'TENURE': 'Job tenure with current employer (months)',\n",
              " 'PREVTEN': 'Job tenure with previous employer (months)',\n",
              " 'HRLYEARN': 'Usual hourly wages, employees only',\n",
              " 'UNION': 'Union status, employees only',\n",
              " 'PERMTEMP': 'Job permanency, employees only',\n",
              " 'ESTSIZE': 'Establishment size',\n",
              " 'FIRMSIZE': 'Firm size',\n",
              " 'DURUNEMP': 'Duration of unemployment (weeks)',\n",
              " 'FLOWUNEM': 'Flows into unemployment',\n",
              " 'UNEMFTPT': 'Unemployed, type of job wanted',\n",
              " 'WHYLEFTO': 'Reason for leaving job during previous year',\n",
              " 'WHYLEFTN': 'Reason for leaving job during previous year',\n",
              " 'DURJLESS': 'Duration of joblessness (months)',\n",
              " 'AVAILABL': 'Availability during the reference week',\n",
              " 'LKPUBAG': 'Unemployed, used public employment agency',\n",
              " 'LKEMPLOY': 'Unemployed, checked with employers directly',\n",
              " 'LKRELS': 'Unemployed, checked with friends or relatives',\n",
              " 'LKATADS': 'Unemployed, looked at job ads',\n",
              " 'LKANSADS': 'Unemployed, placed or answered ads',\n",
              " 'LKOTHERN': 'Unemployed, other methods',\n",
              " 'PRIORACT': 'Main activity before started looking for work',\n",
              " 'YNOLOOK': 'Reason for not looking for work during the reference week',\n",
              " 'TLOLOOK': 'Temporary layoff, looked for work during the last four weeks',\n",
              " 'SCHOOLN': 'Current student status',\n",
              " 'EFAMTYPE': 'Type of economic family',\n",
              " 'AGYOWNK': 'Age of youngest child',\n",
              " 'FINALWT': 'Standard final weight'}"
            ]
          },
          "metadata": {},
          "execution_count": 18
        }
      ],
      "source": [
        "pd.read_stata('lfs.dta', iterator=True).variable_labels()"
      ]
    },
    {
      "cell_type": "markdown",
      "metadata": {
        "id": "MH3kCcLe18Qe"
      },
      "source": [
        "## Mean"
      ]
    },
    {
      "cell_type": "code",
      "execution_count": 19,
      "metadata": {
        "colab": {
          "base_uri": "https://localhost:8080/"
        },
        "id": "M2Ox5TLV11WK",
        "outputId": "8b6d2ad7-9fee-4f2c-bf6a-581ae93dbf29"
      },
      "outputs": [
        {
          "output_type": "execute_result",
          "data": {
            "text/plain": [
              "count    53443.000000\n",
              "mean        32.958818\n",
              "std         17.763025\n",
              "min          5.190000\n",
              "25%         20.000000\n",
              "50%         28.000000\n",
              "75%         41.000000\n",
              "max        197.440000\n",
              "Name: HRLYEARN, dtype: float64"
            ]
          },
          "metadata": {},
          "execution_count": 19
        }
      ],
      "source": [
        "LFS['HRLYEARN'].describe()"
      ]
    },
    {
      "cell_type": "markdown",
      "metadata": {
        "id": "YCG49b6P18Qe"
      },
      "source": [
        "## Filter"
      ]
    },
    {
      "cell_type": "code",
      "execution_count": 20,
      "metadata": {
        "id": "45_3Xr4Q18Qf"
      },
      "outputs": [],
      "source": [
        "LFS = LFS[LFS['HRLYEARN'] > 0]"
      ]
    },
    {
      "cell_type": "code",
      "execution_count": 21,
      "metadata": {
        "id": "cw_Ql_p118Qf",
        "outputId": "fa9060c4-0462-4796-ee1b-dfbab05dcac6",
        "colab": {
          "base_uri": "https://localhost:8080/"
        }
      },
      "outputs": [
        {
          "output_type": "execute_result",
          "data": {
            "text/plain": [
              "(53443, 60)"
            ]
          },
          "metadata": {},
          "execution_count": 21
        }
      ],
      "source": [
        "LFS.shape"
      ]
    },
    {
      "cell_type": "code",
      "execution_count": 22,
      "metadata": {
        "id": "IgU92gQGGk6w"
      },
      "outputs": [],
      "source": [
        "LFS = LFS[((LFS['COWMAIN'] == 'Private sector employees') |\n",
        "           (LFS['COWMAIN'] == 'Public sector employees')\n",
        "          )]"
      ]
    },
    {
      "cell_type": "code",
      "execution_count": 23,
      "metadata": {
        "id": "ftNzVdj718Qf",
        "outputId": "53a5f2ee-ba77-46e4-f255-638065cd1f47",
        "colab": {
          "base_uri": "https://localhost:8080/"
        }
      },
      "outputs": [
        {
          "output_type": "execute_result",
          "data": {
            "text/plain": [
              "(53361, 60)"
            ]
          },
          "metadata": {},
          "execution_count": 23
        }
      ],
      "source": [
        "LFS.shape"
      ]
    },
    {
      "cell_type": "code",
      "execution_count": 24,
      "metadata": {
        "collapsed": true,
        "id": "4CdQ0Gjf1AZX"
      },
      "outputs": [],
      "source": [
        "LFS_values = pd.read_stata('lfs.dta', convert_categoricals=False)"
      ]
    },
    {
      "cell_type": "code",
      "execution_count": 26,
      "metadata": {
        "colab": {
          "base_uri": "https://localhost:8080/",
          "height": 443
        },
        "id": "T3UyF9RN1QAZ",
        "outputId": "dc342394-3da0-4579-a4ad-ee9d05a3f969"
      },
      "outputs": [
        {
          "output_type": "execute_result",
          "data": {
            "text/plain": [
              "        REC_NUM  SURVYEAR  SURVMNTH  LFSSTAT  PROV  CMA  AGE_12  AGE_6  SEX  \\\n",
              "2             3      2023         8        1    13    0       1    2.0    1   \n",
              "5             6      2023         8        1    12    0       2    3.0    1   \n",
              "6             7      2023         8        1    10    0       7    NaN    1   \n",
              "8             9      2023         8        1    24    0       1    2.0    2   \n",
              "10           11      2023         8        1    59    0      10    NaN    1   \n",
              "...         ...       ...       ...      ...   ...  ...     ...    ...  ...   \n",
              "103396   103397      2023         8        1    35    4       8    NaN    1   \n",
              "103398   103399      2023         8        1    24    1       7    NaN    2   \n",
              "103400   103401      2023         8        1    46    0       3    5.0    2   \n",
              "103401   103402      2023         8        1    12    0       1    1.0    2   \n",
              "103402   103403      2023         8        1    35    0       6    NaN    2   \n",
              "\n",
              "        MARSTAT  ...  LKATADS  LKANSADS  LKOTHERN  PRIORACT  YNOLOOK  TLOLOOK  \\\n",
              "2             6  ...      NaN       NaN       NaN       NaN      NaN      NaN   \n",
              "5             6  ...      NaN       NaN       NaN       NaN      NaN      NaN   \n",
              "6             1  ...      NaN       NaN       NaN       NaN      NaN      NaN   \n",
              "8             6  ...      NaN       NaN       NaN       NaN      NaN      NaN   \n",
              "10            3  ...      NaN       NaN       NaN       NaN      NaN      NaN   \n",
              "...         ...  ...      ...       ...       ...       ...      ...      ...   \n",
              "103396        1  ...      NaN       NaN       NaN       NaN      NaN      NaN   \n",
              "103398        5  ...      NaN       NaN       NaN       NaN      NaN      NaN   \n",
              "103400        1  ...      NaN       NaN       NaN       NaN      NaN      NaN   \n",
              "103401        6  ...      NaN       NaN       NaN       NaN      NaN      NaN   \n",
              "103402        1  ...      NaN       NaN       NaN       NaN      NaN      NaN   \n",
              "\n",
              "        SCHOOLN  EFAMTYPE  AGYOWNK  FINALWT  \n",
              "2           1.0         9      NaN      156  \n",
              "5           2.0         1      NaN      320  \n",
              "6           1.0         3      2.0       23  \n",
              "8           1.0         3      NaN      106  \n",
              "10          1.0         1      NaN      311  \n",
              "...         ...       ...      ...      ...  \n",
              "103396      1.0         4      4.0      258  \n",
              "103398      1.0        15      4.0      320  \n",
              "103400      1.0         3      1.0       71  \n",
              "103401      1.0        14      NaN      240  \n",
              "103402      1.0         3      1.0      123  \n",
              "\n",
              "[53361 rows x 60 columns]"
            ],
            "text/html": [
              "\n",
              "  <div id=\"df-8aedcc41-e282-4938-994a-514b808cae55\" class=\"colab-df-container\">\n",
              "    <div>\n",
              "<style scoped>\n",
              "    .dataframe tbody tr th:only-of-type {\n",
              "        vertical-align: middle;\n",
              "    }\n",
              "\n",
              "    .dataframe tbody tr th {\n",
              "        vertical-align: top;\n",
              "    }\n",
              "\n",
              "    .dataframe thead th {\n",
              "        text-align: right;\n",
              "    }\n",
              "</style>\n",
              "<table border=\"1\" class=\"dataframe\">\n",
              "  <thead>\n",
              "    <tr style=\"text-align: right;\">\n",
              "      <th></th>\n",
              "      <th>REC_NUM</th>\n",
              "      <th>SURVYEAR</th>\n",
              "      <th>SURVMNTH</th>\n",
              "      <th>LFSSTAT</th>\n",
              "      <th>PROV</th>\n",
              "      <th>CMA</th>\n",
              "      <th>AGE_12</th>\n",
              "      <th>AGE_6</th>\n",
              "      <th>SEX</th>\n",
              "      <th>MARSTAT</th>\n",
              "      <th>...</th>\n",
              "      <th>LKATADS</th>\n",
              "      <th>LKANSADS</th>\n",
              "      <th>LKOTHERN</th>\n",
              "      <th>PRIORACT</th>\n",
              "      <th>YNOLOOK</th>\n",
              "      <th>TLOLOOK</th>\n",
              "      <th>SCHOOLN</th>\n",
              "      <th>EFAMTYPE</th>\n",
              "      <th>AGYOWNK</th>\n",
              "      <th>FINALWT</th>\n",
              "    </tr>\n",
              "  </thead>\n",
              "  <tbody>\n",
              "    <tr>\n",
              "      <th>2</th>\n",
              "      <td>3</td>\n",
              "      <td>2023</td>\n",
              "      <td>8</td>\n",
              "      <td>1</td>\n",
              "      <td>13</td>\n",
              "      <td>0</td>\n",
              "      <td>1</td>\n",
              "      <td>2.0</td>\n",
              "      <td>1</td>\n",
              "      <td>6</td>\n",
              "      <td>...</td>\n",
              "      <td>NaN</td>\n",
              "      <td>NaN</td>\n",
              "      <td>NaN</td>\n",
              "      <td>NaN</td>\n",
              "      <td>NaN</td>\n",
              "      <td>NaN</td>\n",
              "      <td>1.0</td>\n",
              "      <td>9</td>\n",
              "      <td>NaN</td>\n",
              "      <td>156</td>\n",
              "    </tr>\n",
              "    <tr>\n",
              "      <th>5</th>\n",
              "      <td>6</td>\n",
              "      <td>2023</td>\n",
              "      <td>8</td>\n",
              "      <td>1</td>\n",
              "      <td>12</td>\n",
              "      <td>0</td>\n",
              "      <td>2</td>\n",
              "      <td>3.0</td>\n",
              "      <td>1</td>\n",
              "      <td>6</td>\n",
              "      <td>...</td>\n",
              "      <td>NaN</td>\n",
              "      <td>NaN</td>\n",
              "      <td>NaN</td>\n",
              "      <td>NaN</td>\n",
              "      <td>NaN</td>\n",
              "      <td>NaN</td>\n",
              "      <td>2.0</td>\n",
              "      <td>1</td>\n",
              "      <td>NaN</td>\n",
              "      <td>320</td>\n",
              "    </tr>\n",
              "    <tr>\n",
              "      <th>6</th>\n",
              "      <td>7</td>\n",
              "      <td>2023</td>\n",
              "      <td>8</td>\n",
              "      <td>1</td>\n",
              "      <td>10</td>\n",
              "      <td>0</td>\n",
              "      <td>7</td>\n",
              "      <td>NaN</td>\n",
              "      <td>1</td>\n",
              "      <td>1</td>\n",
              "      <td>...</td>\n",
              "      <td>NaN</td>\n",
              "      <td>NaN</td>\n",
              "      <td>NaN</td>\n",
              "      <td>NaN</td>\n",
              "      <td>NaN</td>\n",
              "      <td>NaN</td>\n",
              "      <td>1.0</td>\n",
              "      <td>3</td>\n",
              "      <td>2.0</td>\n",
              "      <td>23</td>\n",
              "    </tr>\n",
              "    <tr>\n",
              "      <th>8</th>\n",
              "      <td>9</td>\n",
              "      <td>2023</td>\n",
              "      <td>8</td>\n",
              "      <td>1</td>\n",
              "      <td>24</td>\n",
              "      <td>0</td>\n",
              "      <td>1</td>\n",
              "      <td>2.0</td>\n",
              "      <td>2</td>\n",
              "      <td>6</td>\n",
              "      <td>...</td>\n",
              "      <td>NaN</td>\n",
              "      <td>NaN</td>\n",
              "      <td>NaN</td>\n",
              "      <td>NaN</td>\n",
              "      <td>NaN</td>\n",
              "      <td>NaN</td>\n",
              "      <td>1.0</td>\n",
              "      <td>3</td>\n",
              "      <td>NaN</td>\n",
              "      <td>106</td>\n",
              "    </tr>\n",
              "    <tr>\n",
              "      <th>10</th>\n",
              "      <td>11</td>\n",
              "      <td>2023</td>\n",
              "      <td>8</td>\n",
              "      <td>1</td>\n",
              "      <td>59</td>\n",
              "      <td>0</td>\n",
              "      <td>10</td>\n",
              "      <td>NaN</td>\n",
              "      <td>1</td>\n",
              "      <td>3</td>\n",
              "      <td>...</td>\n",
              "      <td>NaN</td>\n",
              "      <td>NaN</td>\n",
              "      <td>NaN</td>\n",
              "      <td>NaN</td>\n",
              "      <td>NaN</td>\n",
              "      <td>NaN</td>\n",
              "      <td>1.0</td>\n",
              "      <td>1</td>\n",
              "      <td>NaN</td>\n",
              "      <td>311</td>\n",
              "    </tr>\n",
              "    <tr>\n",
              "      <th>...</th>\n",
              "      <td>...</td>\n",
              "      <td>...</td>\n",
              "      <td>...</td>\n",
              "      <td>...</td>\n",
              "      <td>...</td>\n",
              "      <td>...</td>\n",
              "      <td>...</td>\n",
              "      <td>...</td>\n",
              "      <td>...</td>\n",
              "      <td>...</td>\n",
              "      <td>...</td>\n",
              "      <td>...</td>\n",
              "      <td>...</td>\n",
              "      <td>...</td>\n",
              "      <td>...</td>\n",
              "      <td>...</td>\n",
              "      <td>...</td>\n",
              "      <td>...</td>\n",
              "      <td>...</td>\n",
              "      <td>...</td>\n",
              "      <td>...</td>\n",
              "    </tr>\n",
              "    <tr>\n",
              "      <th>103396</th>\n",
              "      <td>103397</td>\n",
              "      <td>2023</td>\n",
              "      <td>8</td>\n",
              "      <td>1</td>\n",
              "      <td>35</td>\n",
              "      <td>4</td>\n",
              "      <td>8</td>\n",
              "      <td>NaN</td>\n",
              "      <td>1</td>\n",
              "      <td>1</td>\n",
              "      <td>...</td>\n",
              "      <td>NaN</td>\n",
              "      <td>NaN</td>\n",
              "      <td>NaN</td>\n",
              "      <td>NaN</td>\n",
              "      <td>NaN</td>\n",
              "      <td>NaN</td>\n",
              "      <td>1.0</td>\n",
              "      <td>4</td>\n",
              "      <td>4.0</td>\n",
              "      <td>258</td>\n",
              "    </tr>\n",
              "    <tr>\n",
              "      <th>103398</th>\n",
              "      <td>103399</td>\n",
              "      <td>2023</td>\n",
              "      <td>8</td>\n",
              "      <td>1</td>\n",
              "      <td>24</td>\n",
              "      <td>1</td>\n",
              "      <td>7</td>\n",
              "      <td>NaN</td>\n",
              "      <td>2</td>\n",
              "      <td>5</td>\n",
              "      <td>...</td>\n",
              "      <td>NaN</td>\n",
              "      <td>NaN</td>\n",
              "      <td>NaN</td>\n",
              "      <td>NaN</td>\n",
              "      <td>NaN</td>\n",
              "      <td>NaN</td>\n",
              "      <td>1.0</td>\n",
              "      <td>15</td>\n",
              "      <td>4.0</td>\n",
              "      <td>320</td>\n",
              "    </tr>\n",
              "    <tr>\n",
              "      <th>103400</th>\n",
              "      <td>103401</td>\n",
              "      <td>2023</td>\n",
              "      <td>8</td>\n",
              "      <td>1</td>\n",
              "      <td>46</td>\n",
              "      <td>0</td>\n",
              "      <td>3</td>\n",
              "      <td>5.0</td>\n",
              "      <td>2</td>\n",
              "      <td>1</td>\n",
              "      <td>...</td>\n",
              "      <td>NaN</td>\n",
              "      <td>NaN</td>\n",
              "      <td>NaN</td>\n",
              "      <td>NaN</td>\n",
              "      <td>NaN</td>\n",
              "      <td>NaN</td>\n",
              "      <td>1.0</td>\n",
              "      <td>3</td>\n",
              "      <td>1.0</td>\n",
              "      <td>71</td>\n",
              "    </tr>\n",
              "    <tr>\n",
              "      <th>103401</th>\n",
              "      <td>103402</td>\n",
              "      <td>2023</td>\n",
              "      <td>8</td>\n",
              "      <td>1</td>\n",
              "      <td>12</td>\n",
              "      <td>0</td>\n",
              "      <td>1</td>\n",
              "      <td>1.0</td>\n",
              "      <td>2</td>\n",
              "      <td>6</td>\n",
              "      <td>...</td>\n",
              "      <td>NaN</td>\n",
              "      <td>NaN</td>\n",
              "      <td>NaN</td>\n",
              "      <td>NaN</td>\n",
              "      <td>NaN</td>\n",
              "      <td>NaN</td>\n",
              "      <td>1.0</td>\n",
              "      <td>14</td>\n",
              "      <td>NaN</td>\n",
              "      <td>240</td>\n",
              "    </tr>\n",
              "    <tr>\n",
              "      <th>103402</th>\n",
              "      <td>103403</td>\n",
              "      <td>2023</td>\n",
              "      <td>8</td>\n",
              "      <td>1</td>\n",
              "      <td>35</td>\n",
              "      <td>0</td>\n",
              "      <td>6</td>\n",
              "      <td>NaN</td>\n",
              "      <td>2</td>\n",
              "      <td>1</td>\n",
              "      <td>...</td>\n",
              "      <td>NaN</td>\n",
              "      <td>NaN</td>\n",
              "      <td>NaN</td>\n",
              "      <td>NaN</td>\n",
              "      <td>NaN</td>\n",
              "      <td>NaN</td>\n",
              "      <td>1.0</td>\n",
              "      <td>3</td>\n",
              "      <td>1.0</td>\n",
              "      <td>123</td>\n",
              "    </tr>\n",
              "  </tbody>\n",
              "</table>\n",
              "<p>53361 rows × 60 columns</p>\n",
              "</div>\n",
              "    <div class=\"colab-df-buttons\">\n",
              "\n",
              "  <div class=\"colab-df-container\">\n",
              "    <button class=\"colab-df-convert\" onclick=\"convertToInteractive('df-8aedcc41-e282-4938-994a-514b808cae55')\"\n",
              "            title=\"Convert this dataframe to an interactive table.\"\n",
              "            style=\"display:none;\">\n",
              "\n",
              "  <svg xmlns=\"http://www.w3.org/2000/svg\" height=\"24px\" viewBox=\"0 -960 960 960\">\n",
              "    <path d=\"M120-120v-720h720v720H120Zm60-500h600v-160H180v160Zm220 220h160v-160H400v160Zm0 220h160v-160H400v160ZM180-400h160v-160H180v160Zm440 0h160v-160H620v160ZM180-180h160v-160H180v160Zm440 0h160v-160H620v160Z\"/>\n",
              "  </svg>\n",
              "    </button>\n",
              "\n",
              "  <style>\n",
              "    .colab-df-container {\n",
              "      display:flex;\n",
              "      gap: 12px;\n",
              "    }\n",
              "\n",
              "    .colab-df-convert {\n",
              "      background-color: #E8F0FE;\n",
              "      border: none;\n",
              "      border-radius: 50%;\n",
              "      cursor: pointer;\n",
              "      display: none;\n",
              "      fill: #1967D2;\n",
              "      height: 32px;\n",
              "      padding: 0 0 0 0;\n",
              "      width: 32px;\n",
              "    }\n",
              "\n",
              "    .colab-df-convert:hover {\n",
              "      background-color: #E2EBFA;\n",
              "      box-shadow: 0px 1px 2px rgba(60, 64, 67, 0.3), 0px 1px 3px 1px rgba(60, 64, 67, 0.15);\n",
              "      fill: #174EA6;\n",
              "    }\n",
              "\n",
              "    .colab-df-buttons div {\n",
              "      margin-bottom: 4px;\n",
              "    }\n",
              "\n",
              "    [theme=dark] .colab-df-convert {\n",
              "      background-color: #3B4455;\n",
              "      fill: #D2E3FC;\n",
              "    }\n",
              "\n",
              "    [theme=dark] .colab-df-convert:hover {\n",
              "      background-color: #434B5C;\n",
              "      box-shadow: 0px 1px 3px 1px rgba(0, 0, 0, 0.15);\n",
              "      filter: drop-shadow(0px 1px 2px rgba(0, 0, 0, 0.3));\n",
              "      fill: #FFFFFF;\n",
              "    }\n",
              "  </style>\n",
              "\n",
              "    <script>\n",
              "      const buttonEl =\n",
              "        document.querySelector('#df-8aedcc41-e282-4938-994a-514b808cae55 button.colab-df-convert');\n",
              "      buttonEl.style.display =\n",
              "        google.colab.kernel.accessAllowed ? 'block' : 'none';\n",
              "\n",
              "      async function convertToInteractive(key) {\n",
              "        const element = document.querySelector('#df-8aedcc41-e282-4938-994a-514b808cae55');\n",
              "        const dataTable =\n",
              "          await google.colab.kernel.invokeFunction('convertToInteractive',\n",
              "                                                    [key], {});\n",
              "        if (!dataTable) return;\n",
              "\n",
              "        const docLinkHtml = 'Like what you see? Visit the ' +\n",
              "          '<a target=\"_blank\" href=https://colab.research.google.com/notebooks/data_table.ipynb>data table notebook</a>'\n",
              "          + ' to learn more about interactive tables.';\n",
              "        element.innerHTML = '';\n",
              "        dataTable['output_type'] = 'display_data';\n",
              "        await google.colab.output.renderOutput(dataTable, element);\n",
              "        const docLink = document.createElement('div');\n",
              "        docLink.innerHTML = docLinkHtml;\n",
              "        element.appendChild(docLink);\n",
              "      }\n",
              "    </script>\n",
              "  </div>\n",
              "\n",
              "\n",
              "<div id=\"df-8ee036bb-7c45-4cd8-a4d8-ef38cdf87d99\">\n",
              "  <button class=\"colab-df-quickchart\" onclick=\"quickchart('df-8ee036bb-7c45-4cd8-a4d8-ef38cdf87d99')\"\n",
              "            title=\"Suggest charts\"\n",
              "            style=\"display:none;\">\n",
              "\n",
              "<svg xmlns=\"http://www.w3.org/2000/svg\" height=\"24px\"viewBox=\"0 0 24 24\"\n",
              "     width=\"24px\">\n",
              "    <g>\n",
              "        <path d=\"M19 3H5c-1.1 0-2 .9-2 2v14c0 1.1.9 2 2 2h14c1.1 0 2-.9 2-2V5c0-1.1-.9-2-2-2zM9 17H7v-7h2v7zm4 0h-2V7h2v10zm4 0h-2v-4h2v4z\"/>\n",
              "    </g>\n",
              "</svg>\n",
              "  </button>\n",
              "\n",
              "<style>\n",
              "  .colab-df-quickchart {\n",
              "      --bg-color: #E8F0FE;\n",
              "      --fill-color: #1967D2;\n",
              "      --hover-bg-color: #E2EBFA;\n",
              "      --hover-fill-color: #174EA6;\n",
              "      --disabled-fill-color: #AAA;\n",
              "      --disabled-bg-color: #DDD;\n",
              "  }\n",
              "\n",
              "  [theme=dark] .colab-df-quickchart {\n",
              "      --bg-color: #3B4455;\n",
              "      --fill-color: #D2E3FC;\n",
              "      --hover-bg-color: #434B5C;\n",
              "      --hover-fill-color: #FFFFFF;\n",
              "      --disabled-bg-color: #3B4455;\n",
              "      --disabled-fill-color: #666;\n",
              "  }\n",
              "\n",
              "  .colab-df-quickchart {\n",
              "    background-color: var(--bg-color);\n",
              "    border: none;\n",
              "    border-radius: 50%;\n",
              "    cursor: pointer;\n",
              "    display: none;\n",
              "    fill: var(--fill-color);\n",
              "    height: 32px;\n",
              "    padding: 0;\n",
              "    width: 32px;\n",
              "  }\n",
              "\n",
              "  .colab-df-quickchart:hover {\n",
              "    background-color: var(--hover-bg-color);\n",
              "    box-shadow: 0 1px 2px rgba(60, 64, 67, 0.3), 0 1px 3px 1px rgba(60, 64, 67, 0.15);\n",
              "    fill: var(--button-hover-fill-color);\n",
              "  }\n",
              "\n",
              "  .colab-df-quickchart-complete:disabled,\n",
              "  .colab-df-quickchart-complete:disabled:hover {\n",
              "    background-color: var(--disabled-bg-color);\n",
              "    fill: var(--disabled-fill-color);\n",
              "    box-shadow: none;\n",
              "  }\n",
              "\n",
              "  .colab-df-spinner {\n",
              "    border: 2px solid var(--fill-color);\n",
              "    border-color: transparent;\n",
              "    border-bottom-color: var(--fill-color);\n",
              "    animation:\n",
              "      spin 1s steps(1) infinite;\n",
              "  }\n",
              "\n",
              "  @keyframes spin {\n",
              "    0% {\n",
              "      border-color: transparent;\n",
              "      border-bottom-color: var(--fill-color);\n",
              "      border-left-color: var(--fill-color);\n",
              "    }\n",
              "    20% {\n",
              "      border-color: transparent;\n",
              "      border-left-color: var(--fill-color);\n",
              "      border-top-color: var(--fill-color);\n",
              "    }\n",
              "    30% {\n",
              "      border-color: transparent;\n",
              "      border-left-color: var(--fill-color);\n",
              "      border-top-color: var(--fill-color);\n",
              "      border-right-color: var(--fill-color);\n",
              "    }\n",
              "    40% {\n",
              "      border-color: transparent;\n",
              "      border-right-color: var(--fill-color);\n",
              "      border-top-color: var(--fill-color);\n",
              "    }\n",
              "    60% {\n",
              "      border-color: transparent;\n",
              "      border-right-color: var(--fill-color);\n",
              "    }\n",
              "    80% {\n",
              "      border-color: transparent;\n",
              "      border-right-color: var(--fill-color);\n",
              "      border-bottom-color: var(--fill-color);\n",
              "    }\n",
              "    90% {\n",
              "      border-color: transparent;\n",
              "      border-bottom-color: var(--fill-color);\n",
              "    }\n",
              "  }\n",
              "</style>\n",
              "\n",
              "  <script>\n",
              "    async function quickchart(key) {\n",
              "      const quickchartButtonEl =\n",
              "        document.querySelector('#' + key + ' button');\n",
              "      quickchartButtonEl.disabled = true;  // To prevent multiple clicks.\n",
              "      quickchartButtonEl.classList.add('colab-df-spinner');\n",
              "      try {\n",
              "        const charts = await google.colab.kernel.invokeFunction(\n",
              "            'suggestCharts', [key], {});\n",
              "      } catch (error) {\n",
              "        console.error('Error during call to suggestCharts:', error);\n",
              "      }\n",
              "      quickchartButtonEl.classList.remove('colab-df-spinner');\n",
              "      quickchartButtonEl.classList.add('colab-df-quickchart-complete');\n",
              "    }\n",
              "    (() => {\n",
              "      let quickchartButtonEl =\n",
              "        document.querySelector('#df-8ee036bb-7c45-4cd8-a4d8-ef38cdf87d99 button');\n",
              "      quickchartButtonEl.style.display =\n",
              "        google.colab.kernel.accessAllowed ? 'block' : 'none';\n",
              "    })();\n",
              "  </script>\n",
              "</div>\n",
              "\n",
              "    </div>\n",
              "  </div>\n"
            ],
            "application/vnd.google.colaboratory.intrinsic+json": {
              "type": "dataframe"
            }
          },
          "metadata": {},
          "execution_count": 26
        }
      ],
      "source": [
        "LFS_values[(LFS_values['HRLYEARN'] > 0) & (LFS_values['COWMAIN'] <= 2)]"
      ]
    },
    {
      "cell_type": "markdown",
      "metadata": {
        "id": "4LTrOd7k18Qg"
      },
      "source": [
        "## Types"
      ]
    },
    {
      "cell_type": "code",
      "execution_count": 27,
      "metadata": {
        "colab": {
          "base_uri": "https://localhost:8080/"
        },
        "id": "QSkoK7n2I73r",
        "outputId": "7ed5b4c2-f43e-40a9-aa03-60ea7ff481a4"
      },
      "outputs": [
        {
          "output_type": "stream",
          "name": "stdout",
          "text": [
            "<class 'pandas.core.frame.DataFrame'>\n",
            "Int64Index: 53361 entries, 2 to 103402\n",
            "Data columns (total 4 columns):\n",
            " #   Column    Non-Null Count  Dtype   \n",
            "---  ------    --------------  -----   \n",
            " 0   HRLYEARN  53361 non-null  float64 \n",
            " 1   EDUC      53361 non-null  category\n",
            " 2   SEX       53361 non-null  category\n",
            " 3   COWMAIN   53361 non-null  category\n",
            "dtypes: category(3), float64(1)\n",
            "memory usage: 990.9 KB\n"
          ]
        }
      ],
      "source": [
        "LFS[['HRLYEARN', 'EDUC', 'SEX', 'COWMAIN']].info()"
      ]
    },
    {
      "cell_type": "code",
      "execution_count": 28,
      "metadata": {
        "colab": {
          "base_uri": "https://localhost:8080/",
          "height": 0
        },
        "id": "ePpR1XAGJaNU",
        "outputId": "15f1fd45-b7dc-4a43-b7f8-51440a800021"
      },
      "outputs": [
        {
          "output_type": "execute_result",
          "data": {
            "text/plain": [
              "    HRLYEARN                                  EDUC     SEX  \\\n",
              "2      18.25                    Some postsecondary    Male   \n",
              "5      16.00                    Some postsecondary    Male   \n",
              "6      28.50                  High school graduate    Male   \n",
              "8      14.25  Postsecondary certificate or diploma  Female   \n",
              "10     28.14  Postsecondary certificate or diploma    Male   \n",
              "\n",
              "                     COWMAIN  \n",
              "2   Private sector employees  \n",
              "5   Private sector employees  \n",
              "6   Private sector employees  \n",
              "8   Private sector employees  \n",
              "10  Private sector employees  "
            ],
            "text/html": [
              "\n",
              "  <div id=\"df-175c7c83-54ba-46f5-bfcd-3bc2961af608\" class=\"colab-df-container\">\n",
              "    <div>\n",
              "<style scoped>\n",
              "    .dataframe tbody tr th:only-of-type {\n",
              "        vertical-align: middle;\n",
              "    }\n",
              "\n",
              "    .dataframe tbody tr th {\n",
              "        vertical-align: top;\n",
              "    }\n",
              "\n",
              "    .dataframe thead th {\n",
              "        text-align: right;\n",
              "    }\n",
              "</style>\n",
              "<table border=\"1\" class=\"dataframe\">\n",
              "  <thead>\n",
              "    <tr style=\"text-align: right;\">\n",
              "      <th></th>\n",
              "      <th>HRLYEARN</th>\n",
              "      <th>EDUC</th>\n",
              "      <th>SEX</th>\n",
              "      <th>COWMAIN</th>\n",
              "    </tr>\n",
              "  </thead>\n",
              "  <tbody>\n",
              "    <tr>\n",
              "      <th>2</th>\n",
              "      <td>18.25</td>\n",
              "      <td>Some postsecondary</td>\n",
              "      <td>Male</td>\n",
              "      <td>Private sector employees</td>\n",
              "    </tr>\n",
              "    <tr>\n",
              "      <th>5</th>\n",
              "      <td>16.00</td>\n",
              "      <td>Some postsecondary</td>\n",
              "      <td>Male</td>\n",
              "      <td>Private sector employees</td>\n",
              "    </tr>\n",
              "    <tr>\n",
              "      <th>6</th>\n",
              "      <td>28.50</td>\n",
              "      <td>High school graduate</td>\n",
              "      <td>Male</td>\n",
              "      <td>Private sector employees</td>\n",
              "    </tr>\n",
              "    <tr>\n",
              "      <th>8</th>\n",
              "      <td>14.25</td>\n",
              "      <td>Postsecondary certificate or diploma</td>\n",
              "      <td>Female</td>\n",
              "      <td>Private sector employees</td>\n",
              "    </tr>\n",
              "    <tr>\n",
              "      <th>10</th>\n",
              "      <td>28.14</td>\n",
              "      <td>Postsecondary certificate or diploma</td>\n",
              "      <td>Male</td>\n",
              "      <td>Private sector employees</td>\n",
              "    </tr>\n",
              "  </tbody>\n",
              "</table>\n",
              "</div>\n",
              "    <div class=\"colab-df-buttons\">\n",
              "\n",
              "  <div class=\"colab-df-container\">\n",
              "    <button class=\"colab-df-convert\" onclick=\"convertToInteractive('df-175c7c83-54ba-46f5-bfcd-3bc2961af608')\"\n",
              "            title=\"Convert this dataframe to an interactive table.\"\n",
              "            style=\"display:none;\">\n",
              "\n",
              "  <svg xmlns=\"http://www.w3.org/2000/svg\" height=\"24px\" viewBox=\"0 -960 960 960\">\n",
              "    <path d=\"M120-120v-720h720v720H120Zm60-500h600v-160H180v160Zm220 220h160v-160H400v160Zm0 220h160v-160H400v160ZM180-400h160v-160H180v160Zm440 0h160v-160H620v160ZM180-180h160v-160H180v160Zm440 0h160v-160H620v160Z\"/>\n",
              "  </svg>\n",
              "    </button>\n",
              "\n",
              "  <style>\n",
              "    .colab-df-container {\n",
              "      display:flex;\n",
              "      gap: 12px;\n",
              "    }\n",
              "\n",
              "    .colab-df-convert {\n",
              "      background-color: #E8F0FE;\n",
              "      border: none;\n",
              "      border-radius: 50%;\n",
              "      cursor: pointer;\n",
              "      display: none;\n",
              "      fill: #1967D2;\n",
              "      height: 32px;\n",
              "      padding: 0 0 0 0;\n",
              "      width: 32px;\n",
              "    }\n",
              "\n",
              "    .colab-df-convert:hover {\n",
              "      background-color: #E2EBFA;\n",
              "      box-shadow: 0px 1px 2px rgba(60, 64, 67, 0.3), 0px 1px 3px 1px rgba(60, 64, 67, 0.15);\n",
              "      fill: #174EA6;\n",
              "    }\n",
              "\n",
              "    .colab-df-buttons div {\n",
              "      margin-bottom: 4px;\n",
              "    }\n",
              "\n",
              "    [theme=dark] .colab-df-convert {\n",
              "      background-color: #3B4455;\n",
              "      fill: #D2E3FC;\n",
              "    }\n",
              "\n",
              "    [theme=dark] .colab-df-convert:hover {\n",
              "      background-color: #434B5C;\n",
              "      box-shadow: 0px 1px 3px 1px rgba(0, 0, 0, 0.15);\n",
              "      filter: drop-shadow(0px 1px 2px rgba(0, 0, 0, 0.3));\n",
              "      fill: #FFFFFF;\n",
              "    }\n",
              "  </style>\n",
              "\n",
              "    <script>\n",
              "      const buttonEl =\n",
              "        document.querySelector('#df-175c7c83-54ba-46f5-bfcd-3bc2961af608 button.colab-df-convert');\n",
              "      buttonEl.style.display =\n",
              "        google.colab.kernel.accessAllowed ? 'block' : 'none';\n",
              "\n",
              "      async function convertToInteractive(key) {\n",
              "        const element = document.querySelector('#df-175c7c83-54ba-46f5-bfcd-3bc2961af608');\n",
              "        const dataTable =\n",
              "          await google.colab.kernel.invokeFunction('convertToInteractive',\n",
              "                                                    [key], {});\n",
              "        if (!dataTable) return;\n",
              "\n",
              "        const docLinkHtml = 'Like what you see? Visit the ' +\n",
              "          '<a target=\"_blank\" href=https://colab.research.google.com/notebooks/data_table.ipynb>data table notebook</a>'\n",
              "          + ' to learn more about interactive tables.';\n",
              "        element.innerHTML = '';\n",
              "        dataTable['output_type'] = 'display_data';\n",
              "        await google.colab.output.renderOutput(dataTable, element);\n",
              "        const docLink = document.createElement('div');\n",
              "        docLink.innerHTML = docLinkHtml;\n",
              "        element.appendChild(docLink);\n",
              "      }\n",
              "    </script>\n",
              "  </div>\n",
              "\n",
              "\n",
              "<div id=\"df-61ad972b-3350-404e-8326-af827de23a1d\">\n",
              "  <button class=\"colab-df-quickchart\" onclick=\"quickchart('df-61ad972b-3350-404e-8326-af827de23a1d')\"\n",
              "            title=\"Suggest charts\"\n",
              "            style=\"display:none;\">\n",
              "\n",
              "<svg xmlns=\"http://www.w3.org/2000/svg\" height=\"24px\"viewBox=\"0 0 24 24\"\n",
              "     width=\"24px\">\n",
              "    <g>\n",
              "        <path d=\"M19 3H5c-1.1 0-2 .9-2 2v14c0 1.1.9 2 2 2h14c1.1 0 2-.9 2-2V5c0-1.1-.9-2-2-2zM9 17H7v-7h2v7zm4 0h-2V7h2v10zm4 0h-2v-4h2v4z\"/>\n",
              "    </g>\n",
              "</svg>\n",
              "  </button>\n",
              "\n",
              "<style>\n",
              "  .colab-df-quickchart {\n",
              "      --bg-color: #E8F0FE;\n",
              "      --fill-color: #1967D2;\n",
              "      --hover-bg-color: #E2EBFA;\n",
              "      --hover-fill-color: #174EA6;\n",
              "      --disabled-fill-color: #AAA;\n",
              "      --disabled-bg-color: #DDD;\n",
              "  }\n",
              "\n",
              "  [theme=dark] .colab-df-quickchart {\n",
              "      --bg-color: #3B4455;\n",
              "      --fill-color: #D2E3FC;\n",
              "      --hover-bg-color: #434B5C;\n",
              "      --hover-fill-color: #FFFFFF;\n",
              "      --disabled-bg-color: #3B4455;\n",
              "      --disabled-fill-color: #666;\n",
              "  }\n",
              "\n",
              "  .colab-df-quickchart {\n",
              "    background-color: var(--bg-color);\n",
              "    border: none;\n",
              "    border-radius: 50%;\n",
              "    cursor: pointer;\n",
              "    display: none;\n",
              "    fill: var(--fill-color);\n",
              "    height: 32px;\n",
              "    padding: 0;\n",
              "    width: 32px;\n",
              "  }\n",
              "\n",
              "  .colab-df-quickchart:hover {\n",
              "    background-color: var(--hover-bg-color);\n",
              "    box-shadow: 0 1px 2px rgba(60, 64, 67, 0.3), 0 1px 3px 1px rgba(60, 64, 67, 0.15);\n",
              "    fill: var(--button-hover-fill-color);\n",
              "  }\n",
              "\n",
              "  .colab-df-quickchart-complete:disabled,\n",
              "  .colab-df-quickchart-complete:disabled:hover {\n",
              "    background-color: var(--disabled-bg-color);\n",
              "    fill: var(--disabled-fill-color);\n",
              "    box-shadow: none;\n",
              "  }\n",
              "\n",
              "  .colab-df-spinner {\n",
              "    border: 2px solid var(--fill-color);\n",
              "    border-color: transparent;\n",
              "    border-bottom-color: var(--fill-color);\n",
              "    animation:\n",
              "      spin 1s steps(1) infinite;\n",
              "  }\n",
              "\n",
              "  @keyframes spin {\n",
              "    0% {\n",
              "      border-color: transparent;\n",
              "      border-bottom-color: var(--fill-color);\n",
              "      border-left-color: var(--fill-color);\n",
              "    }\n",
              "    20% {\n",
              "      border-color: transparent;\n",
              "      border-left-color: var(--fill-color);\n",
              "      border-top-color: var(--fill-color);\n",
              "    }\n",
              "    30% {\n",
              "      border-color: transparent;\n",
              "      border-left-color: var(--fill-color);\n",
              "      border-top-color: var(--fill-color);\n",
              "      border-right-color: var(--fill-color);\n",
              "    }\n",
              "    40% {\n",
              "      border-color: transparent;\n",
              "      border-right-color: var(--fill-color);\n",
              "      border-top-color: var(--fill-color);\n",
              "    }\n",
              "    60% {\n",
              "      border-color: transparent;\n",
              "      border-right-color: var(--fill-color);\n",
              "    }\n",
              "    80% {\n",
              "      border-color: transparent;\n",
              "      border-right-color: var(--fill-color);\n",
              "      border-bottom-color: var(--fill-color);\n",
              "    }\n",
              "    90% {\n",
              "      border-color: transparent;\n",
              "      border-bottom-color: var(--fill-color);\n",
              "    }\n",
              "  }\n",
              "</style>\n",
              "\n",
              "  <script>\n",
              "    async function quickchart(key) {\n",
              "      const quickchartButtonEl =\n",
              "        document.querySelector('#' + key + ' button');\n",
              "      quickchartButtonEl.disabled = true;  // To prevent multiple clicks.\n",
              "      quickchartButtonEl.classList.add('colab-df-spinner');\n",
              "      try {\n",
              "        const charts = await google.colab.kernel.invokeFunction(\n",
              "            'suggestCharts', [key], {});\n",
              "      } catch (error) {\n",
              "        console.error('Error during call to suggestCharts:', error);\n",
              "      }\n",
              "      quickchartButtonEl.classList.remove('colab-df-spinner');\n",
              "      quickchartButtonEl.classList.add('colab-df-quickchart-complete');\n",
              "    }\n",
              "    (() => {\n",
              "      let quickchartButtonEl =\n",
              "        document.querySelector('#df-61ad972b-3350-404e-8326-af827de23a1d button');\n",
              "      quickchartButtonEl.style.display =\n",
              "        google.colab.kernel.accessAllowed ? 'block' : 'none';\n",
              "    })();\n",
              "  </script>\n",
              "</div>\n",
              "\n",
              "    </div>\n",
              "  </div>\n"
            ],
            "application/vnd.google.colaboratory.intrinsic+json": {
              "type": "dataframe",
              "summary": "{\n  \"name\": \"LFS[['HRLYEARN', 'EDUC', 'SEX', 'COWMAIN']]\",\n  \"rows\": 5,\n  \"fields\": [\n    {\n      \"column\": \"HRLYEARN\",\n      \"properties\": {\n        \"dtype\": \"number\",\n        \"std\": 6.807177829321047,\n        \"min\": 14.25,\n        \"max\": 28.5,\n        \"samples\": [\n          16.0,\n          28.14,\n          28.5\n        ],\n        \"num_unique_values\": 5,\n        \"semantic_type\": \"\",\n        \"description\": \"\"\n      }\n    },\n    {\n      \"column\": \"EDUC\",\n      \"properties\": {\n        \"dtype\": \"category\",\n        \"samples\": [\n          \"Some postsecondary\",\n          \"High school graduate\",\n          \"Postsecondary certificate or diploma\"\n        ],\n        \"num_unique_values\": 3,\n        \"semantic_type\": \"\",\n        \"description\": \"\"\n      }\n    },\n    {\n      \"column\": \"SEX\",\n      \"properties\": {\n        \"dtype\": \"category\",\n        \"samples\": [\n          \"Female\",\n          \"Male\"\n        ],\n        \"num_unique_values\": 2,\n        \"semantic_type\": \"\",\n        \"description\": \"\"\n      }\n    },\n    {\n      \"column\": \"COWMAIN\",\n      \"properties\": {\n        \"dtype\": \"category\",\n        \"samples\": [\n          \"Private sector employees\"\n        ],\n        \"num_unique_values\": 1,\n        \"semantic_type\": \"\",\n        \"description\": \"\"\n      }\n    }\n  ]\n}"
            }
          },
          "metadata": {},
          "execution_count": 28
        }
      ],
      "source": [
        "LFS[['HRLYEARN', 'EDUC', 'SEX', 'COWMAIN']].head()"
      ]
    },
    {
      "cell_type": "markdown",
      "metadata": {
        "id": "j7E0TBkc18Qh"
      },
      "source": [
        "## Tabulation"
      ]
    },
    {
      "cell_type": "code",
      "execution_count": 29,
      "metadata": {
        "colab": {
          "base_uri": "https://localhost:8080/"
        },
        "id": "jYbXNafM56Lu",
        "outputId": "cd2ec630-9b0f-490a-e5c7-778239ba4284"
      },
      "outputs": [
        {
          "output_type": "execute_result",
          "data": {
            "text/plain": [
              "Postsecondary certificate or diploma    0.363\n",
              "Bachelor's degree                       0.216\n",
              "High school graduate                    0.186\n",
              "Above bachelor's degree                 0.100\n",
              "Some high school                        0.071\n",
              "Some postsecondary                      0.053\n",
              "0 to 8 years                            0.012\n",
              "Name: EDUC, dtype: float64"
            ]
          },
          "metadata": {},
          "execution_count": 29
        }
      ],
      "source": [
        "LFS['EDUC'].value_counts(normalize=1).round(3)"
      ]
    },
    {
      "cell_type": "code",
      "execution_count": 30,
      "metadata": {
        "colab": {
          "base_uri": "https://localhost:8080/",
          "height": 0
        },
        "id": "LxGzD2WMMQw-",
        "outputId": "ab4b7400-dab4-448d-fc1a-bd4ab306eb5a"
      },
      "outputs": [
        {
          "output_type": "execute_result",
          "data": {
            "text/plain": [
              "SEX                                    Male  Female\n",
              "EDUC                                               \n",
              "0 to 8 years                          0.015   0.009\n",
              "Some high school                      0.083   0.058\n",
              "High school graduate                  0.206   0.165\n",
              "Some postsecondary                    0.054   0.053\n",
              "Postsecondary certificate or diploma  0.366   0.359\n",
              "Bachelor's degree                     0.187   0.245\n",
              "Above bachelor's degree               0.089   0.111"
            ],
            "text/html": [
              "\n",
              "  <div id=\"df-3b5221e5-f3b3-41cb-9320-6635bdb5a1e1\" class=\"colab-df-container\">\n",
              "    <div>\n",
              "<style scoped>\n",
              "    .dataframe tbody tr th:only-of-type {\n",
              "        vertical-align: middle;\n",
              "    }\n",
              "\n",
              "    .dataframe tbody tr th {\n",
              "        vertical-align: top;\n",
              "    }\n",
              "\n",
              "    .dataframe thead th {\n",
              "        text-align: right;\n",
              "    }\n",
              "</style>\n",
              "<table border=\"1\" class=\"dataframe\">\n",
              "  <thead>\n",
              "    <tr style=\"text-align: right;\">\n",
              "      <th>SEX</th>\n",
              "      <th>Male</th>\n",
              "      <th>Female</th>\n",
              "    </tr>\n",
              "    <tr>\n",
              "      <th>EDUC</th>\n",
              "      <th></th>\n",
              "      <th></th>\n",
              "    </tr>\n",
              "  </thead>\n",
              "  <tbody>\n",
              "    <tr>\n",
              "      <th>0 to 8 years</th>\n",
              "      <td>0.015</td>\n",
              "      <td>0.009</td>\n",
              "    </tr>\n",
              "    <tr>\n",
              "      <th>Some high school</th>\n",
              "      <td>0.083</td>\n",
              "      <td>0.058</td>\n",
              "    </tr>\n",
              "    <tr>\n",
              "      <th>High school graduate</th>\n",
              "      <td>0.206</td>\n",
              "      <td>0.165</td>\n",
              "    </tr>\n",
              "    <tr>\n",
              "      <th>Some postsecondary</th>\n",
              "      <td>0.054</td>\n",
              "      <td>0.053</td>\n",
              "    </tr>\n",
              "    <tr>\n",
              "      <th>Postsecondary certificate or diploma</th>\n",
              "      <td>0.366</td>\n",
              "      <td>0.359</td>\n",
              "    </tr>\n",
              "    <tr>\n",
              "      <th>Bachelor's degree</th>\n",
              "      <td>0.187</td>\n",
              "      <td>0.245</td>\n",
              "    </tr>\n",
              "    <tr>\n",
              "      <th>Above bachelor's degree</th>\n",
              "      <td>0.089</td>\n",
              "      <td>0.111</td>\n",
              "    </tr>\n",
              "  </tbody>\n",
              "</table>\n",
              "</div>\n",
              "    <div class=\"colab-df-buttons\">\n",
              "\n",
              "  <div class=\"colab-df-container\">\n",
              "    <button class=\"colab-df-convert\" onclick=\"convertToInteractive('df-3b5221e5-f3b3-41cb-9320-6635bdb5a1e1')\"\n",
              "            title=\"Convert this dataframe to an interactive table.\"\n",
              "            style=\"display:none;\">\n",
              "\n",
              "  <svg xmlns=\"http://www.w3.org/2000/svg\" height=\"24px\" viewBox=\"0 -960 960 960\">\n",
              "    <path d=\"M120-120v-720h720v720H120Zm60-500h600v-160H180v160Zm220 220h160v-160H400v160Zm0 220h160v-160H400v160ZM180-400h160v-160H180v160Zm440 0h160v-160H620v160ZM180-180h160v-160H180v160Zm440 0h160v-160H620v160Z\"/>\n",
              "  </svg>\n",
              "    </button>\n",
              "\n",
              "  <style>\n",
              "    .colab-df-container {\n",
              "      display:flex;\n",
              "      gap: 12px;\n",
              "    }\n",
              "\n",
              "    .colab-df-convert {\n",
              "      background-color: #E8F0FE;\n",
              "      border: none;\n",
              "      border-radius: 50%;\n",
              "      cursor: pointer;\n",
              "      display: none;\n",
              "      fill: #1967D2;\n",
              "      height: 32px;\n",
              "      padding: 0 0 0 0;\n",
              "      width: 32px;\n",
              "    }\n",
              "\n",
              "    .colab-df-convert:hover {\n",
              "      background-color: #E2EBFA;\n",
              "      box-shadow: 0px 1px 2px rgba(60, 64, 67, 0.3), 0px 1px 3px 1px rgba(60, 64, 67, 0.15);\n",
              "      fill: #174EA6;\n",
              "    }\n",
              "\n",
              "    .colab-df-buttons div {\n",
              "      margin-bottom: 4px;\n",
              "    }\n",
              "\n",
              "    [theme=dark] .colab-df-convert {\n",
              "      background-color: #3B4455;\n",
              "      fill: #D2E3FC;\n",
              "    }\n",
              "\n",
              "    [theme=dark] .colab-df-convert:hover {\n",
              "      background-color: #434B5C;\n",
              "      box-shadow: 0px 1px 3px 1px rgba(0, 0, 0, 0.15);\n",
              "      filter: drop-shadow(0px 1px 2px rgba(0, 0, 0, 0.3));\n",
              "      fill: #FFFFFF;\n",
              "    }\n",
              "  </style>\n",
              "\n",
              "    <script>\n",
              "      const buttonEl =\n",
              "        document.querySelector('#df-3b5221e5-f3b3-41cb-9320-6635bdb5a1e1 button.colab-df-convert');\n",
              "      buttonEl.style.display =\n",
              "        google.colab.kernel.accessAllowed ? 'block' : 'none';\n",
              "\n",
              "      async function convertToInteractive(key) {\n",
              "        const element = document.querySelector('#df-3b5221e5-f3b3-41cb-9320-6635bdb5a1e1');\n",
              "        const dataTable =\n",
              "          await google.colab.kernel.invokeFunction('convertToInteractive',\n",
              "                                                    [key], {});\n",
              "        if (!dataTable) return;\n",
              "\n",
              "        const docLinkHtml = 'Like what you see? Visit the ' +\n",
              "          '<a target=\"_blank\" href=https://colab.research.google.com/notebooks/data_table.ipynb>data table notebook</a>'\n",
              "          + ' to learn more about interactive tables.';\n",
              "        element.innerHTML = '';\n",
              "        dataTable['output_type'] = 'display_data';\n",
              "        await google.colab.output.renderOutput(dataTable, element);\n",
              "        const docLink = document.createElement('div');\n",
              "        docLink.innerHTML = docLinkHtml;\n",
              "        element.appendChild(docLink);\n",
              "      }\n",
              "    </script>\n",
              "  </div>\n",
              "\n",
              "\n",
              "<div id=\"df-77363d70-6159-4eb5-b4db-e3bbb92421e9\">\n",
              "  <button class=\"colab-df-quickchart\" onclick=\"quickchart('df-77363d70-6159-4eb5-b4db-e3bbb92421e9')\"\n",
              "            title=\"Suggest charts\"\n",
              "            style=\"display:none;\">\n",
              "\n",
              "<svg xmlns=\"http://www.w3.org/2000/svg\" height=\"24px\"viewBox=\"0 0 24 24\"\n",
              "     width=\"24px\">\n",
              "    <g>\n",
              "        <path d=\"M19 3H5c-1.1 0-2 .9-2 2v14c0 1.1.9 2 2 2h14c1.1 0 2-.9 2-2V5c0-1.1-.9-2-2-2zM9 17H7v-7h2v7zm4 0h-2V7h2v10zm4 0h-2v-4h2v4z\"/>\n",
              "    </g>\n",
              "</svg>\n",
              "  </button>\n",
              "\n",
              "<style>\n",
              "  .colab-df-quickchart {\n",
              "      --bg-color: #E8F0FE;\n",
              "      --fill-color: #1967D2;\n",
              "      --hover-bg-color: #E2EBFA;\n",
              "      --hover-fill-color: #174EA6;\n",
              "      --disabled-fill-color: #AAA;\n",
              "      --disabled-bg-color: #DDD;\n",
              "  }\n",
              "\n",
              "  [theme=dark] .colab-df-quickchart {\n",
              "      --bg-color: #3B4455;\n",
              "      --fill-color: #D2E3FC;\n",
              "      --hover-bg-color: #434B5C;\n",
              "      --hover-fill-color: #FFFFFF;\n",
              "      --disabled-bg-color: #3B4455;\n",
              "      --disabled-fill-color: #666;\n",
              "  }\n",
              "\n",
              "  .colab-df-quickchart {\n",
              "    background-color: var(--bg-color);\n",
              "    border: none;\n",
              "    border-radius: 50%;\n",
              "    cursor: pointer;\n",
              "    display: none;\n",
              "    fill: var(--fill-color);\n",
              "    height: 32px;\n",
              "    padding: 0;\n",
              "    width: 32px;\n",
              "  }\n",
              "\n",
              "  .colab-df-quickchart:hover {\n",
              "    background-color: var(--hover-bg-color);\n",
              "    box-shadow: 0 1px 2px rgba(60, 64, 67, 0.3), 0 1px 3px 1px rgba(60, 64, 67, 0.15);\n",
              "    fill: var(--button-hover-fill-color);\n",
              "  }\n",
              "\n",
              "  .colab-df-quickchart-complete:disabled,\n",
              "  .colab-df-quickchart-complete:disabled:hover {\n",
              "    background-color: var(--disabled-bg-color);\n",
              "    fill: var(--disabled-fill-color);\n",
              "    box-shadow: none;\n",
              "  }\n",
              "\n",
              "  .colab-df-spinner {\n",
              "    border: 2px solid var(--fill-color);\n",
              "    border-color: transparent;\n",
              "    border-bottom-color: var(--fill-color);\n",
              "    animation:\n",
              "      spin 1s steps(1) infinite;\n",
              "  }\n",
              "\n",
              "  @keyframes spin {\n",
              "    0% {\n",
              "      border-color: transparent;\n",
              "      border-bottom-color: var(--fill-color);\n",
              "      border-left-color: var(--fill-color);\n",
              "    }\n",
              "    20% {\n",
              "      border-color: transparent;\n",
              "      border-left-color: var(--fill-color);\n",
              "      border-top-color: var(--fill-color);\n",
              "    }\n",
              "    30% {\n",
              "      border-color: transparent;\n",
              "      border-left-color: var(--fill-color);\n",
              "      border-top-color: var(--fill-color);\n",
              "      border-right-color: var(--fill-color);\n",
              "    }\n",
              "    40% {\n",
              "      border-color: transparent;\n",
              "      border-right-color: var(--fill-color);\n",
              "      border-top-color: var(--fill-color);\n",
              "    }\n",
              "    60% {\n",
              "      border-color: transparent;\n",
              "      border-right-color: var(--fill-color);\n",
              "    }\n",
              "    80% {\n",
              "      border-color: transparent;\n",
              "      border-right-color: var(--fill-color);\n",
              "      border-bottom-color: var(--fill-color);\n",
              "    }\n",
              "    90% {\n",
              "      border-color: transparent;\n",
              "      border-bottom-color: var(--fill-color);\n",
              "    }\n",
              "  }\n",
              "</style>\n",
              "\n",
              "  <script>\n",
              "    async function quickchart(key) {\n",
              "      const quickchartButtonEl =\n",
              "        document.querySelector('#' + key + ' button');\n",
              "      quickchartButtonEl.disabled = true;  // To prevent multiple clicks.\n",
              "      quickchartButtonEl.classList.add('colab-df-spinner');\n",
              "      try {\n",
              "        const charts = await google.colab.kernel.invokeFunction(\n",
              "            'suggestCharts', [key], {});\n",
              "      } catch (error) {\n",
              "        console.error('Error during call to suggestCharts:', error);\n",
              "      }\n",
              "      quickchartButtonEl.classList.remove('colab-df-spinner');\n",
              "      quickchartButtonEl.classList.add('colab-df-quickchart-complete');\n",
              "    }\n",
              "    (() => {\n",
              "      let quickchartButtonEl =\n",
              "        document.querySelector('#df-77363d70-6159-4eb5-b4db-e3bbb92421e9 button');\n",
              "      quickchartButtonEl.style.display =\n",
              "        google.colab.kernel.accessAllowed ? 'block' : 'none';\n",
              "    })();\n",
              "  </script>\n",
              "</div>\n",
              "\n",
              "    </div>\n",
              "  </div>\n"
            ],
            "application/vnd.google.colaboratory.intrinsic+json": {
              "type": "dataframe",
              "summary": "{\n  \"name\": \"pd\",\n  \"rows\": 7,\n  \"fields\": [\n    {\n      \"column\": \"Male\",\n      \"properties\": {\n        \"dtype\": \"number\",\n        \"std\": 0.12003808919315091,\n        \"min\": 0.015,\n        \"max\": 0.366,\n        \"samples\": [\n          0.015,\n          0.083,\n          0.187\n        ],\n        \"num_unique_values\": 7,\n        \"semantic_type\": \"\",\n        \"description\": \"\"\n      }\n    },\n    {\n      \"column\": \"Female\",\n      \"properties\": {\n        \"dtype\": \"number\",\n        \"std\": 0.12372607993928707,\n        \"min\": 0.009,\n        \"max\": 0.359,\n        \"samples\": [\n          0.009,\n          0.058,\n          0.245\n        ],\n        \"num_unique_values\": 7,\n        \"semantic_type\": \"\",\n        \"description\": \"\"\n      }\n    }\n  ]\n}"
            }
          },
          "metadata": {},
          "execution_count": 30
        }
      ],
      "source": [
        "pd.crosstab(LFS['EDUC'], LFS['SEX'], normalize=1).round(3)"
      ]
    },
    {
      "cell_type": "markdown",
      "metadata": {
        "id": "w0QO1ROd18Qi"
      },
      "source": [
        "## Wage ~ Education + Sex + Class of Worker"
      ]
    },
    {
      "cell_type": "code",
      "execution_count": 31,
      "metadata": {
        "colab": {
          "base_uri": "https://localhost:8080/",
          "height": 0
        },
        "collapsed": true,
        "id": "ED0qgOLSNrKF",
        "outputId": "1e877172-7c42-410d-cbf1-dc5925d8428e"
      },
      "outputs": [
        {
          "output_type": "execute_result",
          "data": {
            "text/plain": [
              "<stargazer.stargazer.Stargazer at 0x7fb8c86b1870>"
            ],
            "text/html": [
              "<table style=\"text-align:center\"><tr><td colspan=\"2\" style=\"border-bottom: 1px solid black\"></td></tr>\n",
              "<tr><td style=\"text-align:left\"></td><td colspan=\"1\"><em>Dependent variable: HRLYEARN</em></td></tr><tr><td style=\"text-align:left\"></td><tr><td style=\"text-align:left\"></td><td>(1)</td></tr>\n",
              "<tr><td colspan=\"2\" style=\"border-bottom: 1px solid black\"></td></tr>\n",
              "\n",
              "<tr><td style=\"text-align:left\">C(COWMAIN)[T.Private sector employees]</td><td>-5.095<sup>***</sup></td></tr>\n",
              "<tr><td style=\"text-align:left\"></td><td>(0.163)</td></tr>\n",
              "<tr><td style=\"text-align:left\">C(COWMAIN)[T.Self-employed incorporated, no paid help]</td><td>0.000<sup>***</sup></td></tr>\n",
              "<tr><td style=\"text-align:left\"></td><td>(0.000)</td></tr>\n",
              "<tr><td style=\"text-align:left\">C(COWMAIN)[T.Self-employed incorporated, with paid help]</td><td>0.000<sup>***</sup></td></tr>\n",
              "<tr><td style=\"text-align:left\"></td><td>(0.000)</td></tr>\n",
              "<tr><td style=\"text-align:left\">C(COWMAIN)[T.Self-employed unincorporated, no paid help]</td><td>0.000<sup>***</sup></td></tr>\n",
              "<tr><td style=\"text-align:left\"></td><td>(0.000)</td></tr>\n",
              "<tr><td style=\"text-align:left\">C(COWMAIN)[T.Self-employed unincorporated, with paid help]</td><td>0.000<sup>***</sup></td></tr>\n",
              "<tr><td style=\"text-align:left\"></td><td>(0.000)</td></tr>\n",
              "<tr><td style=\"text-align:left\">C(COWMAIN)[T.Unpaid family worker]</td><td>0.000<sup>***</sup></td></tr>\n",
              "<tr><td style=\"text-align:left\"></td><td>(0.000)</td></tr>\n",
              "<tr><td style=\"text-align:left\">C(EDUC)[T.Above bachelor's degree]</td><td>23.065<sup>***</sup></td></tr>\n",
              "<tr><td style=\"text-align:left\"></td><td>(0.661)</td></tr>\n",
              "<tr><td style=\"text-align:left\">C(EDUC)[T.Bachelor's degree]</td><td>16.824<sup>***</sup></td></tr>\n",
              "<tr><td style=\"text-align:left\"></td><td>(0.640)</td></tr>\n",
              "<tr><td style=\"text-align:left\">C(EDUC)[T.High school graduate]</td><td>2.923<sup>***</sup></td></tr>\n",
              "<tr><td style=\"text-align:left\"></td><td>(0.641)</td></tr>\n",
              "<tr><td style=\"text-align:left\">C(EDUC)[T.Postsecondary certificate or diploma]</td><td>9.295<sup>***</sup></td></tr>\n",
              "<tr><td style=\"text-align:left\"></td><td>(0.632)</td></tr>\n",
              "<tr><td style=\"text-align:left\">C(EDUC)[T.Some high school]</td><td>-0.991<sup></sup></td></tr>\n",
              "<tr><td style=\"text-align:left\"></td><td>(0.672)</td></tr>\n",
              "<tr><td style=\"text-align:left\">C(EDUC)[T.Some postsecondary]</td><td>2.661<sup>***</sup></td></tr>\n",
              "<tr><td style=\"text-align:left\"></td><td>(0.688)</td></tr>\n",
              "<tr><td style=\"text-align:left\">C(SEX)[T.Female]</td><td>-6.126<sup>***</sup></td></tr>\n",
              "<tr><td style=\"text-align:left\"></td><td>(0.139)</td></tr>\n",
              "<tr><td style=\"text-align:left\">Intercept</td><td>29.835<sup>***</sup></td></tr>\n",
              "<tr><td style=\"text-align:left\"></td><td>(0.644)</td></tr>\n",
              "\n",
              "<td colspan=\"2\" style=\"border-bottom: 1px solid black\"></td></tr>\n",
              "<tr><td style=\"text-align: left\">Observations</td><td>53361</td></tr><tr><td style=\"text-align: left\">R<sup>2</sup></td><td>0.206</td></tr><tr><td style=\"text-align: left\">Adjusted R<sup>2</sup></td><td>0.206</td></tr><tr><td style=\"text-align: left\">Residual Std. Error</td><td>15.827 (df=53352)</td></tr><tr><td style=\"text-align: left\">F Statistic</td><td>1735.268<sup>***</sup> (df=8; 53352)</td></tr>\n",
              "<tr><td colspan=\"2\" style=\"border-bottom: 1px solid black\"></td></tr><tr><td style=\"text-align: left\">Note:</td><td colspan=\"1\" style=\"text-align: right\"><sup>*</sup>p&lt;0.1; <sup>**</sup>p&lt;0.05; <sup>***</sup>p&lt;0.01</td></tr></table>"
            ]
          },
          "metadata": {},
          "execution_count": 31
        }
      ],
      "source": [
        "m6 = smf.ols('HRLYEARN ~ C(EDUC) + C(SEX) + C(COWMAIN)', LFS)\n",
        "\n",
        "results_m6 = m6.fit()\n",
        "\n",
        "Stargazer([results_m6])"
      ]
    },
    {
      "cell_type": "markdown",
      "metadata": {
        "id": "eZxc4Gjo18Qi"
      },
      "source": [
        "# Knit to PDF"
      ]
    },
    {
      "cell_type": "code",
      "execution_count": null,
      "metadata": {
        "id": "PP8uH9rS18Qi"
      },
      "outputs": [],
      "source": [
        "!apt-get install texlive texlive-xetex texlive-latex-extra pandoc > /dev/null 2>&1\n",
        "!pip install pypandoc > /dev/null 2>&1\n",
        "\n",
        "from google.colab import drive\n",
        "drive.mount('/content/drive')\n",
        "\n",
        "!cp /content/drive/MyDrive/Colab\\ Notebooks/W24_ECON3740_Lab_5 ./\n",
        "\n",
        "!jupyter nbconvert --to PDF \"W24_ECON3740_Lab_5\" > /dev/null 2>&1"
      ]
    }
  ]
}