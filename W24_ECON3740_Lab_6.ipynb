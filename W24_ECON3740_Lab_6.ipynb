{
  "nbformat": 4,
  "nbformat_minor": 0,
  "metadata": {
    "colab": {
      "provenance": [],
      "authorship_tag": "ABX9TyPtfw8ns7IWUEnf/Ejc4nNC",
      "include_colab_link": true
    },
    "kernelspec": {
      "name": "python3",
      "display_name": "Python 3"
    },
    "language_info": {
      "name": "python"
    }
  },
  "cells": [
    {
      "cell_type": "markdown",
      "metadata": {
        "id": "view-in-github",
        "colab_type": "text"
      },
      "source": [
        "<a href=\"https://colab.research.google.com/github/havaledar/ECON3740/blob/main/W24_ECON3740_Lab_6.ipynb\" target=\"_parent\"><img src=\"https://colab.research.google.com/assets/colab-badge.svg\" alt=\"Open In Colab\"/></a>"
      ]
    },
    {
      "cell_type": "markdown",
      "source": [
        "# Libraries"
      ],
      "metadata": {
        "id": "MhTM0yE_ijf2"
      }
    },
    {
      "cell_type": "code",
      "source": [
        "!pip install gdown > /dev/null 2>&1\n",
        "!pip install stargazer > /dev/null 2>&1\n",
        "\n",
        "\n",
        "import gdown\n",
        "import pandas as pd\n",
        "import statsmodels.formula.api as smf\n",
        "from stargazer.stargazer import Stargazer"
      ],
      "metadata": {
        "id": "bOE0A7_id97m"
      },
      "execution_count": 1,
      "outputs": []
    },
    {
      "cell_type": "markdown",
      "source": [
        "# Question 1"
      ],
      "metadata": {
        "id": "-i95kXnqvTd_"
      }
    },
    {
      "cell_type": "markdown",
      "source": [
        "## Reading data"
      ],
      "metadata": {
        "id": "44T9aiuJwLeZ"
      }
    },
    {
      "cell_type": "code",
      "source": [
        "url = 'https://drive.google.com/file/d/1FAfkh6Pr6J3CRCLs8ql8QMCa1309fcEU/view?usp=drive_link'\n",
        "output_filename = 'ceosal.dta'\n",
        "gdown.download(url, output_filename, fuzzy=True ,quiet=False)"
      ],
      "metadata": {
        "colab": {
          "base_uri": "https://localhost:8080/",
          "height": 105
        },
        "id": "cHNar4HxwM-8",
        "outputId": "901c8fd4-af03-4774-acfc-8c7af9b0a364"
      },
      "execution_count": 2,
      "outputs": [
        {
          "output_type": "stream",
          "name": "stderr",
          "text": [
            "Downloading...\n",
            "From: https://drive.google.com/uc?id=1FAfkh6Pr6J3CRCLs8ql8QMCa1309fcEU\n",
            "To: /content/ceosal.dta\n",
            "100%|██████████| 13.9k/13.9k [00:00<00:00, 26.5MB/s]\n"
          ]
        },
        {
          "output_type": "execute_result",
          "data": {
            "text/plain": [
              "'ceosal.dta'"
            ],
            "application/vnd.google.colaboratory.intrinsic+json": {
              "type": "string"
            }
          },
          "metadata": {},
          "execution_count": 2
        }
      ]
    },
    {
      "cell_type": "code",
      "source": [
        "CEOSAL = pd.read_stata('/content/ceosal.dta', preserve_dtypes=False)"
      ],
      "metadata": {
        "id": "_ZnddxunKgLH"
      },
      "execution_count": 3,
      "outputs": []
    },
    {
      "cell_type": "code",
      "source": [
        "CEOSAL.info()"
      ],
      "metadata": {
        "colab": {
          "base_uri": "https://localhost:8080/"
        },
        "id": "kFlYq5gqwacZ",
        "outputId": "224c7bca-aaec-4287-983d-4d7db20bb195"
      },
      "execution_count": 4,
      "outputs": [
        {
          "output_type": "stream",
          "name": "stdout",
          "text": [
            "<class 'pandas.core.frame.DataFrame'>\n",
            "Int64Index: 175 entries, 0 to 174\n",
            "Data columns (total 13 columns):\n",
            " #   Column    Non-Null Count  Dtype  \n",
            "---  ------    --------------  -----  \n",
            " 0   salary    175 non-null    int64  \n",
            " 1   age       175 non-null    int64  \n",
            " 2   college   175 non-null    int64  \n",
            " 3   grad      175 non-null    int64  \n",
            " 4   comten    175 non-null    int64  \n",
            " 5   ceoten    175 non-null    int64  \n",
            " 6   sales     175 non-null    float64\n",
            " 7   profits   175 non-null    int64  \n",
            " 8   mktval    175 non-null    float64\n",
            " 9   comtensq  175 non-null    int64  \n",
            " 10  ceotensq  175 non-null    int64  \n",
            " 11  profmarg  175 non-null    float64\n",
            " 12  nsal      175 non-null    float64\n",
            "dtypes: float64(4), int64(9)\n",
            "memory usage: 19.1 KB\n"
          ]
        }
      ]
    },
    {
      "cell_type": "markdown",
      "source": [
        "## Filtering the data"
      ],
      "metadata": {
        "id": "C7RizkzzyXBE"
      }
    },
    {
      "cell_type": "code",
      "source": [
        "CEOSAL = CEOSAL[CEOSAL['age'] >50]"
      ],
      "metadata": {
        "id": "t-jQIkVgyY_s"
      },
      "execution_count": 5,
      "outputs": []
    },
    {
      "cell_type": "markdown",
      "source": [
        "## Regression Salary / CEO Tenure"
      ],
      "metadata": {
        "id": "r_RaAAwwwzNm"
      }
    },
    {
      "cell_type": "code",
      "source": [
        "m1 = smf.ols('salary ~ ceoten', CEOSAL)\n",
        "\n",
        "results_m1 = m1.fit()\n",
        "\n",
        "Stargazer([results_m1])"
      ],
      "metadata": {
        "colab": {
          "base_uri": "https://localhost:8080/",
          "height": 321
        },
        "id": "bJW4BWXhwyiR",
        "outputId": "7c74fc42-a686-4e36-e468-5a9389e34dca"
      },
      "execution_count": 6,
      "outputs": [
        {
          "output_type": "execute_result",
          "data": {
            "text/plain": [
              "<stargazer.stargazer.Stargazer at 0x7920d2f27fd0>"
            ],
            "text/html": [
              "<table style=\"text-align:center\"><tr><td colspan=\"2\" style=\"border-bottom: 1px solid black\"></td></tr>\n",
              "<tr><td style=\"text-align:left\"></td><td colspan=\"1\"><em>Dependent variable: salary</em></td></tr><tr><td style=\"text-align:left\"></td><tr><td style=\"text-align:left\"></td><td>(1)</td></tr>\n",
              "<tr><td colspan=\"2\" style=\"border-bottom: 1px solid black\"></td></tr>\n",
              "\n",
              "<tr><td style=\"text-align:left\">Intercept</td><td>782.704<sup>***</sup></td></tr>\n",
              "<tr><td style=\"text-align:left\"></td><td>(60.341)</td></tr>\n",
              "<tr><td style=\"text-align:left\">ceoten</td><td>9.873<sup>*</sup></td></tr>\n",
              "<tr><td style=\"text-align:left\"></td><td>(5.452)</td></tr>\n",
              "\n",
              "<td colspan=\"2\" style=\"border-bottom: 1px solid black\"></td></tr>\n",
              "<tr><td style=\"text-align: left\">Observations</td><td>137</td></tr><tr><td style=\"text-align: left\">R<sup>2</sup></td><td>0.024</td></tr><tr><td style=\"text-align: left\">Adjusted R<sup>2</sup></td><td>0.016</td></tr><tr><td style=\"text-align: left\">Residual Std. Error</td><td>470.403 (df=135)</td></tr><tr><td style=\"text-align: left\">F Statistic</td><td>3.279<sup>*</sup> (df=1; 135)</td></tr>\n",
              "<tr><td colspan=\"2\" style=\"border-bottom: 1px solid black\"></td></tr><tr><td style=\"text-align: left\">Note:</td><td colspan=\"1\" style=\"text-align: right\"><sup>*</sup>p&lt;0.1; <sup>**</sup>p&lt;0.05; <sup>***</sup>p&lt;0.01</td></tr></table>"
            ]
          },
          "metadata": {},
          "execution_count": 6
        }
      ]
    },
    {
      "cell_type": "markdown",
      "source": [
        "## Regression Salary / Sales"
      ],
      "metadata": {
        "id": "tS692DgMy385"
      }
    },
    {
      "cell_type": "code",
      "source": [
        "m2 = smf.ols('salary ~ sales', CEOSAL)\n",
        "\n",
        "results_m2 = m2.fit()\n",
        "\n",
        "Stargazer([results_m1, results_m2])"
      ],
      "metadata": {
        "colab": {
          "base_uri": "https://localhost:8080/",
          "height": 368
        },
        "outputId": "2960763c-eea1-4394-a3b5-148012cde20f",
        "id": "uMKc349Sy39R"
      },
      "execution_count": 7,
      "outputs": [
        {
          "output_type": "execute_result",
          "data": {
            "text/plain": [
              "<stargazer.stargazer.Stargazer at 0x7920d2eaf4c0>"
            ],
            "text/html": [
              "<table style=\"text-align:center\"><tr><td colspan=\"3\" style=\"border-bottom: 1px solid black\"></td></tr>\n",
              "<tr><td style=\"text-align:left\"></td><td colspan=\"2\"><em>Dependent variable: salary</em></td></tr><tr><td style=\"text-align:left\"></td><tr><td style=\"text-align:left\"></td><td>(1)</td><td>(2)</td></tr>\n",
              "<tr><td colspan=\"3\" style=\"border-bottom: 1px solid black\"></td></tr>\n",
              "\n",
              "<tr><td style=\"text-align:left\">Intercept</td><td>782.704<sup>***</sup></td><td>708.289<sup>***</sup></td></tr>\n",
              "<tr><td style=\"text-align:left\"></td><td>(60.341)</td><td>(40.778)</td></tr>\n",
              "<tr><td style=\"text-align:left\">ceoten</td><td>9.873<sup>*</sup></td><td></td></tr>\n",
              "<tr><td style=\"text-align:left\"></td><td>(5.452)</td><td></td></tr>\n",
              "<tr><td style=\"text-align:left\">sales</td><td></td><td>0.037<sup>***</sup></td></tr>\n",
              "<tr><td style=\"text-align:left\"></td><td></td><td>(0.005)</td></tr>\n",
              "\n",
              "<td colspan=\"3\" style=\"border-bottom: 1px solid black\"></td></tr>\n",
              "<tr><td style=\"text-align: left\">Observations</td><td>137</td><td>137</td></tr><tr><td style=\"text-align: left\">R<sup>2</sup></td><td>0.024</td><td>0.278</td></tr><tr><td style=\"text-align: left\">Adjusted R<sup>2</sup></td><td>0.016</td><td>0.272</td></tr><tr><td style=\"text-align: left\">Residual Std. Error</td><td>470.403 (df=135)</td><td>404.573 (df=135)</td></tr><tr><td style=\"text-align: left\">F Statistic</td><td>3.279<sup>*</sup> (df=1; 135)</td><td>51.941<sup>***</sup> (df=1; 135)</td></tr>\n",
              "<tr><td colspan=\"3\" style=\"border-bottom: 1px solid black\"></td></tr><tr><td style=\"text-align: left\">Note:</td><td colspan=\"2\" style=\"text-align: right\"><sup>*</sup>p&lt;0.1; <sup>**</sup>p&lt;0.05; <sup>***</sup>p&lt;0.01</td></tr></table>"
            ]
          },
          "metadata": {},
          "execution_count": 7
        }
      ]
    },
    {
      "cell_type": "markdown",
      "source": [
        "## Regression Salary / Market Value"
      ],
      "metadata": {
        "id": "tPoQYeRB0dBl"
      }
    },
    {
      "cell_type": "code",
      "source": [
        "m3 = smf.ols('salary ~ mktval', CEOSAL)\n",
        "\n",
        "results_m3 = m3.fit()\n",
        "\n",
        "Stargazer([results_m1, results_m2, results_m3])"
      ],
      "metadata": {
        "colab": {
          "base_uri": "https://localhost:8080/",
          "height": 414
        },
        "outputId": "92146d18-a371-4e4c-85b5-f189c8aac709",
        "id": "6zLXapUh0dBm"
      },
      "execution_count": 8,
      "outputs": [
        {
          "output_type": "execute_result",
          "data": {
            "text/plain": [
              "<stargazer.stargazer.Stargazer at 0x7920d2eaf070>"
            ],
            "text/html": [
              "<table style=\"text-align:center\"><tr><td colspan=\"4\" style=\"border-bottom: 1px solid black\"></td></tr>\n",
              "<tr><td style=\"text-align:left\"></td><td colspan=\"3\"><em>Dependent variable: salary</em></td></tr><tr><td style=\"text-align:left\"></td><tr><td style=\"text-align:left\"></td><td>(1)</td><td>(2)</td><td>(3)</td></tr>\n",
              "<tr><td colspan=\"4\" style=\"border-bottom: 1px solid black\"></td></tr>\n",
              "\n",
              "<tr><td style=\"text-align:left\">Intercept</td><td>782.704<sup>***</sup></td><td>708.289<sup>***</sup></td><td>703.798<sup>***</sup></td></tr>\n",
              "<tr><td style=\"text-align:left\"></td><td>(60.341)</td><td>(40.778)</td><td>(37.976)</td></tr>\n",
              "<tr><td style=\"text-align:left\">ceoten</td><td>9.873<sup>*</sup></td><td></td><td></td></tr>\n",
              "<tr><td style=\"text-align:left\"></td><td>(5.452)</td><td></td><td></td></tr>\n",
              "<tr><td style=\"text-align:left\">mktval</td><td></td><td></td><td>0.040<sup>***</sup></td></tr>\n",
              "<tr><td style=\"text-align:left\"></td><td></td><td></td><td>(0.005)</td></tr>\n",
              "<tr><td style=\"text-align:left\">sales</td><td></td><td>0.037<sup>***</sup></td><td></td></tr>\n",
              "<tr><td style=\"text-align:left\"></td><td></td><td>(0.005)</td><td></td></tr>\n",
              "\n",
              "<td colspan=\"4\" style=\"border-bottom: 1px solid black\"></td></tr>\n",
              "<tr><td style=\"text-align: left\">Observations</td><td>137</td><td>137</td><td>137</td></tr><tr><td style=\"text-align: left\">R<sup>2</sup></td><td>0.024</td><td>0.278</td><td>0.346</td></tr><tr><td style=\"text-align: left\">Adjusted R<sup>2</sup></td><td>0.016</td><td>0.272</td><td>0.341</td></tr><tr><td style=\"text-align: left\">Residual Std. Error</td><td>470.403 (df=135)</td><td>404.573 (df=135)</td><td>384.999 (df=135)</td></tr><tr><td style=\"text-align: left\">F Statistic</td><td>3.279<sup>*</sup> (df=1; 135)</td><td>51.941<sup>***</sup> (df=1; 135)</td><td>71.433<sup>***</sup> (df=1; 135)</td></tr>\n",
              "<tr><td colspan=\"4\" style=\"border-bottom: 1px solid black\"></td></tr><tr><td style=\"text-align: left\">Note:</td><td colspan=\"3\" style=\"text-align: right\"><sup>*</sup>p&lt;0.1; <sup>**</sup>p&lt;0.05; <sup>***</sup>p&lt;0.01</td></tr></table>"
            ]
          },
          "metadata": {},
          "execution_count": 8
        }
      ]
    },
    {
      "cell_type": "markdown",
      "source": [
        "## Regression Salary / CEO Tenure, Sales and Market Value"
      ],
      "metadata": {
        "id": "OHT-ZYM40wNR"
      }
    },
    {
      "cell_type": "code",
      "source": [
        "m4 = smf.ols('salary ~ ceoten + sales + mktval', CEOSAL)\n",
        "\n",
        "results_m4 = m4.fit()\n",
        "\n",
        "Stargazer([results_m1, results_m2, results_m3, results_m4])"
      ],
      "metadata": {
        "colab": {
          "base_uri": "https://localhost:8080/",
          "height": 414
        },
        "outputId": "a0c64597-fd44-4c62-e0dc-836eb2483f2c",
        "id": "BU2E0sdy0wNR"
      },
      "execution_count": 9,
      "outputs": [
        {
          "output_type": "execute_result",
          "data": {
            "text/plain": [
              "<stargazer.stargazer.Stargazer at 0x7920d2f27ca0>"
            ],
            "text/html": [
              "<table style=\"text-align:center\"><tr><td colspan=\"5\" style=\"border-bottom: 1px solid black\"></td></tr>\n",
              "<tr><td style=\"text-align:left\"></td><td colspan=\"4\"><em>Dependent variable: salary</em></td></tr><tr><td style=\"text-align:left\"></td><tr><td style=\"text-align:left\"></td><td>(1)</td><td>(2)</td><td>(3)</td><td>(4)</td></tr>\n",
              "<tr><td colspan=\"5\" style=\"border-bottom: 1px solid black\"></td></tr>\n",
              "\n",
              "<tr><td style=\"text-align:left\">Intercept</td><td>782.704<sup>***</sup></td><td>708.289<sup>***</sup></td><td>703.798<sup>***</sup></td><td>588.782<sup>***</sup></td></tr>\n",
              "<tr><td style=\"text-align:left\"></td><td>(60.341)</td><td>(40.778)</td><td>(37.976)</td><td>(53.450)</td></tr>\n",
              "<tr><td style=\"text-align:left\">ceoten</td><td>9.873<sup>*</sup></td><td></td><td></td><td>11.525<sup>***</sup></td></tr>\n",
              "<tr><td style=\"text-align:left\"></td><td>(5.452)</td><td></td><td></td><td>(4.376)</td></tr>\n",
              "<tr><td style=\"text-align:left\">mktval</td><td></td><td></td><td>0.040<sup>***</sup></td><td>0.029<sup>***</sup></td></tr>\n",
              "<tr><td style=\"text-align:left\"></td><td></td><td></td><td>(0.005)</td><td>(0.007)</td></tr>\n",
              "<tr><td style=\"text-align:left\">sales</td><td></td><td>0.037<sup>***</sup></td><td></td><td>0.016<sup>**</sup></td></tr>\n",
              "<tr><td style=\"text-align:left\"></td><td></td><td>(0.005)</td><td></td><td>(0.007)</td></tr>\n",
              "\n",
              "<td colspan=\"5\" style=\"border-bottom: 1px solid black\"></td></tr>\n",
              "<tr><td style=\"text-align: left\">Observations</td><td>137</td><td>137</td><td>137</td><td>137</td></tr><tr><td style=\"text-align: left\">R<sup>2</sup></td><td>0.024</td><td>0.278</td><td>0.346</td><td>0.392</td></tr><tr><td style=\"text-align: left\">Adjusted R<sup>2</sup></td><td>0.016</td><td>0.272</td><td>0.341</td><td>0.378</td></tr><tr><td style=\"text-align: left\">Residual Std. Error</td><td>470.403 (df=135)</td><td>404.573 (df=135)</td><td>384.999 (df=135)</td><td>374.049 (df=133)</td></tr><tr><td style=\"text-align: left\">F Statistic</td><td>3.279<sup>*</sup> (df=1; 135)</td><td>51.941<sup>***</sup> (df=1; 135)</td><td>71.433<sup>***</sup> (df=1; 135)</td><td>28.565<sup>***</sup> (df=3; 133)</td></tr>\n",
              "<tr><td colspan=\"5\" style=\"border-bottom: 1px solid black\"></td></tr><tr><td style=\"text-align: left\">Note:</td><td colspan=\"4\" style=\"text-align: right\"><sup>*</sup>p&lt;0.1; <sup>**</sup>p&lt;0.05; <sup>***</sup>p&lt;0.01</td></tr></table>"
            ]
          },
          "metadata": {},
          "execution_count": 9
        }
      ]
    },
    {
      "cell_type": "markdown",
      "source": [
        "## Partialling out"
      ],
      "metadata": {
        "id": "flQthE1o8etY"
      }
    },
    {
      "cell_type": "code",
      "source": [
        "m5 = smf.ols('ceoten ~ sales + mktval', CEOSAL)\n",
        "\n",
        "results_m5 = m5.fit()\n",
        "\n",
        "Stargazer([results_m5])"
      ],
      "metadata": {
        "colab": {
          "base_uri": "https://localhost:8080/",
          "height": 368
        },
        "id": "gnd-vCmr8hVq",
        "outputId": "aea0d608-2842-49cc-9c9e-5baecdd874e3"
      },
      "execution_count": 10,
      "outputs": [
        {
          "output_type": "execute_result",
          "data": {
            "text/plain": [
              "<stargazer.stargazer.Stargazer at 0x7920d25f6e90>"
            ],
            "text/html": [
              "<table style=\"text-align:center\"><tr><td colspan=\"2\" style=\"border-bottom: 1px solid black\"></td></tr>\n",
              "<tr><td style=\"text-align:left\"></td><td colspan=\"1\"><em>Dependent variable: ceoten</em></td></tr><tr><td style=\"text-align:left\"></td><tr><td style=\"text-align:left\"></td><td>(1)</td></tr>\n",
              "<tr><td colspan=\"2\" style=\"border-bottom: 1px solid black\"></td></tr>\n",
              "\n",
              "<tr><td style=\"text-align:left\">Intercept</td><td>8.587<sup>***</sup></td></tr>\n",
              "<tr><td style=\"text-align:left\"></td><td>(0.750)</td></tr>\n",
              "<tr><td style=\"text-align:left\">mktval</td><td>0.000<sup></sup></td></tr>\n",
              "<tr><td style=\"text-align:left\"></td><td>(0.000)</td></tr>\n",
              "<tr><td style=\"text-align:left\">sales</td><td>-0.000<sup></sup></td></tr>\n",
              "<tr><td style=\"text-align:left\"></td><td>(0.000)</td></tr>\n",
              "\n",
              "<td colspan=\"2\" style=\"border-bottom: 1px solid black\"></td></tr>\n",
              "<tr><td style=\"text-align: left\">Observations</td><td>137</td></tr><tr><td style=\"text-align: left\">R<sup>2</sup></td><td>0.019</td></tr><tr><td style=\"text-align: left\">Adjusted R<sup>2</sup></td><td>0.004</td></tr><tr><td style=\"text-align: left\">Residual Std. Error</td><td>7.384 (df=134)</td></tr><tr><td style=\"text-align: left\">F Statistic</td><td>1.264<sup></sup> (df=2; 134)</td></tr>\n",
              "<tr><td colspan=\"2\" style=\"border-bottom: 1px solid black\"></td></tr><tr><td style=\"text-align: left\">Note:</td><td colspan=\"1\" style=\"text-align: right\"><sup>*</sup>p&lt;0.1; <sup>**</sup>p&lt;0.05; <sup>***</sup>p&lt;0.01</td></tr></table>"
            ]
          },
          "metadata": {},
          "execution_count": 10
        }
      ]
    },
    {
      "cell_type": "code",
      "source": [
        "CEOSAL['residuals'] = results_m5.resid"
      ],
      "metadata": {
        "id": "bhEikQyx94il"
      },
      "execution_count": 11,
      "outputs": []
    },
    {
      "cell_type": "code",
      "source": [
        "CEOSAL['residuals'].describe()"
      ],
      "metadata": {
        "colab": {
          "base_uri": "https://localhost:8080/"
        },
        "id": "g5feEaFe_LqJ",
        "outputId": "96ba0c15-84ce-4fb3-eac4-e5a4508ac60e"
      },
      "execution_count": 12,
      "outputs": [
        {
          "output_type": "execute_result",
          "data": {
            "text/plain": [
              "count    1.370000e+02\n",
              "mean    -8.816954e-16\n",
              "std      7.329537e+00\n",
              "min     -8.662236e+00\n",
              "25%     -5.317043e+00\n",
              "50%     -1.675540e+00\n",
              "75%      3.376666e+00\n",
              "max      2.848864e+01\n",
              "Name: residuals, dtype: float64"
            ]
          },
          "metadata": {},
          "execution_count": 12
        }
      ]
    },
    {
      "cell_type": "code",
      "source": [
        "m6 = smf.ols('salary ~ residuals', CEOSAL)\n",
        "\n",
        "results_m6 = m6.fit()\n",
        "\n",
        "Stargazer([results_m6])"
      ],
      "metadata": {
        "colab": {
          "base_uri": "https://localhost:8080/",
          "height": 321
        },
        "id": "egDZegfw_URm",
        "outputId": "de465cd0-d998-45ae-c7ba-8ed6e701107f"
      },
      "execution_count": 13,
      "outputs": [
        {
          "output_type": "execute_result",
          "data": {
            "text/plain": [
              "<stargazer.stargazer.Stargazer at 0x7920d8094040>"
            ],
            "text/html": [
              "<table style=\"text-align:center\"><tr><td colspan=\"2\" style=\"border-bottom: 1px solid black\"></td></tr>\n",
              "<tr><td style=\"text-align:left\"></td><td colspan=\"1\"><em>Dependent variable: salary</em></td></tr><tr><td style=\"text-align:left\"></td><tr><td style=\"text-align:left\"></td><td>(1)</td></tr>\n",
              "<tr><td colspan=\"2\" style=\"border-bottom: 1px solid black\"></td></tr>\n",
              "\n",
              "<tr><td style=\"text-align:left\">Intercept</td><td>864.212<sup>***</sup></td></tr>\n",
              "<tr><td style=\"text-align:left\"></td><td>(40.024)</td></tr>\n",
              "<tr><td style=\"text-align:left\">residuals</td><td>11.525<sup>**</sup></td></tr>\n",
              "<tr><td style=\"text-align:left\"></td><td>(5.481)</td></tr>\n",
              "\n",
              "<td colspan=\"2\" style=\"border-bottom: 1px solid black\"></td></tr>\n",
              "<tr><td style=\"text-align: left\">Observations</td><td>137</td></tr><tr><td style=\"text-align: left\">R<sup>2</sup></td><td>0.032</td></tr><tr><td style=\"text-align: left\">Adjusted R<sup>2</sup></td><td>0.025</td></tr><tr><td style=\"text-align: left\">Residual Std. Error</td><td>468.471 (df=135)</td></tr><tr><td style=\"text-align: left\">F Statistic</td><td>4.422<sup>**</sup> (df=1; 135)</td></tr>\n",
              "<tr><td colspan=\"2\" style=\"border-bottom: 1px solid black\"></td></tr><tr><td style=\"text-align: left\">Note:</td><td colspan=\"1\" style=\"text-align: right\"><sup>*</sup>p&lt;0.1; <sup>**</sup>p&lt;0.05; <sup>***</sup>p&lt;0.01</td></tr></table>"
            ]
          },
          "metadata": {},
          "execution_count": 13
        }
      ]
    },
    {
      "cell_type": "markdown",
      "source": [
        "# Question 2"
      ],
      "metadata": {
        "id": "viR3bMbIwIs6"
      }
    },
    {
      "cell_type": "markdown",
      "source": [
        "## Reading data"
      ],
      "metadata": {
        "id": "Tyuc9iJYimGQ"
      }
    },
    {
      "cell_type": "code",
      "source": [
        "url = 'https://drive.google.com/file/d/1m0d9gZZBfHm7qGerKKLN7UzWaNUbQi0R/view?usp=sharing'\n",
        "output_filename = 'lfs.dta'\n",
        "gdown.download(url, output_filename, fuzzy=True ,quiet=False)"
      ],
      "metadata": {
        "colab": {
          "base_uri": "https://localhost:8080/",
          "height": 105
        },
        "id": "T5Ix8u9PkBK1",
        "outputId": "f7f902c7-78ab-45f1-803a-8a131e3746e9"
      },
      "execution_count": null,
      "outputs": [
        {
          "output_type": "stream",
          "name": "stderr",
          "text": [
            "Downloading...\n",
            "From: https://drive.google.com/uc?id=1m0d9gZZBfHm7qGerKKLN7UzWaNUbQi0R\n",
            "To: /content/lfs.dta\n",
            "100%|██████████| 13.6M/13.6M [00:00<00:00, 129MB/s]\n"
          ]
        },
        {
          "output_type": "execute_result",
          "data": {
            "text/plain": [
              "'lfs.dta'"
            ],
            "application/vnd.google.colaboratory.intrinsic+json": {
              "type": "string"
            }
          },
          "metadata": {},
          "execution_count": 3
        }
      ]
    },
    {
      "cell_type": "code",
      "source": [
        "LFS = pd.read_stata('lfs.dta', convert_categoricals=True)"
      ],
      "metadata": {
        "id": "gmtVfpKMiij7"
      },
      "execution_count": null,
      "outputs": []
    },
    {
      "cell_type": "code",
      "source": [
        "LFS.info()"
      ],
      "metadata": {
        "colab": {
          "base_uri": "https://localhost:8080/"
        },
        "id": "KewsaRd1EhEr",
        "outputId": "f2e494b3-69e0-4eea-ce0e-ef95aa85d849"
      },
      "execution_count": null,
      "outputs": [
        {
          "output_type": "stream",
          "name": "stdout",
          "text": [
            "<class 'pandas.core.frame.DataFrame'>\n",
            "Int64Index: 103403 entries, 0 to 103402\n",
            "Data columns (total 60 columns):\n",
            " #   Column    Non-Null Count   Dtype   \n",
            "---  ------    --------------   -----   \n",
            " 0   REC_NUM   103403 non-null  int64   \n",
            " 1   SURVYEAR  103403 non-null  int64   \n",
            " 2   SURVMNTH  103403 non-null  category\n",
            " 3   LFSSTAT   103403 non-null  category\n",
            " 4   PROV      103403 non-null  category\n",
            " 5   CMA       103403 non-null  category\n",
            " 6   AGE_12    103403 non-null  category\n",
            " 7   AGE_6     19607 non-null   category\n",
            " 8   SEX       103403 non-null  category\n",
            " 9   MARSTAT   103403 non-null  category\n",
            " 10  EDUC      103403 non-null  category\n",
            " 11  MJH       61764 non-null   category\n",
            " 12  EVERWORK  41639 non-null   category\n",
            " 13  FTPTLAST  6518 non-null    category\n",
            " 14  COWMAIN   68282 non-null   category\n",
            " 15  IMMIG     103403 non-null  category\n",
            " 16  NAICS_21  68282 non-null   category\n",
            " 17  NOC_10    68282 non-null   category\n",
            " 18  NOC_43    68282 non-null   category\n",
            " 19  YABSENT   9358 non-null    category\n",
            " 20  WKSAWAY   9358 non-null    float64 \n",
            " 21  PAYAWAY   8652 non-null    category\n",
            " 22  UHRSMAIN  61764 non-null   float64 \n",
            " 23  AHRSMAIN  61764 non-null   float64 \n",
            " 24  FTPTMAIN  61764 non-null   category\n",
            " 25  UTOTHRS   61764 non-null   float64 \n",
            " 26  ATOTHRS   61764 non-null   float64 \n",
            " 27  HRSAWAY   45373 non-null   float64 \n",
            " 28  YAWAY     6697 non-null    category\n",
            " 29  PAIDOT    45373 non-null   float64 \n",
            " 30  UNPAIDOT  45373 non-null   float64 \n",
            " 31  XTRAHRS   45373 non-null   float64 \n",
            " 32  WHYPT     10154 non-null   category\n",
            " 33  TENURE    61764 non-null   float64 \n",
            " 34  PREVTEN   6518 non-null    float64 \n",
            " 35  HRLYEARN  53443 non-null   float64 \n",
            " 36  UNION     53443 non-null   category\n",
            " 37  PERMTEMP  53443 non-null   category\n",
            " 38  ESTSIZE   53443 non-null   category\n",
            " 39  FIRMSIZE  53443 non-null   category\n",
            " 40  DURUNEMP  3571 non-null    float64 \n",
            " 41  FLOWUNEM  4139 non-null    category\n",
            " 42  UNEMFTPT  4139 non-null    category\n",
            " 43  WHYLEFTO  6518 non-null    category\n",
            " 44  WHYLEFTN  6518 non-null    category\n",
            " 45  DURJLESS  35422 non-null   float64 \n",
            " 46  AVAILABL  4416 non-null    category\n",
            " 47  LKPUBAG   395 non-null     category\n",
            " 48  LKEMPLOY  1686 non-null    category\n",
            " 49  LKRELS    1093 non-null    category\n",
            " 50  LKATADS   2612 non-null    category\n",
            " 51  LKANSADS  1483 non-null    category\n",
            " 52  LKOTHERN  830 non-null     category\n",
            " 53  PRIORACT  3433 non-null    category\n",
            " 54  YNOLOOK   1226 non-null    category\n",
            " 55  TLOLOOK   138 non-null     category\n",
            " 56  SCHOOLN   76566 non-null   category\n",
            " 57  EFAMTYPE  103403 non-null  category\n",
            " 58  AGYOWNK   26565 non-null   category\n",
            " 59  FINALWT   103403 non-null  int64   \n",
            "dtypes: category(43), float64(14), int64(3)\n",
            "memory usage: 18.5 MB\n"
          ]
        }
      ]
    },
    {
      "cell_type": "code",
      "source": [
        "pd.read_stata('lfs.dta', iterator=True).variable_labels()"
      ],
      "metadata": {
        "id": "R9XFmaMpFIRe"
      },
      "execution_count": null,
      "outputs": []
    },
    {
      "cell_type": "code",
      "source": [
        "LFS['HRLYEARN'].describe()"
      ],
      "metadata": {
        "id": "M2Ox5TLV11WK",
        "outputId": "c43f8c3d-07c9-45d9-8b49-88f6d1636cd1",
        "colab": {
          "base_uri": "https://localhost:8080/"
        }
      },
      "execution_count": null,
      "outputs": [
        {
          "output_type": "execute_result",
          "data": {
            "text/plain": [
              "count    53443.000000\n",
              "mean        32.958818\n",
              "std         17.763025\n",
              "min          5.190000\n",
              "25%         20.000000\n",
              "50%         28.000000\n",
              "75%         41.000000\n",
              "max        197.440000\n",
              "Name: HRLYEARN, dtype: float64"
            ]
          },
          "metadata": {},
          "execution_count": 59
        }
      ]
    },
    {
      "cell_type": "markdown",
      "source": [
        "https://odesi.ca/en/details?id=/odesi/doi__10-5683_SP3_VTKODV.xml"
      ],
      "metadata": {
        "id": "2uNAMCdtLPB4"
      }
    },
    {
      "cell_type": "code",
      "source": [
        "LFS = LFS[\n",
        "    (LFS['HRLYEARN'] > 0) &\n",
        "    (\n",
        "        (LFS['COWMAIN'] == 'Private sector employees') |\n",
        "        (LFS['COWMAIN'] == 'Public sector employees')\n",
        "         )\n",
        "    ]"
      ],
      "metadata": {
        "id": "IgU92gQGGk6w"
      },
      "execution_count": null,
      "outputs": []
    },
    {
      "cell_type": "code",
      "source": [
        " EDUC SEX"
      ],
      "metadata": {
        "id": "siOF9An-I4H_"
      },
      "execution_count": null,
      "outputs": []
    },
    {
      "cell_type": "code",
      "source": [
        "LFS['HRLYEARN'].info()"
      ],
      "metadata": {
        "colab": {
          "base_uri": "https://localhost:8080/"
        },
        "id": "QSkoK7n2I73r",
        "outputId": "8907dd91-c08c-433a-86b7-1d2575b244af"
      },
      "execution_count": null,
      "outputs": [
        {
          "output_type": "stream",
          "name": "stdout",
          "text": [
            "<class 'pandas.core.series.Series'>\n",
            "Int64Index: 103403 entries, 0 to 103402\n",
            "Series name: HRLYEARN\n",
            "Non-Null Count  Dtype  \n",
            "--------------  -----  \n",
            "53443 non-null  float64\n",
            "dtypes: float64(1)\n",
            "memory usage: 1.6 MB\n"
          ]
        }
      ]
    },
    {
      "cell_type": "code",
      "source": [
        "LFS['HRLYEARN'].head(10)"
      ],
      "metadata": {
        "colab": {
          "base_uri": "https://localhost:8080/"
        },
        "id": "ePpR1XAGJaNU",
        "outputId": "2e8d5308-1972-4920-8fd4-614bf6b3ba6b"
      },
      "execution_count": null,
      "outputs": [
        {
          "output_type": "execute_result",
          "data": {
            "text/plain": [
              "0      NaN\n",
              "1      NaN\n",
              "2    18.25\n",
              "3      NaN\n",
              "4      NaN\n",
              "5    16.00\n",
              "6    28.50\n",
              "7      NaN\n",
              "8    14.25\n",
              "9      NaN\n",
              "Name: HRLYEARN, dtype: float64"
            ]
          },
          "metadata": {},
          "execution_count": 75
        }
      ]
    },
    {
      "cell_type": "code",
      "source": [
        "LFS['COWMAIN'].info()"
      ],
      "metadata": {
        "colab": {
          "base_uri": "https://localhost:8080/"
        },
        "id": "PQfziOX1JewU",
        "outputId": "e73b7791-af3a-44f4-f9a8-4f30a1d824bf"
      },
      "execution_count": null,
      "outputs": [
        {
          "output_type": "stream",
          "name": "stdout",
          "text": [
            "<class 'pandas.core.series.Series'>\n",
            "Int64Index: 103403 entries, 0 to 103402\n",
            "Series name: COWMAIN\n",
            "Non-Null Count  Dtype   \n",
            "--------------  -----   \n",
            "68282 non-null  category\n",
            "dtypes: category(1)\n",
            "memory usage: 909.2 KB\n"
          ]
        }
      ]
    },
    {
      "cell_type": "code",
      "source": [
        "LFS['COWMAIN'].head(10)"
      ],
      "metadata": {
        "colab": {
          "base_uri": "https://localhost:8080/"
        },
        "id": "iuUECqqLJqQK",
        "outputId": "a3a03d04-d970-4e1f-a753-04e68fa71491"
      },
      "execution_count": null,
      "outputs": [
        {
          "output_type": "execute_result",
          "data": {
            "text/plain": [
              "2     Private sector employees\n",
              "5     Private sector employees\n",
              "6     Private sector employees\n",
              "8     Private sector employees\n",
              "10    Private sector employees\n",
              "13     Public sector employees\n",
              "14     Public sector employees\n",
              "17    Private sector employees\n",
              "19    Private sector employees\n",
              "23    Private sector employees\n",
              "Name: COWMAIN, dtype: category\n",
              "Categories (7, object): ['Public sector employees' < 'Private sector employees' <\n",
              "                         'Self-employed incorporated, with paid help' < 'Self-employed incorporated, no paid help' <\n",
              "                         'Self-employed unincorporated, with paid help' < 'Self-employed unincorporated, no paid help' <\n",
              "                         'Unpaid family worker']"
            ]
          },
          "metadata": {},
          "execution_count": 80
        }
      ]
    },
    {
      "cell_type": "code",
      "source": [
        "pd.crosstab(LFS['EDUC'], LFS['SEX'], normalize=1, ).round(3)"
      ],
      "metadata": {
        "colab": {
          "base_uri": "https://localhost:8080/",
          "height": 300
        },
        "id": "LxGzD2WMMQw-",
        "outputId": "fae83f12-4e8b-4600-e627-3c2567fd9518"
      },
      "execution_count": null,
      "outputs": [
        {
          "output_type": "execute_result",
          "data": {
            "text/plain": [
              "SEX                                    Male  Female\n",
              "EDUC                                               \n",
              "0 to 8 years                          0.015   0.009\n",
              "Some high school                      0.083   0.058\n",
              "High school graduate                  0.206   0.165\n",
              "Some postsecondary                    0.054   0.053\n",
              "Postsecondary certificate or diploma  0.366   0.359\n",
              "Bachelor's degree                     0.187   0.245\n",
              "Above bachelor's degree               0.089   0.111"
            ],
            "text/html": [
              "\n",
              "  <div id=\"df-d10bb117-0c99-4a6a-8050-56160eababa5\" class=\"colab-df-container\">\n",
              "    <div>\n",
              "<style scoped>\n",
              "    .dataframe tbody tr th:only-of-type {\n",
              "        vertical-align: middle;\n",
              "    }\n",
              "\n",
              "    .dataframe tbody tr th {\n",
              "        vertical-align: top;\n",
              "    }\n",
              "\n",
              "    .dataframe thead th {\n",
              "        text-align: right;\n",
              "    }\n",
              "</style>\n",
              "<table border=\"1\" class=\"dataframe\">\n",
              "  <thead>\n",
              "    <tr style=\"text-align: right;\">\n",
              "      <th>SEX</th>\n",
              "      <th>Male</th>\n",
              "      <th>Female</th>\n",
              "    </tr>\n",
              "    <tr>\n",
              "      <th>EDUC</th>\n",
              "      <th></th>\n",
              "      <th></th>\n",
              "    </tr>\n",
              "  </thead>\n",
              "  <tbody>\n",
              "    <tr>\n",
              "      <th>0 to 8 years</th>\n",
              "      <td>0.015</td>\n",
              "      <td>0.009</td>\n",
              "    </tr>\n",
              "    <tr>\n",
              "      <th>Some high school</th>\n",
              "      <td>0.083</td>\n",
              "      <td>0.058</td>\n",
              "    </tr>\n",
              "    <tr>\n",
              "      <th>High school graduate</th>\n",
              "      <td>0.206</td>\n",
              "      <td>0.165</td>\n",
              "    </tr>\n",
              "    <tr>\n",
              "      <th>Some postsecondary</th>\n",
              "      <td>0.054</td>\n",
              "      <td>0.053</td>\n",
              "    </tr>\n",
              "    <tr>\n",
              "      <th>Postsecondary certificate or diploma</th>\n",
              "      <td>0.366</td>\n",
              "      <td>0.359</td>\n",
              "    </tr>\n",
              "    <tr>\n",
              "      <th>Bachelor's degree</th>\n",
              "      <td>0.187</td>\n",
              "      <td>0.245</td>\n",
              "    </tr>\n",
              "    <tr>\n",
              "      <th>Above bachelor's degree</th>\n",
              "      <td>0.089</td>\n",
              "      <td>0.111</td>\n",
              "    </tr>\n",
              "  </tbody>\n",
              "</table>\n",
              "</div>\n",
              "    <div class=\"colab-df-buttons\">\n",
              "\n",
              "  <div class=\"colab-df-container\">\n",
              "    <button class=\"colab-df-convert\" onclick=\"convertToInteractive('df-d10bb117-0c99-4a6a-8050-56160eababa5')\"\n",
              "            title=\"Convert this dataframe to an interactive table.\"\n",
              "            style=\"display:none;\">\n",
              "\n",
              "  <svg xmlns=\"http://www.w3.org/2000/svg\" height=\"24px\" viewBox=\"0 -960 960 960\">\n",
              "    <path d=\"M120-120v-720h720v720H120Zm60-500h600v-160H180v160Zm220 220h160v-160H400v160Zm0 220h160v-160H400v160ZM180-400h160v-160H180v160Zm440 0h160v-160H620v160ZM180-180h160v-160H180v160Zm440 0h160v-160H620v160Z\"/>\n",
              "  </svg>\n",
              "    </button>\n",
              "\n",
              "  <style>\n",
              "    .colab-df-container {\n",
              "      display:flex;\n",
              "      gap: 12px;\n",
              "    }\n",
              "\n",
              "    .colab-df-convert {\n",
              "      background-color: #E8F0FE;\n",
              "      border: none;\n",
              "      border-radius: 50%;\n",
              "      cursor: pointer;\n",
              "      display: none;\n",
              "      fill: #1967D2;\n",
              "      height: 32px;\n",
              "      padding: 0 0 0 0;\n",
              "      width: 32px;\n",
              "    }\n",
              "\n",
              "    .colab-df-convert:hover {\n",
              "      background-color: #E2EBFA;\n",
              "      box-shadow: 0px 1px 2px rgba(60, 64, 67, 0.3), 0px 1px 3px 1px rgba(60, 64, 67, 0.15);\n",
              "      fill: #174EA6;\n",
              "    }\n",
              "\n",
              "    .colab-df-buttons div {\n",
              "      margin-bottom: 4px;\n",
              "    }\n",
              "\n",
              "    [theme=dark] .colab-df-convert {\n",
              "      background-color: #3B4455;\n",
              "      fill: #D2E3FC;\n",
              "    }\n",
              "\n",
              "    [theme=dark] .colab-df-convert:hover {\n",
              "      background-color: #434B5C;\n",
              "      box-shadow: 0px 1px 3px 1px rgba(0, 0, 0, 0.15);\n",
              "      filter: drop-shadow(0px 1px 2px rgba(0, 0, 0, 0.3));\n",
              "      fill: #FFFFFF;\n",
              "    }\n",
              "  </style>\n",
              "\n",
              "    <script>\n",
              "      const buttonEl =\n",
              "        document.querySelector('#df-d10bb117-0c99-4a6a-8050-56160eababa5 button.colab-df-convert');\n",
              "      buttonEl.style.display =\n",
              "        google.colab.kernel.accessAllowed ? 'block' : 'none';\n",
              "\n",
              "      async function convertToInteractive(key) {\n",
              "        const element = document.querySelector('#df-d10bb117-0c99-4a6a-8050-56160eababa5');\n",
              "        const dataTable =\n",
              "          await google.colab.kernel.invokeFunction('convertToInteractive',\n",
              "                                                    [key], {});\n",
              "        if (!dataTable) return;\n",
              "\n",
              "        const docLinkHtml = 'Like what you see? Visit the ' +\n",
              "          '<a target=\"_blank\" href=https://colab.research.google.com/notebooks/data_table.ipynb>data table notebook</a>'\n",
              "          + ' to learn more about interactive tables.';\n",
              "        element.innerHTML = '';\n",
              "        dataTable['output_type'] = 'display_data';\n",
              "        await google.colab.output.renderOutput(dataTable, element);\n",
              "        const docLink = document.createElement('div');\n",
              "        docLink.innerHTML = docLinkHtml;\n",
              "        element.appendChild(docLink);\n",
              "      }\n",
              "    </script>\n",
              "  </div>\n",
              "\n",
              "\n",
              "<div id=\"df-d5a3e6ef-a974-4c1b-a307-a9b2c36b0192\">\n",
              "  <button class=\"colab-df-quickchart\" onclick=\"quickchart('df-d5a3e6ef-a974-4c1b-a307-a9b2c36b0192')\"\n",
              "            title=\"Suggest charts\"\n",
              "            style=\"display:none;\">\n",
              "\n",
              "<svg xmlns=\"http://www.w3.org/2000/svg\" height=\"24px\"viewBox=\"0 0 24 24\"\n",
              "     width=\"24px\">\n",
              "    <g>\n",
              "        <path d=\"M19 3H5c-1.1 0-2 .9-2 2v14c0 1.1.9 2 2 2h14c1.1 0 2-.9 2-2V5c0-1.1-.9-2-2-2zM9 17H7v-7h2v7zm4 0h-2V7h2v10zm4 0h-2v-4h2v4z\"/>\n",
              "    </g>\n",
              "</svg>\n",
              "  </button>\n",
              "\n",
              "<style>\n",
              "  .colab-df-quickchart {\n",
              "      --bg-color: #E8F0FE;\n",
              "      --fill-color: #1967D2;\n",
              "      --hover-bg-color: #E2EBFA;\n",
              "      --hover-fill-color: #174EA6;\n",
              "      --disabled-fill-color: #AAA;\n",
              "      --disabled-bg-color: #DDD;\n",
              "  }\n",
              "\n",
              "  [theme=dark] .colab-df-quickchart {\n",
              "      --bg-color: #3B4455;\n",
              "      --fill-color: #D2E3FC;\n",
              "      --hover-bg-color: #434B5C;\n",
              "      --hover-fill-color: #FFFFFF;\n",
              "      --disabled-bg-color: #3B4455;\n",
              "      --disabled-fill-color: #666;\n",
              "  }\n",
              "\n",
              "  .colab-df-quickchart {\n",
              "    background-color: var(--bg-color);\n",
              "    border: none;\n",
              "    border-radius: 50%;\n",
              "    cursor: pointer;\n",
              "    display: none;\n",
              "    fill: var(--fill-color);\n",
              "    height: 32px;\n",
              "    padding: 0;\n",
              "    width: 32px;\n",
              "  }\n",
              "\n",
              "  .colab-df-quickchart:hover {\n",
              "    background-color: var(--hover-bg-color);\n",
              "    box-shadow: 0 1px 2px rgba(60, 64, 67, 0.3), 0 1px 3px 1px rgba(60, 64, 67, 0.15);\n",
              "    fill: var(--button-hover-fill-color);\n",
              "  }\n",
              "\n",
              "  .colab-df-quickchart-complete:disabled,\n",
              "  .colab-df-quickchart-complete:disabled:hover {\n",
              "    background-color: var(--disabled-bg-color);\n",
              "    fill: var(--disabled-fill-color);\n",
              "    box-shadow: none;\n",
              "  }\n",
              "\n",
              "  .colab-df-spinner {\n",
              "    border: 2px solid var(--fill-color);\n",
              "    border-color: transparent;\n",
              "    border-bottom-color: var(--fill-color);\n",
              "    animation:\n",
              "      spin 1s steps(1) infinite;\n",
              "  }\n",
              "\n",
              "  @keyframes spin {\n",
              "    0% {\n",
              "      border-color: transparent;\n",
              "      border-bottom-color: var(--fill-color);\n",
              "      border-left-color: var(--fill-color);\n",
              "    }\n",
              "    20% {\n",
              "      border-color: transparent;\n",
              "      border-left-color: var(--fill-color);\n",
              "      border-top-color: var(--fill-color);\n",
              "    }\n",
              "    30% {\n",
              "      border-color: transparent;\n",
              "      border-left-color: var(--fill-color);\n",
              "      border-top-color: var(--fill-color);\n",
              "      border-right-color: var(--fill-color);\n",
              "    }\n",
              "    40% {\n",
              "      border-color: transparent;\n",
              "      border-right-color: var(--fill-color);\n",
              "      border-top-color: var(--fill-color);\n",
              "    }\n",
              "    60% {\n",
              "      border-color: transparent;\n",
              "      border-right-color: var(--fill-color);\n",
              "    }\n",
              "    80% {\n",
              "      border-color: transparent;\n",
              "      border-right-color: var(--fill-color);\n",
              "      border-bottom-color: var(--fill-color);\n",
              "    }\n",
              "    90% {\n",
              "      border-color: transparent;\n",
              "      border-bottom-color: var(--fill-color);\n",
              "    }\n",
              "  }\n",
              "</style>\n",
              "\n",
              "  <script>\n",
              "    async function quickchart(key) {\n",
              "      const quickchartButtonEl =\n",
              "        document.querySelector('#' + key + ' button');\n",
              "      quickchartButtonEl.disabled = true;  // To prevent multiple clicks.\n",
              "      quickchartButtonEl.classList.add('colab-df-spinner');\n",
              "      try {\n",
              "        const charts = await google.colab.kernel.invokeFunction(\n",
              "            'suggestCharts', [key], {});\n",
              "      } catch (error) {\n",
              "        console.error('Error during call to suggestCharts:', error);\n",
              "      }\n",
              "      quickchartButtonEl.classList.remove('colab-df-spinner');\n",
              "      quickchartButtonEl.classList.add('colab-df-quickchart-complete');\n",
              "    }\n",
              "    (() => {\n",
              "      let quickchartButtonEl =\n",
              "        document.querySelector('#df-d5a3e6ef-a974-4c1b-a307-a9b2c36b0192 button');\n",
              "      quickchartButtonEl.style.display =\n",
              "        google.colab.kernel.accessAllowed ? 'block' : 'none';\n",
              "    })();\n",
              "  </script>\n",
              "</div>\n",
              "\n",
              "    </div>\n",
              "  </div>\n"
            ],
            "application/vnd.google.colaboratory.intrinsic+json": {
              "type": "dataframe",
              "summary": "{\n  \"name\": \"pd\",\n  \"rows\": 7,\n  \"fields\": [\n    {\n      \"column\": \"Male\",\n      \"properties\": {\n        \"dtype\": \"number\",\n        \"std\": 0.12003808919315091,\n        \"min\": 0.015,\n        \"max\": 0.366,\n        \"samples\": [\n          0.015,\n          0.083,\n          0.187\n        ],\n        \"num_unique_values\": 7,\n        \"semantic_type\": \"\",\n        \"description\": \"\"\n      }\n    },\n    {\n      \"column\": \"Female\",\n      \"properties\": {\n        \"dtype\": \"number\",\n        \"std\": 0.12372607993928707,\n        \"min\": 0.009,\n        \"max\": 0.359,\n        \"samples\": [\n          0.009,\n          0.058,\n          0.245\n        ],\n        \"num_unique_values\": 7,\n        \"semantic_type\": \"\",\n        \"description\": \"\"\n      }\n    }\n  ]\n}"
            }
          },
          "metadata": {},
          "execution_count": 84
        }
      ]
    },
    {
      "cell_type": "code",
      "source": [
        "m7 = smf.ols('HRLYEARN ~ C(EDUC) + C(SEX) + C(COWMAIN)', LFS)\n",
        "\n",
        "results_m7 = m7.fit()\n",
        "\n",
        "Stargazer([results_m7])"
      ],
      "metadata": {
        "colab": {
          "base_uri": "https://localhost:8080/",
          "height": 878
        },
        "id": "ED0qgOLSNrKF",
        "outputId": "f3934acb-7496-4ab4-824f-9efbf17d6dd5"
      },
      "execution_count": null,
      "outputs": [
        {
          "output_type": "execute_result",
          "data": {
            "text/plain": [
              "<stargazer.stargazer.Stargazer at 0x7f21537557b0>"
            ],
            "text/html": [
              "<table style=\"text-align:center\"><tr><td colspan=\"2\" style=\"border-bottom: 1px solid black\"></td></tr>\n",
              "<tr><td style=\"text-align:left\"></td><td colspan=\"1\"><em>Dependent variable: HRLYEARN</em></td></tr><tr><td style=\"text-align:left\"></td><tr><td style=\"text-align:left\"></td><td>(1)</td></tr>\n",
              "<tr><td colspan=\"2\" style=\"border-bottom: 1px solid black\"></td></tr>\n",
              "\n",
              "<tr><td style=\"text-align:left\">C(COWMAIN)[T.Private sector employees]</td><td>-5.095<sup>***</sup></td></tr>\n",
              "<tr><td style=\"text-align:left\"></td><td>(0.163)</td></tr>\n",
              "<tr><td style=\"text-align:left\">C(COWMAIN)[T.Self-employed incorporated, no paid help]</td><td>0.000<sup>***</sup></td></tr>\n",
              "<tr><td style=\"text-align:left\"></td><td>(0.000)</td></tr>\n",
              "<tr><td style=\"text-align:left\">C(COWMAIN)[T.Self-employed incorporated, with paid help]</td><td>0.000<sup>***</sup></td></tr>\n",
              "<tr><td style=\"text-align:left\"></td><td>(0.000)</td></tr>\n",
              "<tr><td style=\"text-align:left\">C(COWMAIN)[T.Self-employed unincorporated, no paid help]</td><td>0.000<sup>***</sup></td></tr>\n",
              "<tr><td style=\"text-align:left\"></td><td>(0.000)</td></tr>\n",
              "<tr><td style=\"text-align:left\">C(COWMAIN)[T.Self-employed unincorporated, with paid help]</td><td>0.000<sup>***</sup></td></tr>\n",
              "<tr><td style=\"text-align:left\"></td><td>(0.000)</td></tr>\n",
              "<tr><td style=\"text-align:left\">C(COWMAIN)[T.Unpaid family worker]</td><td>0.000<sup>***</sup></td></tr>\n",
              "<tr><td style=\"text-align:left\"></td><td>(0.000)</td></tr>\n",
              "<tr><td style=\"text-align:left\">C(EDUC)[T.Above bachelor's degree]</td><td>23.065<sup>***</sup></td></tr>\n",
              "<tr><td style=\"text-align:left\"></td><td>(0.661)</td></tr>\n",
              "<tr><td style=\"text-align:left\">C(EDUC)[T.Bachelor's degree]</td><td>16.824<sup>***</sup></td></tr>\n",
              "<tr><td style=\"text-align:left\"></td><td>(0.640)</td></tr>\n",
              "<tr><td style=\"text-align:left\">C(EDUC)[T.High school graduate]</td><td>2.923<sup>***</sup></td></tr>\n",
              "<tr><td style=\"text-align:left\"></td><td>(0.641)</td></tr>\n",
              "<tr><td style=\"text-align:left\">C(EDUC)[T.Postsecondary certificate or diploma]</td><td>9.295<sup>***</sup></td></tr>\n",
              "<tr><td style=\"text-align:left\"></td><td>(0.632)</td></tr>\n",
              "<tr><td style=\"text-align:left\">C(EDUC)[T.Some high school]</td><td>-0.991<sup></sup></td></tr>\n",
              "<tr><td style=\"text-align:left\"></td><td>(0.672)</td></tr>\n",
              "<tr><td style=\"text-align:left\">C(EDUC)[T.Some postsecondary]</td><td>2.661<sup>***</sup></td></tr>\n",
              "<tr><td style=\"text-align:left\"></td><td>(0.688)</td></tr>\n",
              "<tr><td style=\"text-align:left\">C(SEX)[T.Female]</td><td>-6.126<sup>***</sup></td></tr>\n",
              "<tr><td style=\"text-align:left\"></td><td>(0.139)</td></tr>\n",
              "<tr><td style=\"text-align:left\">Intercept</td><td>29.835<sup>***</sup></td></tr>\n",
              "<tr><td style=\"text-align:left\"></td><td>(0.644)</td></tr>\n",
              "\n",
              "<td colspan=\"2\" style=\"border-bottom: 1px solid black\"></td></tr>\n",
              "<tr><td style=\"text-align: left\">Observations</td><td>53361</td></tr><tr><td style=\"text-align: left\">R<sup>2</sup></td><td>0.206</td></tr><tr><td style=\"text-align: left\">Adjusted R<sup>2</sup></td><td>0.206</td></tr><tr><td style=\"text-align: left\">Residual Std. Error</td><td>15.827 (df=53352)</td></tr><tr><td style=\"text-align: left\">F Statistic</td><td>1735.268<sup>***</sup> (df=8; 53352)</td></tr>\n",
              "<tr><td colspan=\"2\" style=\"border-bottom: 1px solid black\"></td></tr><tr><td style=\"text-align: left\">Note:</td><td colspan=\"1\" style=\"text-align: right\"><sup>*</sup>p&lt;0.1; <sup>**</sup>p&lt;0.05; <sup>***</sup>p&lt;0.01</td></tr></table>"
            ]
          },
          "metadata": {},
          "execution_count": 85
        }
      ]
    }
  ]
}