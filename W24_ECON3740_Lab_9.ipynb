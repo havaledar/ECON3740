{
  "nbformat": 4,
  "nbformat_minor": 0,
  "metadata": {
    "colab": {
      "provenance": [],
      "include_colab_link": true
    },
    "kernelspec": {
      "name": "python3",
      "display_name": "Python 3"
    },
    "language_info": {
      "name": "python"
    }
  },
  "cells": [
    {
      "cell_type": "markdown",
      "metadata": {
        "id": "view-in-github",
        "colab_type": "text"
      },
      "source": [
        "<a href=\"https://colab.research.google.com/github/havaledar/ECON3740/blob/main/W24_ECON3740_Lab_9.ipynb\" target=\"_parent\"><img src=\"https://colab.research.google.com/assets/colab-badge.svg\" alt=\"Open In Colab\"/></a>"
      ]
    },
    {
      "cell_type": "markdown",
      "source": [
        "# Libraries"
      ],
      "metadata": {
        "id": "9VCncoiSLfob"
      }
    },
    {
      "cell_type": "code",
      "execution_count": 1,
      "metadata": {
        "id": "_LIiA4iZLW0L"
      },
      "outputs": [],
      "source": [
        "!pip install gdown > /dev/null 2>&1\n",
        "!pip install stargazer > /dev/null 2>&1\n",
        "\n",
        "import gdown\n",
        "import pandas as pd\n",
        "import numpy as np\n",
        "import statsmodels.formula.api as smf\n",
        "from stargazer.stargazer import Stargazer"
      ]
    },
    {
      "cell_type": "markdown",
      "source": [
        "## Downloading"
      ],
      "metadata": {
        "id": "ZLEuVbk4hYkR"
      }
    },
    {
      "cell_type": "code",
      "execution_count": 2,
      "metadata": {
        "colab": {
          "base_uri": "https://localhost:8080/",
          "height": 110
        },
        "id": "T5Ix8u9PkBK1",
        "outputId": "c31ece6f-ce49-48f2-f187-a06f8dc6bbd4"
      },
      "outputs": [
        {
          "output_type": "stream",
          "name": "stderr",
          "text": [
            "Downloading...\n",
            "From: https://drive.google.com/uc?id=1m0d9gZZBfHm7qGerKKLN7UzWaNUbQi0R\n",
            "To: /content/lfs.dta\n",
            "100%|██████████| 13.6M/13.6M [00:00<00:00, 76.0MB/s]\n"
          ]
        },
        {
          "output_type": "execute_result",
          "data": {
            "text/plain": [
              "'lfs.dta'"
            ],
            "application/vnd.google.colaboratory.intrinsic+json": {
              "type": "string"
            }
          },
          "metadata": {},
          "execution_count": 2
        }
      ],
      "source": [
        "url = 'https://drive.google.com/file/d/1m0d9gZZBfHm7qGerKKLN7UzWaNUbQi0R/view?usp=sharing'\n",
        "output_filename = 'lfs.dta'\n",
        "gdown.download(url, output_filename, fuzzy=True ,quiet=False)"
      ]
    },
    {
      "cell_type": "markdown",
      "source": [
        "## Reading"
      ],
      "metadata": {
        "id": "XmuKwVu4hcyv"
      }
    },
    {
      "cell_type": "code",
      "execution_count": 3,
      "metadata": {
        "id": "gmtVfpKMiij7"
      },
      "outputs": [],
      "source": [
        "data = pd.read_stata('lfs.dta', convert_categoricals=True)"
      ]
    },
    {
      "cell_type": "markdown",
      "source": [
        "#Questtion 1"
      ],
      "metadata": {
        "id": "vzPaHDk5iqGd"
      }
    },
    {
      "cell_type": "markdown",
      "source": [
        "## Dummy variables"
      ],
      "metadata": {
        "id": "DqSN5sBoLlD_"
      }
    },
    {
      "cell_type": "code",
      "source": [
        "# Convert 'SEX' column to categorical and get dummies\n",
        "sex_dummies = pd.get_dummies(data['SEX'], prefix='gender')\n",
        "sex_dummies"
      ],
      "metadata": {
        "colab": {
          "base_uri": "https://localhost:8080/",
          "height": 423
        },
        "id": "5nzXhpDcN0Eu",
        "outputId": "0cd48926-013f-4c9c-c30b-bb65d50ead2d"
      },
      "execution_count": 4,
      "outputs": [
        {
          "output_type": "execute_result",
          "data": {
            "text/plain": [
              "        gender_Male  gender_Female\n",
              "0                 0              1\n",
              "1                 1              0\n",
              "2                 1              0\n",
              "3                 1              0\n",
              "4                 1              0\n",
              "...             ...            ...\n",
              "103398            0              1\n",
              "103399            1              0\n",
              "103400            0              1\n",
              "103401            0              1\n",
              "103402            0              1\n",
              "\n",
              "[103403 rows x 2 columns]"
            ],
            "text/html": [
              "\n",
              "  <div id=\"df-243665b1-f3df-433d-bd21-15c5b6adbf95\" class=\"colab-df-container\">\n",
              "    <div>\n",
              "<style scoped>\n",
              "    .dataframe tbody tr th:only-of-type {\n",
              "        vertical-align: middle;\n",
              "    }\n",
              "\n",
              "    .dataframe tbody tr th {\n",
              "        vertical-align: top;\n",
              "    }\n",
              "\n",
              "    .dataframe thead th {\n",
              "        text-align: right;\n",
              "    }\n",
              "</style>\n",
              "<table border=\"1\" class=\"dataframe\">\n",
              "  <thead>\n",
              "    <tr style=\"text-align: right;\">\n",
              "      <th></th>\n",
              "      <th>gender_Male</th>\n",
              "      <th>gender_Female</th>\n",
              "    </tr>\n",
              "  </thead>\n",
              "  <tbody>\n",
              "    <tr>\n",
              "      <th>0</th>\n",
              "      <td>0</td>\n",
              "      <td>1</td>\n",
              "    </tr>\n",
              "    <tr>\n",
              "      <th>1</th>\n",
              "      <td>1</td>\n",
              "      <td>0</td>\n",
              "    </tr>\n",
              "    <tr>\n",
              "      <th>2</th>\n",
              "      <td>1</td>\n",
              "      <td>0</td>\n",
              "    </tr>\n",
              "    <tr>\n",
              "      <th>3</th>\n",
              "      <td>1</td>\n",
              "      <td>0</td>\n",
              "    </tr>\n",
              "    <tr>\n",
              "      <th>4</th>\n",
              "      <td>1</td>\n",
              "      <td>0</td>\n",
              "    </tr>\n",
              "    <tr>\n",
              "      <th>...</th>\n",
              "      <td>...</td>\n",
              "      <td>...</td>\n",
              "    </tr>\n",
              "    <tr>\n",
              "      <th>103398</th>\n",
              "      <td>0</td>\n",
              "      <td>1</td>\n",
              "    </tr>\n",
              "    <tr>\n",
              "      <th>103399</th>\n",
              "      <td>1</td>\n",
              "      <td>0</td>\n",
              "    </tr>\n",
              "    <tr>\n",
              "      <th>103400</th>\n",
              "      <td>0</td>\n",
              "      <td>1</td>\n",
              "    </tr>\n",
              "    <tr>\n",
              "      <th>103401</th>\n",
              "      <td>0</td>\n",
              "      <td>1</td>\n",
              "    </tr>\n",
              "    <tr>\n",
              "      <th>103402</th>\n",
              "      <td>0</td>\n",
              "      <td>1</td>\n",
              "    </tr>\n",
              "  </tbody>\n",
              "</table>\n",
              "<p>103403 rows × 2 columns</p>\n",
              "</div>\n",
              "    <div class=\"colab-df-buttons\">\n",
              "\n",
              "  <div class=\"colab-df-container\">\n",
              "    <button class=\"colab-df-convert\" onclick=\"convertToInteractive('df-243665b1-f3df-433d-bd21-15c5b6adbf95')\"\n",
              "            title=\"Convert this dataframe to an interactive table.\"\n",
              "            style=\"display:none;\">\n",
              "\n",
              "  <svg xmlns=\"http://www.w3.org/2000/svg\" height=\"24px\" viewBox=\"0 -960 960 960\">\n",
              "    <path d=\"M120-120v-720h720v720H120Zm60-500h600v-160H180v160Zm220 220h160v-160H400v160Zm0 220h160v-160H400v160ZM180-400h160v-160H180v160Zm440 0h160v-160H620v160ZM180-180h160v-160H180v160Zm440 0h160v-160H620v160Z\"/>\n",
              "  </svg>\n",
              "    </button>\n",
              "\n",
              "  <style>\n",
              "    .colab-df-container {\n",
              "      display:flex;\n",
              "      gap: 12px;\n",
              "    }\n",
              "\n",
              "    .colab-df-convert {\n",
              "      background-color: #E8F0FE;\n",
              "      border: none;\n",
              "      border-radius: 50%;\n",
              "      cursor: pointer;\n",
              "      display: none;\n",
              "      fill: #1967D2;\n",
              "      height: 32px;\n",
              "      padding: 0 0 0 0;\n",
              "      width: 32px;\n",
              "    }\n",
              "\n",
              "    .colab-df-convert:hover {\n",
              "      background-color: #E2EBFA;\n",
              "      box-shadow: 0px 1px 2px rgba(60, 64, 67, 0.3), 0px 1px 3px 1px rgba(60, 64, 67, 0.15);\n",
              "      fill: #174EA6;\n",
              "    }\n",
              "\n",
              "    .colab-df-buttons div {\n",
              "      margin-bottom: 4px;\n",
              "    }\n",
              "\n",
              "    [theme=dark] .colab-df-convert {\n",
              "      background-color: #3B4455;\n",
              "      fill: #D2E3FC;\n",
              "    }\n",
              "\n",
              "    [theme=dark] .colab-df-convert:hover {\n",
              "      background-color: #434B5C;\n",
              "      box-shadow: 0px 1px 3px 1px rgba(0, 0, 0, 0.15);\n",
              "      filter: drop-shadow(0px 1px 2px rgba(0, 0, 0, 0.3));\n",
              "      fill: #FFFFFF;\n",
              "    }\n",
              "  </style>\n",
              "\n",
              "    <script>\n",
              "      const buttonEl =\n",
              "        document.querySelector('#df-243665b1-f3df-433d-bd21-15c5b6adbf95 button.colab-df-convert');\n",
              "      buttonEl.style.display =\n",
              "        google.colab.kernel.accessAllowed ? 'block' : 'none';\n",
              "\n",
              "      async function convertToInteractive(key) {\n",
              "        const element = document.querySelector('#df-243665b1-f3df-433d-bd21-15c5b6adbf95');\n",
              "        const dataTable =\n",
              "          await google.colab.kernel.invokeFunction('convertToInteractive',\n",
              "                                                    [key], {});\n",
              "        if (!dataTable) return;\n",
              "\n",
              "        const docLinkHtml = 'Like what you see? Visit the ' +\n",
              "          '<a target=\"_blank\" href=https://colab.research.google.com/notebooks/data_table.ipynb>data table notebook</a>'\n",
              "          + ' to learn more about interactive tables.';\n",
              "        element.innerHTML = '';\n",
              "        dataTable['output_type'] = 'display_data';\n",
              "        await google.colab.output.renderOutput(dataTable, element);\n",
              "        const docLink = document.createElement('div');\n",
              "        docLink.innerHTML = docLinkHtml;\n",
              "        element.appendChild(docLink);\n",
              "      }\n",
              "    </script>\n",
              "  </div>\n",
              "\n",
              "\n",
              "<div id=\"df-31b3df65-2e84-4f08-abeb-fa5779ceb61e\">\n",
              "  <button class=\"colab-df-quickchart\" onclick=\"quickchart('df-31b3df65-2e84-4f08-abeb-fa5779ceb61e')\"\n",
              "            title=\"Suggest charts\"\n",
              "            style=\"display:none;\">\n",
              "\n",
              "<svg xmlns=\"http://www.w3.org/2000/svg\" height=\"24px\"viewBox=\"0 0 24 24\"\n",
              "     width=\"24px\">\n",
              "    <g>\n",
              "        <path d=\"M19 3H5c-1.1 0-2 .9-2 2v14c0 1.1.9 2 2 2h14c1.1 0 2-.9 2-2V5c0-1.1-.9-2-2-2zM9 17H7v-7h2v7zm4 0h-2V7h2v10zm4 0h-2v-4h2v4z\"/>\n",
              "    </g>\n",
              "</svg>\n",
              "  </button>\n",
              "\n",
              "<style>\n",
              "  .colab-df-quickchart {\n",
              "      --bg-color: #E8F0FE;\n",
              "      --fill-color: #1967D2;\n",
              "      --hover-bg-color: #E2EBFA;\n",
              "      --hover-fill-color: #174EA6;\n",
              "      --disabled-fill-color: #AAA;\n",
              "      --disabled-bg-color: #DDD;\n",
              "  }\n",
              "\n",
              "  [theme=dark] .colab-df-quickchart {\n",
              "      --bg-color: #3B4455;\n",
              "      --fill-color: #D2E3FC;\n",
              "      --hover-bg-color: #434B5C;\n",
              "      --hover-fill-color: #FFFFFF;\n",
              "      --disabled-bg-color: #3B4455;\n",
              "      --disabled-fill-color: #666;\n",
              "  }\n",
              "\n",
              "  .colab-df-quickchart {\n",
              "    background-color: var(--bg-color);\n",
              "    border: none;\n",
              "    border-radius: 50%;\n",
              "    cursor: pointer;\n",
              "    display: none;\n",
              "    fill: var(--fill-color);\n",
              "    height: 32px;\n",
              "    padding: 0;\n",
              "    width: 32px;\n",
              "  }\n",
              "\n",
              "  .colab-df-quickchart:hover {\n",
              "    background-color: var(--hover-bg-color);\n",
              "    box-shadow: 0 1px 2px rgba(60, 64, 67, 0.3), 0 1px 3px 1px rgba(60, 64, 67, 0.15);\n",
              "    fill: var(--button-hover-fill-color);\n",
              "  }\n",
              "\n",
              "  .colab-df-quickchart-complete:disabled,\n",
              "  .colab-df-quickchart-complete:disabled:hover {\n",
              "    background-color: var(--disabled-bg-color);\n",
              "    fill: var(--disabled-fill-color);\n",
              "    box-shadow: none;\n",
              "  }\n",
              "\n",
              "  .colab-df-spinner {\n",
              "    border: 2px solid var(--fill-color);\n",
              "    border-color: transparent;\n",
              "    border-bottom-color: var(--fill-color);\n",
              "    animation:\n",
              "      spin 1s steps(1) infinite;\n",
              "  }\n",
              "\n",
              "  @keyframes spin {\n",
              "    0% {\n",
              "      border-color: transparent;\n",
              "      border-bottom-color: var(--fill-color);\n",
              "      border-left-color: var(--fill-color);\n",
              "    }\n",
              "    20% {\n",
              "      border-color: transparent;\n",
              "      border-left-color: var(--fill-color);\n",
              "      border-top-color: var(--fill-color);\n",
              "    }\n",
              "    30% {\n",
              "      border-color: transparent;\n",
              "      border-left-color: var(--fill-color);\n",
              "      border-top-color: var(--fill-color);\n",
              "      border-right-color: var(--fill-color);\n",
              "    }\n",
              "    40% {\n",
              "      border-color: transparent;\n",
              "      border-right-color: var(--fill-color);\n",
              "      border-top-color: var(--fill-color);\n",
              "    }\n",
              "    60% {\n",
              "      border-color: transparent;\n",
              "      border-right-color: var(--fill-color);\n",
              "    }\n",
              "    80% {\n",
              "      border-color: transparent;\n",
              "      border-right-color: var(--fill-color);\n",
              "      border-bottom-color: var(--fill-color);\n",
              "    }\n",
              "    90% {\n",
              "      border-color: transparent;\n",
              "      border-bottom-color: var(--fill-color);\n",
              "    }\n",
              "  }\n",
              "</style>\n",
              "\n",
              "  <script>\n",
              "    async function quickchart(key) {\n",
              "      const quickchartButtonEl =\n",
              "        document.querySelector('#' + key + ' button');\n",
              "      quickchartButtonEl.disabled = true;  // To prevent multiple clicks.\n",
              "      quickchartButtonEl.classList.add('colab-df-spinner');\n",
              "      try {\n",
              "        const charts = await google.colab.kernel.invokeFunction(\n",
              "            'suggestCharts', [key], {});\n",
              "      } catch (error) {\n",
              "        console.error('Error during call to suggestCharts:', error);\n",
              "      }\n",
              "      quickchartButtonEl.classList.remove('colab-df-spinner');\n",
              "      quickchartButtonEl.classList.add('colab-df-quickchart-complete');\n",
              "    }\n",
              "    (() => {\n",
              "      let quickchartButtonEl =\n",
              "        document.querySelector('#df-31b3df65-2e84-4f08-abeb-fa5779ceb61e button');\n",
              "      quickchartButtonEl.style.display =\n",
              "        google.colab.kernel.accessAllowed ? 'block' : 'none';\n",
              "    })();\n",
              "  </script>\n",
              "</div>\n",
              "\n",
              "  <div id=\"id_5ba36b3e-45fa-4e54-b95c-44fecfac3ddd\">\n",
              "    <style>\n",
              "      .colab-df-generate {\n",
              "        background-color: #E8F0FE;\n",
              "        border: none;\n",
              "        border-radius: 50%;\n",
              "        cursor: pointer;\n",
              "        display: none;\n",
              "        fill: #1967D2;\n",
              "        height: 32px;\n",
              "        padding: 0 0 0 0;\n",
              "        width: 32px;\n",
              "      }\n",
              "\n",
              "      .colab-df-generate:hover {\n",
              "        background-color: #E2EBFA;\n",
              "        box-shadow: 0px 1px 2px rgba(60, 64, 67, 0.3), 0px 1px 3px 1px rgba(60, 64, 67, 0.15);\n",
              "        fill: #174EA6;\n",
              "      }\n",
              "\n",
              "      [theme=dark] .colab-df-generate {\n",
              "        background-color: #3B4455;\n",
              "        fill: #D2E3FC;\n",
              "      }\n",
              "\n",
              "      [theme=dark] .colab-df-generate:hover {\n",
              "        background-color: #434B5C;\n",
              "        box-shadow: 0px 1px 3px 1px rgba(0, 0, 0, 0.15);\n",
              "        filter: drop-shadow(0px 1px 2px rgba(0, 0, 0, 0.3));\n",
              "        fill: #FFFFFF;\n",
              "      }\n",
              "    </style>\n",
              "    <button class=\"colab-df-generate\" onclick=\"generateWithVariable('sex_dummies')\"\n",
              "            title=\"Generate code using this dataframe.\"\n",
              "            style=\"display:none;\">\n",
              "\n",
              "  <svg xmlns=\"http://www.w3.org/2000/svg\" height=\"24px\"viewBox=\"0 0 24 24\"\n",
              "       width=\"24px\">\n",
              "    <path d=\"M7,19H8.4L18.45,9,17,7.55,7,17.6ZM5,21V16.75L18.45,3.32a2,2,0,0,1,2.83,0l1.4,1.43a1.91,1.91,0,0,1,.58,1.4,1.91,1.91,0,0,1-.58,1.4L9.25,21ZM18.45,9,17,7.55Zm-12,3A5.31,5.31,0,0,0,4.9,8.1,5.31,5.31,0,0,0,1,6.5,5.31,5.31,0,0,0,4.9,4.9,5.31,5.31,0,0,0,6.5,1,5.31,5.31,0,0,0,8.1,4.9,5.31,5.31,0,0,0,12,6.5,5.46,5.46,0,0,0,6.5,12Z\"/>\n",
              "  </svg>\n",
              "    </button>\n",
              "    <script>\n",
              "      (() => {\n",
              "      const buttonEl =\n",
              "        document.querySelector('#id_5ba36b3e-45fa-4e54-b95c-44fecfac3ddd button.colab-df-generate');\n",
              "      buttonEl.style.display =\n",
              "        google.colab.kernel.accessAllowed ? 'block' : 'none';\n",
              "\n",
              "      buttonEl.onclick = () => {\n",
              "        google.colab.notebook.generateWithVariable('sex_dummies');\n",
              "      }\n",
              "      })();\n",
              "    </script>\n",
              "  </div>\n",
              "\n",
              "    </div>\n",
              "  </div>\n"
            ],
            "application/vnd.google.colaboratory.intrinsic+json": {
              "type": "dataframe",
              "variable_name": "sex_dummies"
            }
          },
          "metadata": {},
          "execution_count": 4
        }
      ]
    },
    {
      "cell_type": "code",
      "source": [
        "# Take only one column as 0 and 1 are inversely related\n",
        "data['gender'] = sex_dummies[\"gender_Female\"]"
      ],
      "metadata": {
        "id": "gRmztr8nOra8"
      },
      "execution_count": 5,
      "outputs": []
    },
    {
      "cell_type": "code",
      "source": [
        "# Display the first few rows of the DataFrame with the new 'gender' column\n",
        "print(data[['SEX', 'gender']].head())"
      ],
      "metadata": {
        "colab": {
          "base_uri": "https://localhost:8080/"
        },
        "id": "4pJCZGA5PIW7",
        "outputId": "359ee092-ae89-41d5-cfef-936365d0d6ff"
      },
      "execution_count": 6,
      "outputs": [
        {
          "output_type": "stream",
          "name": "stdout",
          "text": [
            "      SEX  gender\n",
            "0  Female       1\n",
            "1    Male       0\n",
            "2    Male       0\n",
            "3    Male       0\n",
            "4    Male       0\n"
          ]
        }
      ]
    },
    {
      "cell_type": "markdown",
      "source": [
        "If we import the values, in addition to 'get_dummies', we can use this method too.\n",
        "```python\n",
        "data['sex'] = data['SEX'] - 1\n",
        "```"
      ],
      "metadata": {
        "id": "eBwclTVSgWiB"
      }
    },
    {
      "cell_type": "markdown",
      "source": [
        "## Mean"
      ],
      "metadata": {
        "id": "kV2NpeOshxQB"
      }
    },
    {
      "cell_type": "code",
      "source": [
        "data[data['gender'] == 0]['HRLYEARN'].mean().round(2)"
      ],
      "metadata": {
        "colab": {
          "base_uri": "https://localhost:8080/"
        },
        "id": "atMooQkxh-aE",
        "outputId": "9f085471-a700-4cc7-d22a-9df641a6d682"
      },
      "execution_count": 7,
      "outputs": [
        {
          "output_type": "execute_result",
          "data": {
            "text/plain": [
              "34.94"
            ]
          },
          "metadata": {},
          "execution_count": 7
        }
      ]
    },
    {
      "cell_type": "code",
      "source": [
        "data[data['gender'] == 1]['HRLYEARN'].mean().round(2)"
      ],
      "metadata": {
        "colab": {
          "base_uri": "https://localhost:8080/"
        },
        "id": "ZYCcmMJniDwZ",
        "outputId": "e4ef924d-6245-4c4d-d562-7bb961fd3355"
      },
      "execution_count": 8,
      "outputs": [
        {
          "output_type": "execute_result",
          "data": {
            "text/plain": [
              "30.92"
            ]
          },
          "metadata": {},
          "execution_count": 8
        }
      ]
    },
    {
      "cell_type": "code",
      "source": [
        "(data[data['gender'] == 0]['HRLYEARN'].mean() - data[data['gender'] == 1]['HRLYEARN'].mean()).round(2)"
      ],
      "metadata": {
        "colab": {
          "base_uri": "https://localhost:8080/"
        },
        "id": "00xQH1SWhspq",
        "outputId": "67980b31-983d-417a-c7a6-11122c38ce89"
      },
      "execution_count": 9,
      "outputs": [
        {
          "output_type": "execute_result",
          "data": {
            "text/plain": [
              "4.02"
            ]
          },
          "metadata": {},
          "execution_count": 9
        }
      ]
    },
    {
      "cell_type": "markdown",
      "source": [
        "## Group by"
      ],
      "metadata": {
        "id": "PXRvBdNXsS9c"
      }
    },
    {
      "cell_type": "code",
      "source": [
        "data.dropna(subset=['HRLYEARN']).groupby('SEX')['HRLYEARN'].mean().reset_index(name='Wage')\n"
      ],
      "metadata": {
        "colab": {
          "base_uri": "https://localhost:8080/",
          "height": 112
        },
        "id": "MExXoUPNsSES",
        "outputId": "162e861e-1664-4a74-81d5-53c22bc92cf6"
      },
      "execution_count": 10,
      "outputs": [
        {
          "output_type": "execute_result",
          "data": {
            "text/plain": [
              "      SEX       Wage\n",
              "0    Male  34.937034\n",
              "1  Female  30.918263"
            ],
            "text/html": [
              "\n",
              "  <div id=\"df-68109369-698f-4aa5-bc80-1e8c5f53e46f\" class=\"colab-df-container\">\n",
              "    <div>\n",
              "<style scoped>\n",
              "    .dataframe tbody tr th:only-of-type {\n",
              "        vertical-align: middle;\n",
              "    }\n",
              "\n",
              "    .dataframe tbody tr th {\n",
              "        vertical-align: top;\n",
              "    }\n",
              "\n",
              "    .dataframe thead th {\n",
              "        text-align: right;\n",
              "    }\n",
              "</style>\n",
              "<table border=\"1\" class=\"dataframe\">\n",
              "  <thead>\n",
              "    <tr style=\"text-align: right;\">\n",
              "      <th></th>\n",
              "      <th>SEX</th>\n",
              "      <th>Wage</th>\n",
              "    </tr>\n",
              "  </thead>\n",
              "  <tbody>\n",
              "    <tr>\n",
              "      <th>0</th>\n",
              "      <td>Male</td>\n",
              "      <td>34.937034</td>\n",
              "    </tr>\n",
              "    <tr>\n",
              "      <th>1</th>\n",
              "      <td>Female</td>\n",
              "      <td>30.918263</td>\n",
              "    </tr>\n",
              "  </tbody>\n",
              "</table>\n",
              "</div>\n",
              "    <div class=\"colab-df-buttons\">\n",
              "\n",
              "  <div class=\"colab-df-container\">\n",
              "    <button class=\"colab-df-convert\" onclick=\"convertToInteractive('df-68109369-698f-4aa5-bc80-1e8c5f53e46f')\"\n",
              "            title=\"Convert this dataframe to an interactive table.\"\n",
              "            style=\"display:none;\">\n",
              "\n",
              "  <svg xmlns=\"http://www.w3.org/2000/svg\" height=\"24px\" viewBox=\"0 -960 960 960\">\n",
              "    <path d=\"M120-120v-720h720v720H120Zm60-500h600v-160H180v160Zm220 220h160v-160H400v160Zm0 220h160v-160H400v160ZM180-400h160v-160H180v160Zm440 0h160v-160H620v160ZM180-180h160v-160H180v160Zm440 0h160v-160H620v160Z\"/>\n",
              "  </svg>\n",
              "    </button>\n",
              "\n",
              "  <style>\n",
              "    .colab-df-container {\n",
              "      display:flex;\n",
              "      gap: 12px;\n",
              "    }\n",
              "\n",
              "    .colab-df-convert {\n",
              "      background-color: #E8F0FE;\n",
              "      border: none;\n",
              "      border-radius: 50%;\n",
              "      cursor: pointer;\n",
              "      display: none;\n",
              "      fill: #1967D2;\n",
              "      height: 32px;\n",
              "      padding: 0 0 0 0;\n",
              "      width: 32px;\n",
              "    }\n",
              "\n",
              "    .colab-df-convert:hover {\n",
              "      background-color: #E2EBFA;\n",
              "      box-shadow: 0px 1px 2px rgba(60, 64, 67, 0.3), 0px 1px 3px 1px rgba(60, 64, 67, 0.15);\n",
              "      fill: #174EA6;\n",
              "    }\n",
              "\n",
              "    .colab-df-buttons div {\n",
              "      margin-bottom: 4px;\n",
              "    }\n",
              "\n",
              "    [theme=dark] .colab-df-convert {\n",
              "      background-color: #3B4455;\n",
              "      fill: #D2E3FC;\n",
              "    }\n",
              "\n",
              "    [theme=dark] .colab-df-convert:hover {\n",
              "      background-color: #434B5C;\n",
              "      box-shadow: 0px 1px 3px 1px rgba(0, 0, 0, 0.15);\n",
              "      filter: drop-shadow(0px 1px 2px rgba(0, 0, 0, 0.3));\n",
              "      fill: #FFFFFF;\n",
              "    }\n",
              "  </style>\n",
              "\n",
              "    <script>\n",
              "      const buttonEl =\n",
              "        document.querySelector('#df-68109369-698f-4aa5-bc80-1e8c5f53e46f button.colab-df-convert');\n",
              "      buttonEl.style.display =\n",
              "        google.colab.kernel.accessAllowed ? 'block' : 'none';\n",
              "\n",
              "      async function convertToInteractive(key) {\n",
              "        const element = document.querySelector('#df-68109369-698f-4aa5-bc80-1e8c5f53e46f');\n",
              "        const dataTable =\n",
              "          await google.colab.kernel.invokeFunction('convertToInteractive',\n",
              "                                                    [key], {});\n",
              "        if (!dataTable) return;\n",
              "\n",
              "        const docLinkHtml = 'Like what you see? Visit the ' +\n",
              "          '<a target=\"_blank\" href=https://colab.research.google.com/notebooks/data_table.ipynb>data table notebook</a>'\n",
              "          + ' to learn more about interactive tables.';\n",
              "        element.innerHTML = '';\n",
              "        dataTable['output_type'] = 'display_data';\n",
              "        await google.colab.output.renderOutput(dataTable, element);\n",
              "        const docLink = document.createElement('div');\n",
              "        docLink.innerHTML = docLinkHtml;\n",
              "        element.appendChild(docLink);\n",
              "      }\n",
              "    </script>\n",
              "  </div>\n",
              "\n",
              "\n",
              "<div id=\"df-7b682c64-261b-47f3-a5d9-20d7ccad5c70\">\n",
              "  <button class=\"colab-df-quickchart\" onclick=\"quickchart('df-7b682c64-261b-47f3-a5d9-20d7ccad5c70')\"\n",
              "            title=\"Suggest charts\"\n",
              "            style=\"display:none;\">\n",
              "\n",
              "<svg xmlns=\"http://www.w3.org/2000/svg\" height=\"24px\"viewBox=\"0 0 24 24\"\n",
              "     width=\"24px\">\n",
              "    <g>\n",
              "        <path d=\"M19 3H5c-1.1 0-2 .9-2 2v14c0 1.1.9 2 2 2h14c1.1 0 2-.9 2-2V5c0-1.1-.9-2-2-2zM9 17H7v-7h2v7zm4 0h-2V7h2v10zm4 0h-2v-4h2v4z\"/>\n",
              "    </g>\n",
              "</svg>\n",
              "  </button>\n",
              "\n",
              "<style>\n",
              "  .colab-df-quickchart {\n",
              "      --bg-color: #E8F0FE;\n",
              "      --fill-color: #1967D2;\n",
              "      --hover-bg-color: #E2EBFA;\n",
              "      --hover-fill-color: #174EA6;\n",
              "      --disabled-fill-color: #AAA;\n",
              "      --disabled-bg-color: #DDD;\n",
              "  }\n",
              "\n",
              "  [theme=dark] .colab-df-quickchart {\n",
              "      --bg-color: #3B4455;\n",
              "      --fill-color: #D2E3FC;\n",
              "      --hover-bg-color: #434B5C;\n",
              "      --hover-fill-color: #FFFFFF;\n",
              "      --disabled-bg-color: #3B4455;\n",
              "      --disabled-fill-color: #666;\n",
              "  }\n",
              "\n",
              "  .colab-df-quickchart {\n",
              "    background-color: var(--bg-color);\n",
              "    border: none;\n",
              "    border-radius: 50%;\n",
              "    cursor: pointer;\n",
              "    display: none;\n",
              "    fill: var(--fill-color);\n",
              "    height: 32px;\n",
              "    padding: 0;\n",
              "    width: 32px;\n",
              "  }\n",
              "\n",
              "  .colab-df-quickchart:hover {\n",
              "    background-color: var(--hover-bg-color);\n",
              "    box-shadow: 0 1px 2px rgba(60, 64, 67, 0.3), 0 1px 3px 1px rgba(60, 64, 67, 0.15);\n",
              "    fill: var(--button-hover-fill-color);\n",
              "  }\n",
              "\n",
              "  .colab-df-quickchart-complete:disabled,\n",
              "  .colab-df-quickchart-complete:disabled:hover {\n",
              "    background-color: var(--disabled-bg-color);\n",
              "    fill: var(--disabled-fill-color);\n",
              "    box-shadow: none;\n",
              "  }\n",
              "\n",
              "  .colab-df-spinner {\n",
              "    border: 2px solid var(--fill-color);\n",
              "    border-color: transparent;\n",
              "    border-bottom-color: var(--fill-color);\n",
              "    animation:\n",
              "      spin 1s steps(1) infinite;\n",
              "  }\n",
              "\n",
              "  @keyframes spin {\n",
              "    0% {\n",
              "      border-color: transparent;\n",
              "      border-bottom-color: var(--fill-color);\n",
              "      border-left-color: var(--fill-color);\n",
              "    }\n",
              "    20% {\n",
              "      border-color: transparent;\n",
              "      border-left-color: var(--fill-color);\n",
              "      border-top-color: var(--fill-color);\n",
              "    }\n",
              "    30% {\n",
              "      border-color: transparent;\n",
              "      border-left-color: var(--fill-color);\n",
              "      border-top-color: var(--fill-color);\n",
              "      border-right-color: var(--fill-color);\n",
              "    }\n",
              "    40% {\n",
              "      border-color: transparent;\n",
              "      border-right-color: var(--fill-color);\n",
              "      border-top-color: var(--fill-color);\n",
              "    }\n",
              "    60% {\n",
              "      border-color: transparent;\n",
              "      border-right-color: var(--fill-color);\n",
              "    }\n",
              "    80% {\n",
              "      border-color: transparent;\n",
              "      border-right-color: var(--fill-color);\n",
              "      border-bottom-color: var(--fill-color);\n",
              "    }\n",
              "    90% {\n",
              "      border-color: transparent;\n",
              "      border-bottom-color: var(--fill-color);\n",
              "    }\n",
              "  }\n",
              "</style>\n",
              "\n",
              "  <script>\n",
              "    async function quickchart(key) {\n",
              "      const quickchartButtonEl =\n",
              "        document.querySelector('#' + key + ' button');\n",
              "      quickchartButtonEl.disabled = true;  // To prevent multiple clicks.\n",
              "      quickchartButtonEl.classList.add('colab-df-spinner');\n",
              "      try {\n",
              "        const charts = await google.colab.kernel.invokeFunction(\n",
              "            'suggestCharts', [key], {});\n",
              "      } catch (error) {\n",
              "        console.error('Error during call to suggestCharts:', error);\n",
              "      }\n",
              "      quickchartButtonEl.classList.remove('colab-df-spinner');\n",
              "      quickchartButtonEl.classList.add('colab-df-quickchart-complete');\n",
              "    }\n",
              "    (() => {\n",
              "      let quickchartButtonEl =\n",
              "        document.querySelector('#df-7b682c64-261b-47f3-a5d9-20d7ccad5c70 button');\n",
              "      quickchartButtonEl.style.display =\n",
              "        google.colab.kernel.accessAllowed ? 'block' : 'none';\n",
              "    })();\n",
              "  </script>\n",
              "</div>\n",
              "\n",
              "    </div>\n",
              "  </div>\n"
            ],
            "application/vnd.google.colaboratory.intrinsic+json": {
              "type": "dataframe",
              "summary": "{\n  \"name\": \"data\",\n  \"rows\": 2,\n  \"fields\": [\n    {\n      \"column\": \"SEX\",\n      \"properties\": {\n        \"dtype\": \"category\",\n        \"num_unique_values\": 2,\n        \"samples\": [\n          \"Female\",\n          \"Male\"\n        ],\n        \"semantic_type\": \"\",\n        \"description\": \"\"\n      }\n    },\n    {\n      \"column\": \"Wage\",\n      \"properties\": {\n        \"dtype\": \"number\",\n        \"std\": 2.8417004936565444,\n        \"min\": 30.918262819781805,\n        \"max\": 34.93703419811321,\n        \"num_unique_values\": 2,\n        \"samples\": [\n          30.918262819781805,\n          34.93703419811321\n        ],\n        \"semantic_type\": \"\",\n        \"description\": \"\"\n      }\n    }\n  ]\n}"
            }
          },
          "metadata": {},
          "execution_count": 10
        }
      ]
    },
    {
      "cell_type": "markdown",
      "source": [
        "## Regression"
      ],
      "metadata": {
        "id": "9pcdpMtEjeaB"
      }
    },
    {
      "cell_type": "code",
      "source": [
        "# Create a simple linear regression model\n",
        "results_1 = smf.ols('HRLYEARN ~ SEX', data).fit()\n",
        "\n",
        "# Display the regression results\n",
        "print(results_1.summary())"
      ],
      "metadata": {
        "colab": {
          "base_uri": "https://localhost:8080/"
        },
        "id": "iRB6PSrHjhvm",
        "outputId": "07e87485-4d91-46a6-c19f-f1fa6d61b14f"
      },
      "execution_count": 11,
      "outputs": [
        {
          "output_type": "stream",
          "name": "stdout",
          "text": [
            "                            OLS Regression Results                            \n",
            "==============================================================================\n",
            "Dep. Variable:               HRLYEARN   R-squared:                       0.013\n",
            "Model:                            OLS   Adj. R-squared:                  0.013\n",
            "Method:                 Least Squares   F-statistic:                     692.6\n",
            "Date:                Thu, 14 Mar 2024   Prob (F-statistic):          1.15e-151\n",
            "Time:                        21:20:53   Log-Likelihood:            -2.2925e+05\n",
            "No. Observations:               53443   AIC:                         4.585e+05\n",
            "Df Residuals:                   53441   BIC:                         4.585e+05\n",
            "Df Model:                           1                                         \n",
            "Covariance Type:            nonrobust                                         \n",
            "=================================================================================\n",
            "                    coef    std err          t      P>|t|      [0.025      0.975]\n",
            "---------------------------------------------------------------------------------\n",
            "Intercept        34.9370      0.107    326.087      0.000      34.727      35.147\n",
            "SEX[T.Female]    -4.0188      0.153    -26.317      0.000      -4.318      -3.719\n",
            "==============================================================================\n",
            "Omnibus:                    24300.546   Durbin-Watson:                   2.007\n",
            "Prob(Omnibus):                  0.000   Jarque-Bera (JB):           171509.035\n",
            "Skew:                           2.066   Prob(JB):                         0.00\n",
            "Kurtosis:                      10.742   Cond. No.                         2.60\n",
            "==============================================================================\n",
            "\n",
            "Notes:\n",
            "[1] Standard Errors assume that the covariance matrix of the errors is correctly specified.\n"
          ]
        }
      ]
    },
    {
      "cell_type": "markdown",
      "source": [
        "## Log"
      ],
      "metadata": {
        "id": "sp9YyrZaLyHh"
      }
    },
    {
      "cell_type": "code",
      "source": [
        "data['lwage'] = np.log(data['HRLYEARN'])"
      ],
      "metadata": {
        "id": "69QNhqhIPWE4"
      },
      "execution_count": 12,
      "outputs": []
    },
    {
      "cell_type": "code",
      "source": [
        "data['HRLYEARN'].isna().sum()"
      ],
      "metadata": {
        "colab": {
          "base_uri": "https://localhost:8080/"
        },
        "id": "FEPnrZ3bRMEJ",
        "outputId": "21bf55c1-791d-47b9-84dd-1cb59dae481f"
      },
      "execution_count": 13,
      "outputs": [
        {
          "output_type": "execute_result",
          "data": {
            "text/plain": [
              "49960"
            ]
          },
          "metadata": {},
          "execution_count": 13
        }
      ]
    },
    {
      "cell_type": "code",
      "source": [
        "# Create a simple linear regression model\n",
        "results_2 = smf.ols('lwage ~ EDUC + AGE_12 + SEX + MARSTAT + PROV', data).fit()\n",
        "\n",
        "# Display the regression results\n",
        "Stargazer([results_2])"
      ],
      "metadata": {
        "id": "DQN9hHjmkIEm",
        "colab": {
          "base_uri": "https://localhost:8080/",
          "height": 1000
        },
        "outputId": "409be0cb-5afd-4dec-b4c0-65bd85450c3b"
      },
      "execution_count": 14,
      "outputs": [
        {
          "output_type": "execute_result",
          "data": {
            "text/plain": [
              "<stargazer.stargazer.Stargazer at 0x79bbf8a38970>"
            ],
            "text/html": [
              "<table style=\"text-align:center\"><tr><td colspan=\"2\" style=\"border-bottom: 1px solid black\"></td></tr>\n",
              "<tr><td style=\"text-align:left\"></td><td colspan=\"1\"><em>Dependent variable: lwage</em></td></tr><tr><td style=\"text-align:left\"></td><tr><td style=\"text-align:left\"></td><td>(1)</td></tr>\n",
              "<tr><td colspan=\"2\" style=\"border-bottom: 1px solid black\"></td></tr>\n",
              "\n",
              "<tr><td style=\"text-align:left\">AGE_12[T.20 to 24 years]</td><td>0.068<sup>***</sup></td></tr>\n",
              "<tr><td style=\"text-align:left\"></td><td>(0.009)</td></tr>\n",
              "<tr><td style=\"text-align:left\">AGE_12[T.25 to 29 years]</td><td>0.222<sup>***</sup></td></tr>\n",
              "<tr><td style=\"text-align:left\"></td><td>(0.009)</td></tr>\n",
              "<tr><td style=\"text-align:left\">AGE_12[T.30 to 34 years]</td><td>0.326<sup>***</sup></td></tr>\n",
              "<tr><td style=\"text-align:left\"></td><td>(0.010)</td></tr>\n",
              "<tr><td style=\"text-align:left\">AGE_12[T.35 to 39 years]</td><td>0.375<sup>***</sup></td></tr>\n",
              "<tr><td style=\"text-align:left\"></td><td>(0.010)</td></tr>\n",
              "<tr><td style=\"text-align:left\">AGE_12[T.40 to 44 years]</td><td>0.421<sup>***</sup></td></tr>\n",
              "<tr><td style=\"text-align:left\"></td><td>(0.010)</td></tr>\n",
              "<tr><td style=\"text-align:left\">AGE_12[T.45 to 49 years]</td><td>0.433<sup>***</sup></td></tr>\n",
              "<tr><td style=\"text-align:left\"></td><td>(0.010)</td></tr>\n",
              "<tr><td style=\"text-align:left\">AGE_12[T.50 to 54 years]</td><td>0.429<sup>***</sup></td></tr>\n",
              "<tr><td style=\"text-align:left\"></td><td>(0.010)</td></tr>\n",
              "<tr><td style=\"text-align:left\">AGE_12[T.55 to 59 years]</td><td>0.401<sup>***</sup></td></tr>\n",
              "<tr><td style=\"text-align:left\"></td><td>(0.010)</td></tr>\n",
              "<tr><td style=\"text-align:left\">AGE_12[T.60 to 64 years]</td><td>0.337<sup>***</sup></td></tr>\n",
              "<tr><td style=\"text-align:left\"></td><td>(0.010)</td></tr>\n",
              "<tr><td style=\"text-align:left\">AGE_12[T.65 to 69 years]</td><td>0.272<sup>***</sup></td></tr>\n",
              "<tr><td style=\"text-align:left\"></td><td>(0.012)</td></tr>\n",
              "<tr><td style=\"text-align:left\">AGE_12[T.70 and over]</td><td>0.169<sup>***</sup></td></tr>\n",
              "<tr><td style=\"text-align:left\"></td><td>(0.016)</td></tr>\n",
              "<tr><td style=\"text-align:left\">EDUC[T.Above bachelor's degree]</td><td>0.582<sup>***</sup></td></tr>\n",
              "<tr><td style=\"text-align:left\"></td><td>(0.016)</td></tr>\n",
              "<tr><td style=\"text-align:left\">EDUC[T.Bachelor's degree]</td><td>0.460<sup>***</sup></td></tr>\n",
              "<tr><td style=\"text-align:left\"></td><td>(0.016)</td></tr>\n",
              "<tr><td style=\"text-align:left\">EDUC[T.High school graduate]</td><td>0.116<sup>***</sup></td></tr>\n",
              "<tr><td style=\"text-align:left\"></td><td>(0.015)</td></tr>\n",
              "<tr><td style=\"text-align:left\">EDUC[T.Postsecondary certificate or diploma]</td><td>0.271<sup>***</sup></td></tr>\n",
              "<tr><td style=\"text-align:left\"></td><td>(0.015)</td></tr>\n",
              "<tr><td style=\"text-align:left\">EDUC[T.Some high school]</td><td>0.048<sup>***</sup></td></tr>\n",
              "<tr><td style=\"text-align:left\"></td><td>(0.016)</td></tr>\n",
              "<tr><td style=\"text-align:left\">EDUC[T.Some postsecondary]</td><td>0.179<sup>***</sup></td></tr>\n",
              "<tr><td style=\"text-align:left\"></td><td>(0.017)</td></tr>\n",
              "<tr><td style=\"text-align:left\">Intercept</td><td>2.838<sup>***</sup></td></tr>\n",
              "<tr><td style=\"text-align:left\"></td><td>(0.019)</td></tr>\n",
              "<tr><td style=\"text-align:left\">MARSTAT[T.Divorced]</td><td>-0.034<sup>***</sup></td></tr>\n",
              "<tr><td style=\"text-align:left\"></td><td>(0.008)</td></tr>\n",
              "<tr><td style=\"text-align:left\">MARSTAT[T.Living in common-law]</td><td>0.010<sup>*</sup></td></tr>\n",
              "<tr><td style=\"text-align:left\"></td><td>(0.005)</td></tr>\n",
              "<tr><td style=\"text-align:left\">MARSTAT[T.Separated]</td><td>-0.027<sup>**</sup></td></tr>\n",
              "<tr><td style=\"text-align:left\"></td><td>(0.011)</td></tr>\n",
              "<tr><td style=\"text-align:left\">MARSTAT[T.Single, never married]</td><td>-0.082<sup>***</sup></td></tr>\n",
              "<tr><td style=\"text-align:left\"></td><td>(0.005)</td></tr>\n",
              "<tr><td style=\"text-align:left\">MARSTAT[T.Widowed]</td><td>-0.067<sup>***</sup></td></tr>\n",
              "<tr><td style=\"text-align:left\"></td><td>(0.016)</td></tr>\n",
              "<tr><td style=\"text-align:left\">PROV[T.Alberta]</td><td>0.100<sup>***</sup></td></tr>\n",
              "<tr><td style=\"text-align:left\"></td><td>(0.009)</td></tr>\n",
              "<tr><td style=\"text-align:left\">PROV[T.British Columbia]</td><td>0.101<sup>***</sup></td></tr>\n",
              "<tr><td style=\"text-align:left\"></td><td>(0.009)</td></tr>\n",
              "<tr><td style=\"text-align:left\">PROV[T.Manitoba]</td><td>-0.037<sup>***</sup></td></tr>\n",
              "<tr><td style=\"text-align:left\"></td><td>(0.010)</td></tr>\n",
              "<tr><td style=\"text-align:left\">PROV[T.New Brunswick]</td><td>-0.086<sup>***</sup></td></tr>\n",
              "<tr><td style=\"text-align:left\"></td><td>(0.011)</td></tr>\n",
              "<tr><td style=\"text-align:left\">PROV[T.Nova Scotia]</td><td>-0.102<sup>***</sup></td></tr>\n",
              "<tr><td style=\"text-align:left\"></td><td>(0.011)</td></tr>\n",
              "<tr><td style=\"text-align:left\">PROV[T.Ontario]</td><td>0.065<sup>***</sup></td></tr>\n",
              "<tr><td style=\"text-align:left\"></td><td>(0.008)</td></tr>\n",
              "<tr><td style=\"text-align:left\">PROV[T.Prince Edward Island]</td><td>-0.085<sup>***</sup></td></tr>\n",
              "<tr><td style=\"text-align:left\"></td><td>(0.013)</td></tr>\n",
              "<tr><td style=\"text-align:left\">PROV[T.Quebec]</td><td>0.036<sup>***</sup></td></tr>\n",
              "<tr><td style=\"text-align:left\"></td><td>(0.009)</td></tr>\n",
              "<tr><td style=\"text-align:left\">PROV[T.Saskatchewan]</td><td>0.015<sup></sup></td></tr>\n",
              "<tr><td style=\"text-align:left\"></td><td>(0.010)</td></tr>\n",
              "<tr><td style=\"text-align:left\">SEX[T.Female]</td><td>-0.145<sup>***</sup></td></tr>\n",
              "<tr><td style=\"text-align:left\"></td><td>(0.003)</td></tr>\n",
              "\n",
              "<td colspan=\"2\" style=\"border-bottom: 1px solid black\"></td></tr>\n",
              "<tr><td style=\"text-align: left\">Observations</td><td>53443</td></tr><tr><td style=\"text-align: left\">R<sup>2</sup></td><td>0.339</td></tr><tr><td style=\"text-align: left\">Adjusted R<sup>2</sup></td><td>0.339</td></tr><tr><td style=\"text-align: left\">Residual Std. Error</td><td>0.381 (df=53410)</td></tr><tr><td style=\"text-align: left\">F Statistic</td><td>855.777<sup>***</sup> (df=32; 53410)</td></tr>\n",
              "<tr><td colspan=\"2\" style=\"border-bottom: 1px solid black\"></td></tr><tr><td style=\"text-align: left\">Note:</td><td colspan=\"1\" style=\"text-align: right\"><sup>*</sup>p&lt;0.1; <sup>**</sup>p&lt;0.05; <sup>***</sup>p&lt;0.01</td></tr></table>"
            ]
          },
          "metadata": {},
          "execution_count": 14
        }
      ]
    },
    {
      "cell_type": "code",
      "source": [
        "# Create a simple linear regression model\n",
        "results_3 = smf.ols('lwage ~ EDUC * SEX', data).fit()\n",
        "\n",
        "# Display the regression results\n",
        "Stargazer([results_3])"
      ],
      "metadata": {
        "colab": {
          "base_uri": "https://localhost:8080/",
          "height": 878
        },
        "id": "nCXPFlmtoqrI",
        "outputId": "a7aa8bd6-fcd8-40c2-a6c6-0917c4de575e"
      },
      "execution_count": 15,
      "outputs": [
        {
          "output_type": "execute_result",
          "data": {
            "text/plain": [
              "<stargazer.stargazer.Stargazer at 0x79bbf8a3ba90>"
            ],
            "text/html": [
              "<table style=\"text-align:center\"><tr><td colspan=\"2\" style=\"border-bottom: 1px solid black\"></td></tr>\n",
              "<tr><td style=\"text-align:left\"></td><td colspan=\"1\"><em>Dependent variable: lwage</em></td></tr><tr><td style=\"text-align:left\"></td><tr><td style=\"text-align:left\"></td><td>(1)</td></tr>\n",
              "<tr><td colspan=\"2\" style=\"border-bottom: 1px solid black\"></td></tr>\n",
              "\n",
              "<tr><td style=\"text-align:left\">EDUC[T.Above bachelor's degree]</td><td>0.644<sup>***</sup></td></tr>\n",
              "<tr><td style=\"text-align:left\"></td><td>(0.022)</td></tr>\n",
              "<tr><td style=\"text-align:left\">EDUC[T.Above bachelor's degree]:SEX[T.Female]</td><td>0.130<sup>***</sup></td></tr>\n",
              "<tr><td style=\"text-align:left\"></td><td>(0.035)</td></tr>\n",
              "<tr><td style=\"text-align:left\">EDUC[T.Bachelor's degree]</td><td>0.496<sup>***</sup></td></tr>\n",
              "<tr><td style=\"text-align:left\"></td><td>(0.021)</td></tr>\n",
              "<tr><td style=\"text-align:left\">EDUC[T.Bachelor's degree]:SEX[T.Female]</td><td>0.131<sup>***</sup></td></tr>\n",
              "<tr><td style=\"text-align:left\"></td><td>(0.034)</td></tr>\n",
              "<tr><td style=\"text-align:left\">EDUC[T.High school graduate]</td><td>0.080<sup>***</sup></td></tr>\n",
              "<tr><td style=\"text-align:left\"></td><td>(0.021)</td></tr>\n",
              "<tr><td style=\"text-align:left\">EDUC[T.High school graduate]:SEX[T.Female]</td><td>0.095<sup>***</sup></td></tr>\n",
              "<tr><td style=\"text-align:left\"></td><td>(0.034)</td></tr>\n",
              "<tr><td style=\"text-align:left\">EDUC[T.Postsecondary certificate or diploma]</td><td>0.336<sup>***</sup></td></tr>\n",
              "<tr><td style=\"text-align:left\"></td><td>(0.021)</td></tr>\n",
              "<tr><td style=\"text-align:left\">EDUC[T.Postsecondary certificate or diploma]:SEX[T.Female]</td><td>0.055<sup></sup></td></tr>\n",
              "<tr><td style=\"text-align:left\"></td><td>(0.034)</td></tr>\n",
              "<tr><td style=\"text-align:left\">EDUC[T.Some high school]</td><td>-0.059<sup>***</sup></td></tr>\n",
              "<tr><td style=\"text-align:left\"></td><td>(0.022)</td></tr>\n",
              "<tr><td style=\"text-align:left\">EDUC[T.Some high school]:SEX[T.Female]</td><td>0.039<sup></sup></td></tr>\n",
              "<tr><td style=\"text-align:left\"></td><td>(0.036)</td></tr>\n",
              "<tr><td style=\"text-align:left\">EDUC[T.Some postsecondary]</td><td>0.059<sup>**</sup></td></tr>\n",
              "<tr><td style=\"text-align:left\"></td><td>(0.023)</td></tr>\n",
              "<tr><td style=\"text-align:left\">EDUC[T.Some postsecondary]:SEX[T.Female]</td><td>0.114<sup>***</sup></td></tr>\n",
              "<tr><td style=\"text-align:left\"></td><td>(0.037)</td></tr>\n",
              "<tr><td style=\"text-align:left\">Intercept</td><td>3.145<sup>***</sup></td></tr>\n",
              "<tr><td style=\"text-align:left\"></td><td>(0.020)</td></tr>\n",
              "<tr><td style=\"text-align:left\">SEX[T.Female]</td><td>-0.239<sup>***</sup></td></tr>\n",
              "<tr><td style=\"text-align:left\"></td><td>(0.033)</td></tr>\n",
              "\n",
              "<td colspan=\"2\" style=\"border-bottom: 1px solid black\"></td></tr>\n",
              "<tr><td style=\"text-align: left\">Observations</td><td>53443</td></tr><tr><td style=\"text-align: left\">R<sup>2</sup></td><td>0.227</td></tr><tr><td style=\"text-align: left\">Adjusted R<sup>2</sup></td><td>0.227</td></tr><tr><td style=\"text-align: left\">Residual Std. Error</td><td>0.412 (df=53429)</td></tr><tr><td style=\"text-align: left\">F Statistic</td><td>1210.173<sup>***</sup> (df=13; 53429)</td></tr>\n",
              "<tr><td colspan=\"2\" style=\"border-bottom: 1px solid black\"></td></tr><tr><td style=\"text-align: left\">Note:</td><td colspan=\"1\" style=\"text-align: right\"><sup>*</sup>p&lt;0.1; <sup>**</sup>p&lt;0.05; <sup>***</sup>p&lt;0.01</td></tr></table>"
            ]
          },
          "metadata": {},
          "execution_count": 15
        }
      ]
    },
    {
      "cell_type": "markdown",
      "source": [
        "# Question 2"
      ],
      "metadata": {
        "id": "mOsSAAXepYak"
      }
    },
    {
      "cell_type": "markdown",
      "source": [
        "## Participation"
      ],
      "metadata": {
        "id": "0MPDQLU7L3CP"
      }
    },
    {
      "cell_type": "code",
      "source": [
        "data['LFSSTAT'].unique()"
      ],
      "metadata": {
        "colab": {
          "base_uri": "https://localhost:8080/"
        },
        "id": "D-82V7ggqhI8",
        "outputId": "2efb31f1-9bcb-4513-d802-6153e78bce77"
      },
      "execution_count": 16,
      "outputs": [
        {
          "output_type": "execute_result",
          "data": {
            "text/plain": [
              "['Unemployed', 'Employed, at work', 'Not in labour force', 'Employed, absent from work']\n",
              "Categories (4, object): ['Employed, at work' < 'Employed, absent from work' < 'Unemployed' <\n",
              "                         'Not in labour force']"
            ]
          },
          "metadata": {},
          "execution_count": 16
        }
      ]
    },
    {
      "cell_type": "code",
      "source": [
        "data['partic'] = (data['LFSSTAT'] != 'Not in labour force').astype(int)"
      ],
      "metadata": {
        "id": "yM0wjjB27xZS"
      },
      "execution_count": 17,
      "outputs": []
    },
    {
      "cell_type": "code",
      "source": [
        "data[['LFSSTAT', 'partic']]"
      ],
      "metadata": {
        "colab": {
          "base_uri": "https://localhost:8080/",
          "height": 423
        },
        "id": "zMs5MXj1q6c1",
        "outputId": "a9d681e7-b67a-4367-c6f8-01669276a612"
      },
      "execution_count": 18,
      "outputs": [
        {
          "output_type": "execute_result",
          "data": {
            "text/plain": [
              "                    LFSSTAT  partic\n",
              "0                Unemployed       1\n",
              "1         Employed, at work       1\n",
              "2         Employed, at work       1\n",
              "3       Not in labour force       0\n",
              "4       Not in labour force       0\n",
              "...                     ...     ...\n",
              "103398    Employed, at work       1\n",
              "103399           Unemployed       1\n",
              "103400    Employed, at work       1\n",
              "103401    Employed, at work       1\n",
              "103402    Employed, at work       1\n",
              "\n",
              "[103403 rows x 2 columns]"
            ],
            "text/html": [
              "\n",
              "  <div id=\"df-1094cd51-0e0b-4bdb-9d2d-4fa027f44642\" class=\"colab-df-container\">\n",
              "    <div>\n",
              "<style scoped>\n",
              "    .dataframe tbody tr th:only-of-type {\n",
              "        vertical-align: middle;\n",
              "    }\n",
              "\n",
              "    .dataframe tbody tr th {\n",
              "        vertical-align: top;\n",
              "    }\n",
              "\n",
              "    .dataframe thead th {\n",
              "        text-align: right;\n",
              "    }\n",
              "</style>\n",
              "<table border=\"1\" class=\"dataframe\">\n",
              "  <thead>\n",
              "    <tr style=\"text-align: right;\">\n",
              "      <th></th>\n",
              "      <th>LFSSTAT</th>\n",
              "      <th>partic</th>\n",
              "    </tr>\n",
              "  </thead>\n",
              "  <tbody>\n",
              "    <tr>\n",
              "      <th>0</th>\n",
              "      <td>Unemployed</td>\n",
              "      <td>1</td>\n",
              "    </tr>\n",
              "    <tr>\n",
              "      <th>1</th>\n",
              "      <td>Employed, at work</td>\n",
              "      <td>1</td>\n",
              "    </tr>\n",
              "    <tr>\n",
              "      <th>2</th>\n",
              "      <td>Employed, at work</td>\n",
              "      <td>1</td>\n",
              "    </tr>\n",
              "    <tr>\n",
              "      <th>3</th>\n",
              "      <td>Not in labour force</td>\n",
              "      <td>0</td>\n",
              "    </tr>\n",
              "    <tr>\n",
              "      <th>4</th>\n",
              "      <td>Not in labour force</td>\n",
              "      <td>0</td>\n",
              "    </tr>\n",
              "    <tr>\n",
              "      <th>...</th>\n",
              "      <td>...</td>\n",
              "      <td>...</td>\n",
              "    </tr>\n",
              "    <tr>\n",
              "      <th>103398</th>\n",
              "      <td>Employed, at work</td>\n",
              "      <td>1</td>\n",
              "    </tr>\n",
              "    <tr>\n",
              "      <th>103399</th>\n",
              "      <td>Unemployed</td>\n",
              "      <td>1</td>\n",
              "    </tr>\n",
              "    <tr>\n",
              "      <th>103400</th>\n",
              "      <td>Employed, at work</td>\n",
              "      <td>1</td>\n",
              "    </tr>\n",
              "    <tr>\n",
              "      <th>103401</th>\n",
              "      <td>Employed, at work</td>\n",
              "      <td>1</td>\n",
              "    </tr>\n",
              "    <tr>\n",
              "      <th>103402</th>\n",
              "      <td>Employed, at work</td>\n",
              "      <td>1</td>\n",
              "    </tr>\n",
              "  </tbody>\n",
              "</table>\n",
              "<p>103403 rows × 2 columns</p>\n",
              "</div>\n",
              "    <div class=\"colab-df-buttons\">\n",
              "\n",
              "  <div class=\"colab-df-container\">\n",
              "    <button class=\"colab-df-convert\" onclick=\"convertToInteractive('df-1094cd51-0e0b-4bdb-9d2d-4fa027f44642')\"\n",
              "            title=\"Convert this dataframe to an interactive table.\"\n",
              "            style=\"display:none;\">\n",
              "\n",
              "  <svg xmlns=\"http://www.w3.org/2000/svg\" height=\"24px\" viewBox=\"0 -960 960 960\">\n",
              "    <path d=\"M120-120v-720h720v720H120Zm60-500h600v-160H180v160Zm220 220h160v-160H400v160Zm0 220h160v-160H400v160ZM180-400h160v-160H180v160Zm440 0h160v-160H620v160ZM180-180h160v-160H180v160Zm440 0h160v-160H620v160Z\"/>\n",
              "  </svg>\n",
              "    </button>\n",
              "\n",
              "  <style>\n",
              "    .colab-df-container {\n",
              "      display:flex;\n",
              "      gap: 12px;\n",
              "    }\n",
              "\n",
              "    .colab-df-convert {\n",
              "      background-color: #E8F0FE;\n",
              "      border: none;\n",
              "      border-radius: 50%;\n",
              "      cursor: pointer;\n",
              "      display: none;\n",
              "      fill: #1967D2;\n",
              "      height: 32px;\n",
              "      padding: 0 0 0 0;\n",
              "      width: 32px;\n",
              "    }\n",
              "\n",
              "    .colab-df-convert:hover {\n",
              "      background-color: #E2EBFA;\n",
              "      box-shadow: 0px 1px 2px rgba(60, 64, 67, 0.3), 0px 1px 3px 1px rgba(60, 64, 67, 0.15);\n",
              "      fill: #174EA6;\n",
              "    }\n",
              "\n",
              "    .colab-df-buttons div {\n",
              "      margin-bottom: 4px;\n",
              "    }\n",
              "\n",
              "    [theme=dark] .colab-df-convert {\n",
              "      background-color: #3B4455;\n",
              "      fill: #D2E3FC;\n",
              "    }\n",
              "\n",
              "    [theme=dark] .colab-df-convert:hover {\n",
              "      background-color: #434B5C;\n",
              "      box-shadow: 0px 1px 3px 1px rgba(0, 0, 0, 0.15);\n",
              "      filter: drop-shadow(0px 1px 2px rgba(0, 0, 0, 0.3));\n",
              "      fill: #FFFFFF;\n",
              "    }\n",
              "  </style>\n",
              "\n",
              "    <script>\n",
              "      const buttonEl =\n",
              "        document.querySelector('#df-1094cd51-0e0b-4bdb-9d2d-4fa027f44642 button.colab-df-convert');\n",
              "      buttonEl.style.display =\n",
              "        google.colab.kernel.accessAllowed ? 'block' : 'none';\n",
              "\n",
              "      async function convertToInteractive(key) {\n",
              "        const element = document.querySelector('#df-1094cd51-0e0b-4bdb-9d2d-4fa027f44642');\n",
              "        const dataTable =\n",
              "          await google.colab.kernel.invokeFunction('convertToInteractive',\n",
              "                                                    [key], {});\n",
              "        if (!dataTable) return;\n",
              "\n",
              "        const docLinkHtml = 'Like what you see? Visit the ' +\n",
              "          '<a target=\"_blank\" href=https://colab.research.google.com/notebooks/data_table.ipynb>data table notebook</a>'\n",
              "          + ' to learn more about interactive tables.';\n",
              "        element.innerHTML = '';\n",
              "        dataTable['output_type'] = 'display_data';\n",
              "        await google.colab.output.renderOutput(dataTable, element);\n",
              "        const docLink = document.createElement('div');\n",
              "        docLink.innerHTML = docLinkHtml;\n",
              "        element.appendChild(docLink);\n",
              "      }\n",
              "    </script>\n",
              "  </div>\n",
              "\n",
              "\n",
              "<div id=\"df-637b8557-ed05-4881-9517-4ba623114a7f\">\n",
              "  <button class=\"colab-df-quickchart\" onclick=\"quickchart('df-637b8557-ed05-4881-9517-4ba623114a7f')\"\n",
              "            title=\"Suggest charts\"\n",
              "            style=\"display:none;\">\n",
              "\n",
              "<svg xmlns=\"http://www.w3.org/2000/svg\" height=\"24px\"viewBox=\"0 0 24 24\"\n",
              "     width=\"24px\">\n",
              "    <g>\n",
              "        <path d=\"M19 3H5c-1.1 0-2 .9-2 2v14c0 1.1.9 2 2 2h14c1.1 0 2-.9 2-2V5c0-1.1-.9-2-2-2zM9 17H7v-7h2v7zm4 0h-2V7h2v10zm4 0h-2v-4h2v4z\"/>\n",
              "    </g>\n",
              "</svg>\n",
              "  </button>\n",
              "\n",
              "<style>\n",
              "  .colab-df-quickchart {\n",
              "      --bg-color: #E8F0FE;\n",
              "      --fill-color: #1967D2;\n",
              "      --hover-bg-color: #E2EBFA;\n",
              "      --hover-fill-color: #174EA6;\n",
              "      --disabled-fill-color: #AAA;\n",
              "      --disabled-bg-color: #DDD;\n",
              "  }\n",
              "\n",
              "  [theme=dark] .colab-df-quickchart {\n",
              "      --bg-color: #3B4455;\n",
              "      --fill-color: #D2E3FC;\n",
              "      --hover-bg-color: #434B5C;\n",
              "      --hover-fill-color: #FFFFFF;\n",
              "      --disabled-bg-color: #3B4455;\n",
              "      --disabled-fill-color: #666;\n",
              "  }\n",
              "\n",
              "  .colab-df-quickchart {\n",
              "    background-color: var(--bg-color);\n",
              "    border: none;\n",
              "    border-radius: 50%;\n",
              "    cursor: pointer;\n",
              "    display: none;\n",
              "    fill: var(--fill-color);\n",
              "    height: 32px;\n",
              "    padding: 0;\n",
              "    width: 32px;\n",
              "  }\n",
              "\n",
              "  .colab-df-quickchart:hover {\n",
              "    background-color: var(--hover-bg-color);\n",
              "    box-shadow: 0 1px 2px rgba(60, 64, 67, 0.3), 0 1px 3px 1px rgba(60, 64, 67, 0.15);\n",
              "    fill: var(--button-hover-fill-color);\n",
              "  }\n",
              "\n",
              "  .colab-df-quickchart-complete:disabled,\n",
              "  .colab-df-quickchart-complete:disabled:hover {\n",
              "    background-color: var(--disabled-bg-color);\n",
              "    fill: var(--disabled-fill-color);\n",
              "    box-shadow: none;\n",
              "  }\n",
              "\n",
              "  .colab-df-spinner {\n",
              "    border: 2px solid var(--fill-color);\n",
              "    border-color: transparent;\n",
              "    border-bottom-color: var(--fill-color);\n",
              "    animation:\n",
              "      spin 1s steps(1) infinite;\n",
              "  }\n",
              "\n",
              "  @keyframes spin {\n",
              "    0% {\n",
              "      border-color: transparent;\n",
              "      border-bottom-color: var(--fill-color);\n",
              "      border-left-color: var(--fill-color);\n",
              "    }\n",
              "    20% {\n",
              "      border-color: transparent;\n",
              "      border-left-color: var(--fill-color);\n",
              "      border-top-color: var(--fill-color);\n",
              "    }\n",
              "    30% {\n",
              "      border-color: transparent;\n",
              "      border-left-color: var(--fill-color);\n",
              "      border-top-color: var(--fill-color);\n",
              "      border-right-color: var(--fill-color);\n",
              "    }\n",
              "    40% {\n",
              "      border-color: transparent;\n",
              "      border-right-color: var(--fill-color);\n",
              "      border-top-color: var(--fill-color);\n",
              "    }\n",
              "    60% {\n",
              "      border-color: transparent;\n",
              "      border-right-color: var(--fill-color);\n",
              "    }\n",
              "    80% {\n",
              "      border-color: transparent;\n",
              "      border-right-color: var(--fill-color);\n",
              "      border-bottom-color: var(--fill-color);\n",
              "    }\n",
              "    90% {\n",
              "      border-color: transparent;\n",
              "      border-bottom-color: var(--fill-color);\n",
              "    }\n",
              "  }\n",
              "</style>\n",
              "\n",
              "  <script>\n",
              "    async function quickchart(key) {\n",
              "      const quickchartButtonEl =\n",
              "        document.querySelector('#' + key + ' button');\n",
              "      quickchartButtonEl.disabled = true;  // To prevent multiple clicks.\n",
              "      quickchartButtonEl.classList.add('colab-df-spinner');\n",
              "      try {\n",
              "        const charts = await google.colab.kernel.invokeFunction(\n",
              "            'suggestCharts', [key], {});\n",
              "      } catch (error) {\n",
              "        console.error('Error during call to suggestCharts:', error);\n",
              "      }\n",
              "      quickchartButtonEl.classList.remove('colab-df-spinner');\n",
              "      quickchartButtonEl.classList.add('colab-df-quickchart-complete');\n",
              "    }\n",
              "    (() => {\n",
              "      let quickchartButtonEl =\n",
              "        document.querySelector('#df-637b8557-ed05-4881-9517-4ba623114a7f button');\n",
              "      quickchartButtonEl.style.display =\n",
              "        google.colab.kernel.accessAllowed ? 'block' : 'none';\n",
              "    })();\n",
              "  </script>\n",
              "</div>\n",
              "\n",
              "    </div>\n",
              "  </div>\n"
            ],
            "application/vnd.google.colaboratory.intrinsic+json": {
              "type": "dataframe"
            }
          },
          "metadata": {},
          "execution_count": 18
        }
      ]
    },
    {
      "cell_type": "markdown",
      "source": [
        "## Method 1"
      ],
      "metadata": {
        "id": "9ibaJQAqBrHz"
      }
    },
    {
      "cell_type": "code",
      "source": [
        "data['partic'].value_counts(normalize=True)"
      ],
      "metadata": {
        "colab": {
          "base_uri": "https://localhost:8080/"
        },
        "id": "HyMtsbCLeqVw",
        "outputId": "74d66abe-17fb-435b-b713-3b4146525763"
      },
      "execution_count": 19,
      "outputs": [
        {
          "output_type": "execute_result",
          "data": {
            "text/plain": [
              "1    0.637341\n",
              "0    0.362659\n",
              "Name: partic, dtype: float64"
            ]
          },
          "metadata": {},
          "execution_count": 19
        }
      ]
    },
    {
      "cell_type": "code",
      "source": [
        "pd.crosstab(data['partic'], data['SEX'], normalize=1)"
      ],
      "metadata": {
        "colab": {
          "base_uri": "https://localhost:8080/",
          "height": 143
        },
        "id": "HiIY41HtfkJi",
        "outputId": "6cad15eb-1fcc-46d7-b07a-37397d47bb1f"
      },
      "execution_count": 20,
      "outputs": [
        {
          "output_type": "execute_result",
          "data": {
            "text/plain": [
              "SEX         Male    Female\n",
              "partic                    \n",
              "0       0.318979  0.403955\n",
              "1       0.681021  0.596045"
            ],
            "text/html": [
              "\n",
              "  <div id=\"df-2fdc6fee-77c0-40cf-877c-fbbf83e73107\" class=\"colab-df-container\">\n",
              "    <div>\n",
              "<style scoped>\n",
              "    .dataframe tbody tr th:only-of-type {\n",
              "        vertical-align: middle;\n",
              "    }\n",
              "\n",
              "    .dataframe tbody tr th {\n",
              "        vertical-align: top;\n",
              "    }\n",
              "\n",
              "    .dataframe thead th {\n",
              "        text-align: right;\n",
              "    }\n",
              "</style>\n",
              "<table border=\"1\" class=\"dataframe\">\n",
              "  <thead>\n",
              "    <tr style=\"text-align: right;\">\n",
              "      <th>SEX</th>\n",
              "      <th>Male</th>\n",
              "      <th>Female</th>\n",
              "    </tr>\n",
              "    <tr>\n",
              "      <th>partic</th>\n",
              "      <th></th>\n",
              "      <th></th>\n",
              "    </tr>\n",
              "  </thead>\n",
              "  <tbody>\n",
              "    <tr>\n",
              "      <th>0</th>\n",
              "      <td>0.318979</td>\n",
              "      <td>0.403955</td>\n",
              "    </tr>\n",
              "    <tr>\n",
              "      <th>1</th>\n",
              "      <td>0.681021</td>\n",
              "      <td>0.596045</td>\n",
              "    </tr>\n",
              "  </tbody>\n",
              "</table>\n",
              "</div>\n",
              "    <div class=\"colab-df-buttons\">\n",
              "\n",
              "  <div class=\"colab-df-container\">\n",
              "    <button class=\"colab-df-convert\" onclick=\"convertToInteractive('df-2fdc6fee-77c0-40cf-877c-fbbf83e73107')\"\n",
              "            title=\"Convert this dataframe to an interactive table.\"\n",
              "            style=\"display:none;\">\n",
              "\n",
              "  <svg xmlns=\"http://www.w3.org/2000/svg\" height=\"24px\" viewBox=\"0 -960 960 960\">\n",
              "    <path d=\"M120-120v-720h720v720H120Zm60-500h600v-160H180v160Zm220 220h160v-160H400v160Zm0 220h160v-160H400v160ZM180-400h160v-160H180v160Zm440 0h160v-160H620v160ZM180-180h160v-160H180v160Zm440 0h160v-160H620v160Z\"/>\n",
              "  </svg>\n",
              "    </button>\n",
              "\n",
              "  <style>\n",
              "    .colab-df-container {\n",
              "      display:flex;\n",
              "      gap: 12px;\n",
              "    }\n",
              "\n",
              "    .colab-df-convert {\n",
              "      background-color: #E8F0FE;\n",
              "      border: none;\n",
              "      border-radius: 50%;\n",
              "      cursor: pointer;\n",
              "      display: none;\n",
              "      fill: #1967D2;\n",
              "      height: 32px;\n",
              "      padding: 0 0 0 0;\n",
              "      width: 32px;\n",
              "    }\n",
              "\n",
              "    .colab-df-convert:hover {\n",
              "      background-color: #E2EBFA;\n",
              "      box-shadow: 0px 1px 2px rgba(60, 64, 67, 0.3), 0px 1px 3px 1px rgba(60, 64, 67, 0.15);\n",
              "      fill: #174EA6;\n",
              "    }\n",
              "\n",
              "    .colab-df-buttons div {\n",
              "      margin-bottom: 4px;\n",
              "    }\n",
              "\n",
              "    [theme=dark] .colab-df-convert {\n",
              "      background-color: #3B4455;\n",
              "      fill: #D2E3FC;\n",
              "    }\n",
              "\n",
              "    [theme=dark] .colab-df-convert:hover {\n",
              "      background-color: #434B5C;\n",
              "      box-shadow: 0px 1px 3px 1px rgba(0, 0, 0, 0.15);\n",
              "      filter: drop-shadow(0px 1px 2px rgba(0, 0, 0, 0.3));\n",
              "      fill: #FFFFFF;\n",
              "    }\n",
              "  </style>\n",
              "\n",
              "    <script>\n",
              "      const buttonEl =\n",
              "        document.querySelector('#df-2fdc6fee-77c0-40cf-877c-fbbf83e73107 button.colab-df-convert');\n",
              "      buttonEl.style.display =\n",
              "        google.colab.kernel.accessAllowed ? 'block' : 'none';\n",
              "\n",
              "      async function convertToInteractive(key) {\n",
              "        const element = document.querySelector('#df-2fdc6fee-77c0-40cf-877c-fbbf83e73107');\n",
              "        const dataTable =\n",
              "          await google.colab.kernel.invokeFunction('convertToInteractive',\n",
              "                                                    [key], {});\n",
              "        if (!dataTable) return;\n",
              "\n",
              "        const docLinkHtml = 'Like what you see? Visit the ' +\n",
              "          '<a target=\"_blank\" href=https://colab.research.google.com/notebooks/data_table.ipynb>data table notebook</a>'\n",
              "          + ' to learn more about interactive tables.';\n",
              "        element.innerHTML = '';\n",
              "        dataTable['output_type'] = 'display_data';\n",
              "        await google.colab.output.renderOutput(dataTable, element);\n",
              "        const docLink = document.createElement('div');\n",
              "        docLink.innerHTML = docLinkHtml;\n",
              "        element.appendChild(docLink);\n",
              "      }\n",
              "    </script>\n",
              "  </div>\n",
              "\n",
              "\n",
              "<div id=\"df-b6c9ff66-759d-4d66-a5cf-d0627178b76c\">\n",
              "  <button class=\"colab-df-quickchart\" onclick=\"quickchart('df-b6c9ff66-759d-4d66-a5cf-d0627178b76c')\"\n",
              "            title=\"Suggest charts\"\n",
              "            style=\"display:none;\">\n",
              "\n",
              "<svg xmlns=\"http://www.w3.org/2000/svg\" height=\"24px\"viewBox=\"0 0 24 24\"\n",
              "     width=\"24px\">\n",
              "    <g>\n",
              "        <path d=\"M19 3H5c-1.1 0-2 .9-2 2v14c0 1.1.9 2 2 2h14c1.1 0 2-.9 2-2V5c0-1.1-.9-2-2-2zM9 17H7v-7h2v7zm4 0h-2V7h2v10zm4 0h-2v-4h2v4z\"/>\n",
              "    </g>\n",
              "</svg>\n",
              "  </button>\n",
              "\n",
              "<style>\n",
              "  .colab-df-quickchart {\n",
              "      --bg-color: #E8F0FE;\n",
              "      --fill-color: #1967D2;\n",
              "      --hover-bg-color: #E2EBFA;\n",
              "      --hover-fill-color: #174EA6;\n",
              "      --disabled-fill-color: #AAA;\n",
              "      --disabled-bg-color: #DDD;\n",
              "  }\n",
              "\n",
              "  [theme=dark] .colab-df-quickchart {\n",
              "      --bg-color: #3B4455;\n",
              "      --fill-color: #D2E3FC;\n",
              "      --hover-bg-color: #434B5C;\n",
              "      --hover-fill-color: #FFFFFF;\n",
              "      --disabled-bg-color: #3B4455;\n",
              "      --disabled-fill-color: #666;\n",
              "  }\n",
              "\n",
              "  .colab-df-quickchart {\n",
              "    background-color: var(--bg-color);\n",
              "    border: none;\n",
              "    border-radius: 50%;\n",
              "    cursor: pointer;\n",
              "    display: none;\n",
              "    fill: var(--fill-color);\n",
              "    height: 32px;\n",
              "    padding: 0;\n",
              "    width: 32px;\n",
              "  }\n",
              "\n",
              "  .colab-df-quickchart:hover {\n",
              "    background-color: var(--hover-bg-color);\n",
              "    box-shadow: 0 1px 2px rgba(60, 64, 67, 0.3), 0 1px 3px 1px rgba(60, 64, 67, 0.15);\n",
              "    fill: var(--button-hover-fill-color);\n",
              "  }\n",
              "\n",
              "  .colab-df-quickchart-complete:disabled,\n",
              "  .colab-df-quickchart-complete:disabled:hover {\n",
              "    background-color: var(--disabled-bg-color);\n",
              "    fill: var(--disabled-fill-color);\n",
              "    box-shadow: none;\n",
              "  }\n",
              "\n",
              "  .colab-df-spinner {\n",
              "    border: 2px solid var(--fill-color);\n",
              "    border-color: transparent;\n",
              "    border-bottom-color: var(--fill-color);\n",
              "    animation:\n",
              "      spin 1s steps(1) infinite;\n",
              "  }\n",
              "\n",
              "  @keyframes spin {\n",
              "    0% {\n",
              "      border-color: transparent;\n",
              "      border-bottom-color: var(--fill-color);\n",
              "      border-left-color: var(--fill-color);\n",
              "    }\n",
              "    20% {\n",
              "      border-color: transparent;\n",
              "      border-left-color: var(--fill-color);\n",
              "      border-top-color: var(--fill-color);\n",
              "    }\n",
              "    30% {\n",
              "      border-color: transparent;\n",
              "      border-left-color: var(--fill-color);\n",
              "      border-top-color: var(--fill-color);\n",
              "      border-right-color: var(--fill-color);\n",
              "    }\n",
              "    40% {\n",
              "      border-color: transparent;\n",
              "      border-right-color: var(--fill-color);\n",
              "      border-top-color: var(--fill-color);\n",
              "    }\n",
              "    60% {\n",
              "      border-color: transparent;\n",
              "      border-right-color: var(--fill-color);\n",
              "    }\n",
              "    80% {\n",
              "      border-color: transparent;\n",
              "      border-right-color: var(--fill-color);\n",
              "      border-bottom-color: var(--fill-color);\n",
              "    }\n",
              "    90% {\n",
              "      border-color: transparent;\n",
              "      border-bottom-color: var(--fill-color);\n",
              "    }\n",
              "  }\n",
              "</style>\n",
              "\n",
              "  <script>\n",
              "    async function quickchart(key) {\n",
              "      const quickchartButtonEl =\n",
              "        document.querySelector('#' + key + ' button');\n",
              "      quickchartButtonEl.disabled = true;  // To prevent multiple clicks.\n",
              "      quickchartButtonEl.classList.add('colab-df-spinner');\n",
              "      try {\n",
              "        const charts = await google.colab.kernel.invokeFunction(\n",
              "            'suggestCharts', [key], {});\n",
              "      } catch (error) {\n",
              "        console.error('Error during call to suggestCharts:', error);\n",
              "      }\n",
              "      quickchartButtonEl.classList.remove('colab-df-spinner');\n",
              "      quickchartButtonEl.classList.add('colab-df-quickchart-complete');\n",
              "    }\n",
              "    (() => {\n",
              "      let quickchartButtonEl =\n",
              "        document.querySelector('#df-b6c9ff66-759d-4d66-a5cf-d0627178b76c button');\n",
              "      quickchartButtonEl.style.display =\n",
              "        google.colab.kernel.accessAllowed ? 'block' : 'none';\n",
              "    })();\n",
              "  </script>\n",
              "</div>\n",
              "\n",
              "    </div>\n",
              "  </div>\n"
            ],
            "application/vnd.google.colaboratory.intrinsic+json": {
              "type": "dataframe",
              "summary": "{\n  \"name\": \"pd\",\n  \"rows\": 2,\n  \"fields\": [\n    {\n      \"column\": \"partic\",\n      \"properties\": {\n        \"dtype\": \"number\",\n        \"std\": 0,\n        \"min\": 0,\n        \"max\": 1,\n        \"num_unique_values\": 2,\n        \"samples\": [\n          1,\n          0\n        ],\n        \"semantic_type\": \"\",\n        \"description\": \"\"\n      }\n    },\n    {\n      \"column\": \"Male\",\n      \"properties\": {\n        \"dtype\": \"number\",\n        \"std\": 0.2560027396494967,\n        \"min\": 0.31897872679150663,\n        \"max\": 0.6810212732084934,\n        \"num_unique_values\": 2,\n        \"samples\": [\n          0.6810212732084934,\n          0.31897872679150663\n        ],\n        \"semantic_type\": \"\",\n        \"description\": \"\"\n      }\n    },\n    {\n      \"column\": \"Female\",\n      \"properties\": {\n        \"dtype\": \"number\",\n        \"std\": 0.13582857156672654,\n        \"min\": 0.40395469596628536,\n        \"max\": 0.5960453040337146,\n        \"num_unique_values\": 2,\n        \"samples\": [\n          0.5960453040337146,\n          0.40395469596628536\n        ],\n        \"semantic_type\": \"\",\n        \"description\": \"\"\n      }\n    }\n  ]\n}"
            }
          },
          "metadata": {},
          "execution_count": 20
        }
      ]
    },
    {
      "cell_type": "markdown",
      "source": [
        "## Method 2"
      ],
      "metadata": {
        "id": "hl4fhrmLBt5F"
      }
    },
    {
      "cell_type": "code",
      "source": [
        "# Filtering based on SEX == 1\n",
        "dm = data[data['SEX'] == \"Male\"]\n",
        "\n",
        "# Filtering based on SEX == 2\n",
        "df = data[data['SEX'] == \"Female\"]"
      ],
      "metadata": {
        "id": "dgWnXUwXPOpk"
      },
      "execution_count": 21,
      "outputs": []
    },
    {
      "cell_type": "code",
      "source": [
        "dm['partic'].describe()"
      ],
      "metadata": {
        "colab": {
          "base_uri": "https://localhost:8080/"
        },
        "id": "xtcAmLZmQhht",
        "outputId": "12a13cfb-4334-4595-c90b-c9e85837b158"
      },
      "execution_count": 22,
      "outputs": [
        {
          "output_type": "execute_result",
          "data": {
            "text/plain": [
              "count    50251.000000\n",
              "mean         0.681021\n",
              "std          0.466085\n",
              "min          0.000000\n",
              "25%          0.000000\n",
              "50%          1.000000\n",
              "75%          1.000000\n",
              "max          1.000000\n",
              "Name: partic, dtype: float64"
            ]
          },
          "metadata": {},
          "execution_count": 22
        }
      ]
    },
    {
      "cell_type": "code",
      "source": [
        "df['partic'].describe()"
      ],
      "metadata": {
        "colab": {
          "base_uri": "https://localhost:8080/"
        },
        "id": "kx03Q3WZPqMm",
        "outputId": "85669277-8954-4d75-a7d1-acdede446cc9"
      },
      "execution_count": 23,
      "outputs": [
        {
          "output_type": "execute_result",
          "data": {
            "text/plain": [
              "count    53152.000000\n",
              "mean         0.596045\n",
              "std          0.490693\n",
              "min          0.000000\n",
              "25%          0.000000\n",
              "50%          1.000000\n",
              "75%          1.000000\n",
              "max          1.000000\n",
              "Name: partic, dtype: float64"
            ]
          },
          "metadata": {},
          "execution_count": 23
        }
      ]
    },
    {
      "cell_type": "markdown",
      "source": [
        "## Married women"
      ],
      "metadata": {
        "id": "86XD_r-JBwlp"
      }
    },
    {
      "cell_type": "code",
      "source": [
        "df_married = df[((df['MARSTAT'] == \"Married\") |\n",
        "                 (df['MARSTAT'] == \"Living in common-law\")) &\n",
        "                (df['SEX'] == \"Female\")]"
      ],
      "metadata": {
        "id": "bh_pHCUq-khD"
      },
      "execution_count": 24,
      "outputs": []
    },
    {
      "cell_type": "code",
      "source": [
        "results_4 = smf.ols('partic ~ EDUC + AGE_12 + PROV + AGYOWNK', data=df_married).fit()\n",
        "Stargazer([results_4])"
      ],
      "metadata": {
        "colab": {
          "base_uri": "https://localhost:8080/",
          "height": 1000
        },
        "id": "9AE6F7Yc-keX",
        "outputId": "55e3dcff-d2c1-4a72-bdd9-e41ccfa42cb9"
      },
      "execution_count": 25,
      "outputs": [
        {
          "output_type": "execute_result",
          "data": {
            "text/plain": [
              "<stargazer.stargazer.Stargazer at 0x79bbf8a395d0>"
            ],
            "text/html": [
              "<table style=\"text-align:center\"><tr><td colspan=\"2\" style=\"border-bottom: 1px solid black\"></td></tr>\n",
              "<tr><td style=\"text-align:left\"></td><td colspan=\"1\"><em>Dependent variable: partic</em></td></tr><tr><td style=\"text-align:left\"></td><tr><td style=\"text-align:left\"></td><td>(1)</td></tr>\n",
              "<tr><td colspan=\"2\" style=\"border-bottom: 1px solid black\"></td></tr>\n",
              "\n",
              "<tr><td style=\"text-align:left\">AGE_12[T.20 to 24 years]</td><td>0.587<sup>**</sup></td></tr>\n",
              "<tr><td style=\"text-align:left\"></td><td>(0.251)</td></tr>\n",
              "<tr><td style=\"text-align:left\">AGE_12[T.25 to 29 years]</td><td>0.707<sup>***</sup></td></tr>\n",
              "<tr><td style=\"text-align:left\"></td><td>(0.249)</td></tr>\n",
              "<tr><td style=\"text-align:left\">AGE_12[T.30 to 34 years]</td><td>0.732<sup>***</sup></td></tr>\n",
              "<tr><td style=\"text-align:left\"></td><td>(0.249)</td></tr>\n",
              "<tr><td style=\"text-align:left\">AGE_12[T.35 to 39 years]</td><td>0.734<sup>***</sup></td></tr>\n",
              "<tr><td style=\"text-align:left\"></td><td>(0.249)</td></tr>\n",
              "<tr><td style=\"text-align:left\">AGE_12[T.40 to 44 years]</td><td>0.733<sup>***</sup></td></tr>\n",
              "<tr><td style=\"text-align:left\"></td><td>(0.249)</td></tr>\n",
              "<tr><td style=\"text-align:left\">AGE_12[T.45 to 49 years]</td><td>0.703<sup>***</sup></td></tr>\n",
              "<tr><td style=\"text-align:left\"></td><td>(0.249)</td></tr>\n",
              "<tr><td style=\"text-align:left\">AGE_12[T.50 to 54 years]</td><td>0.696<sup>***</sup></td></tr>\n",
              "<tr><td style=\"text-align:left\"></td><td>(0.250)</td></tr>\n",
              "<tr><td style=\"text-align:left\">AGE_12[T.55 to 59 years]</td><td>0.613<sup>**</sup></td></tr>\n",
              "<tr><td style=\"text-align:left\"></td><td>(0.250)</td></tr>\n",
              "<tr><td style=\"text-align:left\">AGE_12[T.60 to 64 years]</td><td>0.453<sup>*</sup></td></tr>\n",
              "<tr><td style=\"text-align:left\"></td><td>(0.251)</td></tr>\n",
              "<tr><td style=\"text-align:left\">AGE_12[T.65 to 69 years]</td><td>0.181<sup></sup></td></tr>\n",
              "<tr><td style=\"text-align:left\"></td><td>(0.260)</td></tr>\n",
              "<tr><td style=\"text-align:left\">AGE_12[T.70 and over]</td><td>-0.178<sup></sup></td></tr>\n",
              "<tr><td style=\"text-align:left\"></td><td>(0.305)</td></tr>\n",
              "<tr><td style=\"text-align:left\">AGYOWNK[T.Youngest child 13 to 17 years]</td><td>0.107<sup>***</sup></td></tr>\n",
              "<tr><td style=\"text-align:left\"></td><td>(0.013)</td></tr>\n",
              "<tr><td style=\"text-align:left\">AGYOWNK[T.Youngest child 18 to 24 years]</td><td>0.119<sup>***</sup></td></tr>\n",
              "<tr><td style=\"text-align:left\"></td><td>(0.015)</td></tr>\n",
              "<tr><td style=\"text-align:left\">AGYOWNK[T.Youngest child 6 to 12 years]</td><td>0.072<sup>***</sup></td></tr>\n",
              "<tr><td style=\"text-align:left\"></td><td>(0.010)</td></tr>\n",
              "<tr><td style=\"text-align:left\">EDUC[T.Above bachelor's degree]</td><td>0.520<sup>***</sup></td></tr>\n",
              "<tr><td style=\"text-align:left\"></td><td>(0.033)</td></tr>\n",
              "<tr><td style=\"text-align:left\">EDUC[T.Bachelor's degree]</td><td>0.486<sup>***</sup></td></tr>\n",
              "<tr><td style=\"text-align:left\"></td><td>(0.033)</td></tr>\n",
              "<tr><td style=\"text-align:left\">EDUC[T.High school graduate]</td><td>0.340<sup>***</sup></td></tr>\n",
              "<tr><td style=\"text-align:left\"></td><td>(0.033)</td></tr>\n",
              "<tr><td style=\"text-align:left\">EDUC[T.Postsecondary certificate or diploma]</td><td>0.459<sup>***</sup></td></tr>\n",
              "<tr><td style=\"text-align:left\"></td><td>(0.033)</td></tr>\n",
              "<tr><td style=\"text-align:left\">EDUC[T.Some high school]</td><td>0.196<sup>***</sup></td></tr>\n",
              "<tr><td style=\"text-align:left\"></td><td>(0.039)</td></tr>\n",
              "<tr><td style=\"text-align:left\">EDUC[T.Some postsecondary]</td><td>0.388<sup>***</sup></td></tr>\n",
              "<tr><td style=\"text-align:left\"></td><td>(0.038)</td></tr>\n",
              "<tr><td style=\"text-align:left\">Intercept</td><td>-0.335<sup></sup></td></tr>\n",
              "<tr><td style=\"text-align:left\"></td><td>(0.252)</td></tr>\n",
              "<tr><td style=\"text-align:left\">PROV[T.Alberta]</td><td>-0.068<sup>***</sup></td></tr>\n",
              "<tr><td style=\"text-align:left\"></td><td>(0.018)</td></tr>\n",
              "<tr><td style=\"text-align:left\">PROV[T.British Columbia]</td><td>-0.075<sup>***</sup></td></tr>\n",
              "<tr><td style=\"text-align:left\"></td><td>(0.018)</td></tr>\n",
              "<tr><td style=\"text-align:left\">PROV[T.Manitoba]</td><td>-0.037<sup>*</sup></td></tr>\n",
              "<tr><td style=\"text-align:left\"></td><td>(0.019)</td></tr>\n",
              "<tr><td style=\"text-align:left\">PROV[T.New Brunswick]</td><td>-0.016<sup></sup></td></tr>\n",
              "<tr><td style=\"text-align:left\"></td><td>(0.022)</td></tr>\n",
              "<tr><td style=\"text-align:left\">PROV[T.Nova Scotia]</td><td>-0.064<sup>***</sup></td></tr>\n",
              "<tr><td style=\"text-align:left\"></td><td>(0.022)</td></tr>\n",
              "<tr><td style=\"text-align:left\">PROV[T.Ontario]</td><td>-0.058<sup>***</sup></td></tr>\n",
              "<tr><td style=\"text-align:left\"></td><td>(0.016)</td></tr>\n",
              "<tr><td style=\"text-align:left\">PROV[T.Prince Edward Island]</td><td>-0.019<sup></sup></td></tr>\n",
              "<tr><td style=\"text-align:left\"></td><td>(0.026)</td></tr>\n",
              "<tr><td style=\"text-align:left\">PROV[T.Quebec]</td><td>0.009<sup></sup></td></tr>\n",
              "<tr><td style=\"text-align:left\"></td><td>(0.017)</td></tr>\n",
              "<tr><td style=\"text-align:left\">PROV[T.Saskatchewan]</td><td>-0.045<sup>**</sup></td></tr>\n",
              "<tr><td style=\"text-align:left\"></td><td>(0.020)</td></tr>\n",
              "\n",
              "<td colspan=\"2\" style=\"border-bottom: 1px solid black\"></td></tr>\n",
              "<tr><td style=\"text-align: left\">Observations</td><td>11916</td></tr><tr><td style=\"text-align: left\">R<sup>2</sup></td><td>0.080</td></tr><tr><td style=\"text-align: left\">Adjusted R<sup>2</sup></td><td>0.078</td></tr><tr><td style=\"text-align: left\">Residual Std. Error</td><td>0.352 (df=11886)</td></tr><tr><td style=\"text-align: left\">F Statistic</td><td>35.721<sup>***</sup> (df=29; 11886)</td></tr>\n",
              "<tr><td colspan=\"2\" style=\"border-bottom: 1px solid black\"></td></tr><tr><td style=\"text-align: left\">Note:</td><td colspan=\"1\" style=\"text-align: right\"><sup>*</sup>p&lt;0.1; <sup>**</sup>p&lt;0.05; <sup>***</sup>p&lt;0.01</td></tr></table>"
            ]
          },
          "metadata": {},
          "execution_count": 25
        }
      ]
    },
    {
      "cell_type": "code",
      "source": [
        "df_married['AGYOWNK'].value_counts(dropna=False)"
      ],
      "metadata": {
        "colab": {
          "base_uri": "https://localhost:8080/"
        },
        "id": "XF0OeENmRWDD",
        "outputId": "cfd28162-5e54-4f99-aa98-641075b7a8f3"
      },
      "execution_count": 26,
      "outputs": [
        {
          "output_type": "execute_result",
          "data": {
            "text/plain": [
              "NaN                                 19360\n",
              "Youngest child less than 6 years     4371\n",
              "Youngest child 6 to 12 years         3465\n",
              "Youngest child 13 to 17 years        2122\n",
              "Youngest child 18 to 24 years        1958\n",
              "Name: AGYOWNK, dtype: int64"
            ]
          },
          "metadata": {},
          "execution_count": 26
        }
      ]
    },
    {
      "cell_type": "code",
      "source": [
        "df_married['AGYOWNK'] = df_married['AGYOWNK'].cat.add_categories('No children')"
      ],
      "metadata": {
        "colab": {
          "base_uri": "https://localhost:8080/"
        },
        "id": "u_GVOP4QvpwK",
        "outputId": "8cef7010-2979-4339-97cd-daea50bacf32"
      },
      "execution_count": 28,
      "outputs": [
        {
          "output_type": "stream",
          "name": "stderr",
          "text": [
            "<ipython-input-28-768bc1bdead0>:1: SettingWithCopyWarning: \n",
            "A value is trying to be set on a copy of a slice from a DataFrame.\n",
            "Try using .loc[row_indexer,col_indexer] = value instead\n",
            "\n",
            "See the caveats in the documentation: https://pandas.pydata.org/pandas-docs/stable/user_guide/indexing.html#returning-a-view-versus-a-copy\n",
            "  df_married['AGYOWNK'] = df_married['AGYOWNK'].cat.add_categories('No children')\n"
          ]
        }
      ]
    },
    {
      "cell_type": "code",
      "source": [
        "df_married['AGYOWNK'].fillna('No children', inplace = True)"
      ],
      "metadata": {
        "id": "sDz5TyK4TNdt",
        "colab": {
          "base_uri": "https://localhost:8080/"
        },
        "outputId": "76ea62ca-acd9-426f-b118-c367df91ec88"
      },
      "execution_count": 29,
      "outputs": [
        {
          "output_type": "stream",
          "name": "stderr",
          "text": [
            "<ipython-input-29-4ef777413672>:1: SettingWithCopyWarning: \n",
            "A value is trying to be set on a copy of a slice from a DataFrame\n",
            "\n",
            "See the caveats in the documentation: https://pandas.pydata.org/pandas-docs/stable/user_guide/indexing.html#returning-a-view-versus-a-copy\n",
            "  df_married['AGYOWNK'].fillna('No children', inplace = True)\n"
          ]
        }
      ]
    },
    {
      "cell_type": "code",
      "source": [
        "df_married['AGYOWNK'].value_counts(dropna=False)"
      ],
      "metadata": {
        "colab": {
          "base_uri": "https://localhost:8080/"
        },
        "outputId": "fee8329a-29f1-4e48-eac6-c1c78734e9fc",
        "id": "NO-Km0Df1FWw"
      },
      "execution_count": 31,
      "outputs": [
        {
          "output_type": "execute_result",
          "data": {
            "text/plain": [
              "No children                         19360\n",
              "Youngest child less than 6 years     4371\n",
              "Youngest child 6 to 12 years         3465\n",
              "Youngest child 13 to 17 years        2122\n",
              "Youngest child 18 to 24 years        1958\n",
              "Name: AGYOWNK, dtype: int64"
            ]
          },
          "metadata": {},
          "execution_count": 31
        }
      ]
    },
    {
      "cell_type": "code",
      "source": [
        "results_5 = smf.ols('partic ~ EDUC + AGE_12 + PROV + AGYOWNK', data=df_married).fit()\n",
        "Stargazer([results_4, results_5])"
      ],
      "metadata": {
        "colab": {
          "base_uri": "https://localhost:8080/",
          "height": 1000
        },
        "id": "Ne-gvydMwmbX",
        "outputId": "0e3437f8-b72e-4f1e-d721-1e10daf05de2"
      },
      "execution_count": 32,
      "outputs": [
        {
          "output_type": "execute_result",
          "data": {
            "text/plain": [
              "<stargazer.stargazer.Stargazer at 0x79bbf1a2b640>"
            ],
            "text/html": [
              "<table style=\"text-align:center\"><tr><td colspan=\"3\" style=\"border-bottom: 1px solid black\"></td></tr>\n",
              "<tr><td style=\"text-align:left\"></td><td colspan=\"2\"><em>Dependent variable: partic</em></td></tr><tr><td style=\"text-align:left\"></td><tr><td style=\"text-align:left\"></td><td>(1)</td><td>(2)</td></tr>\n",
              "<tr><td colspan=\"3\" style=\"border-bottom: 1px solid black\"></td></tr>\n",
              "\n",
              "<tr><td style=\"text-align:left\">AGE_12[T.20 to 24 years]</td><td>0.587<sup>**</sup></td><td>0.005<sup></sup></td></tr>\n",
              "<tr><td style=\"text-align:left\"></td><td>(0.251)</td><td>(0.079)</td></tr>\n",
              "<tr><td style=\"text-align:left\">AGE_12[T.25 to 29 years]</td><td>0.707<sup>***</sup></td><td>0.047<sup></sup></td></tr>\n",
              "<tr><td style=\"text-align:left\"></td><td>(0.249)</td><td>(0.077)</td></tr>\n",
              "<tr><td style=\"text-align:left\">AGE_12[T.30 to 34 years]</td><td>0.732<sup>***</sup></td><td>0.050<sup></sup></td></tr>\n",
              "<tr><td style=\"text-align:left\"></td><td>(0.249)</td><td>(0.077)</td></tr>\n",
              "<tr><td style=\"text-align:left\">AGE_12[T.35 to 39 years]</td><td>0.734<sup>***</sup></td><td>0.048<sup></sup></td></tr>\n",
              "<tr><td style=\"text-align:left\"></td><td>(0.249)</td><td>(0.077)</td></tr>\n",
              "<tr><td style=\"text-align:left\">AGE_12[T.40 to 44 years]</td><td>0.733<sup>***</sup></td><td>0.042<sup></sup></td></tr>\n",
              "<tr><td style=\"text-align:left\"></td><td>(0.249)</td><td>(0.077)</td></tr>\n",
              "<tr><td style=\"text-align:left\">AGE_12[T.45 to 49 years]</td><td>0.703<sup>***</sup></td><td>0.007<sup></sup></td></tr>\n",
              "<tr><td style=\"text-align:left\"></td><td>(0.249)</td><td>(0.077)</td></tr>\n",
              "<tr><td style=\"text-align:left\">AGE_12[T.50 to 54 years]</td><td>0.696<sup>***</sup></td><td>-0.017<sup></sup></td></tr>\n",
              "<tr><td style=\"text-align:left\"></td><td>(0.250)</td><td>(0.077)</td></tr>\n",
              "<tr><td style=\"text-align:left\">AGE_12[T.55 to 59 years]</td><td>0.613<sup>**</sup></td><td>-0.113<sup></sup></td></tr>\n",
              "<tr><td style=\"text-align:left\"></td><td>(0.250)</td><td>(0.077)</td></tr>\n",
              "<tr><td style=\"text-align:left\">AGE_12[T.60 to 64 years]</td><td>0.453<sup>*</sup></td><td>-0.352<sup>***</sup></td></tr>\n",
              "<tr><td style=\"text-align:left\"></td><td>(0.251)</td><td>(0.077)</td></tr>\n",
              "<tr><td style=\"text-align:left\">AGE_12[T.65 to 69 years]</td><td>0.181<sup></sup></td><td>-0.601<sup>***</sup></td></tr>\n",
              "<tr><td style=\"text-align:left\"></td><td>(0.260)</td><td>(0.077)</td></tr>\n",
              "<tr><td style=\"text-align:left\">AGE_12[T.70 and over]</td><td>-0.178<sup></sup></td><td>-0.739<sup>***</sup></td></tr>\n",
              "<tr><td style=\"text-align:left\"></td><td>(0.305)</td><td>(0.077)</td></tr>\n",
              "<tr><td style=\"text-align:left\">AGYOWNK[T.No children]</td><td></td><td>0.095<sup>***</sup></td></tr>\n",
              "<tr><td style=\"text-align:left\"></td><td></td><td>(0.008)</td></tr>\n",
              "<tr><td style=\"text-align:left\">AGYOWNK[T.Youngest child 13 to 17 years]</td><td>0.107<sup>***</sup></td><td>0.130<sup>***</sup></td></tr>\n",
              "<tr><td style=\"text-align:left\"></td><td>(0.013)</td><td>(0.011)</td></tr>\n",
              "<tr><td style=\"text-align:left\">AGYOWNK[T.Youngest child 18 to 24 years]</td><td>0.119<sup>***</sup></td><td>0.156<sup>***</sup></td></tr>\n",
              "<tr><td style=\"text-align:left\"></td><td>(0.015)</td><td>(0.012)</td></tr>\n",
              "<tr><td style=\"text-align:left\">AGYOWNK[T.Youngest child 6 to 12 years]</td><td>0.072<sup>***</sup></td><td>0.085<sup>***</sup></td></tr>\n",
              "<tr><td style=\"text-align:left\"></td><td>(0.010)</td><td>(0.009)</td></tr>\n",
              "<tr><td style=\"text-align:left\">EDUC[T.Above bachelor's degree]</td><td>0.520<sup>***</sup></td><td>0.237<sup>***</sup></td></tr>\n",
              "<tr><td style=\"text-align:left\"></td><td>(0.033)</td><td>(0.014)</td></tr>\n",
              "<tr><td style=\"text-align:left\">EDUC[T.Bachelor's degree]</td><td>0.486<sup>***</sup></td><td>0.206<sup>***</sup></td></tr>\n",
              "<tr><td style=\"text-align:left\"></td><td>(0.033)</td><td>(0.014)</td></tr>\n",
              "<tr><td style=\"text-align:left\">EDUC[T.High school graduate]</td><td>0.340<sup>***</sup></td><td>0.113<sup>***</sup></td></tr>\n",
              "<tr><td style=\"text-align:left\"></td><td>(0.033)</td><td>(0.014)</td></tr>\n",
              "<tr><td style=\"text-align:left\">EDUC[T.Postsecondary certificate or diploma]</td><td>0.459<sup>***</sup></td><td>0.177<sup>***</sup></td></tr>\n",
              "<tr><td style=\"text-align:left\"></td><td>(0.033)</td><td>(0.013)</td></tr>\n",
              "<tr><td style=\"text-align:left\">EDUC[T.Some high school]</td><td>0.196<sup>***</sup></td><td>0.072<sup>***</sup></td></tr>\n",
              "<tr><td style=\"text-align:left\"></td><td>(0.039)</td><td>(0.015)</td></tr>\n",
              "<tr><td style=\"text-align:left\">EDUC[T.Some postsecondary]</td><td>0.388<sup>***</sup></td><td>0.153<sup>***</sup></td></tr>\n",
              "<tr><td style=\"text-align:left\"></td><td>(0.038)</td><td>(0.017)</td></tr>\n",
              "<tr><td style=\"text-align:left\">Intercept</td><td>-0.335<sup></sup></td><td>0.574<sup>***</sup></td></tr>\n",
              "<tr><td style=\"text-align:left\"></td><td>(0.252)</td><td>(0.079)</td></tr>\n",
              "<tr><td style=\"text-align:left\">PROV[T.Alberta]</td><td>-0.068<sup>***</sup></td><td>-0.006<sup></sup></td></tr>\n",
              "<tr><td style=\"text-align:left\"></td><td>(0.018)</td><td>(0.012)</td></tr>\n",
              "<tr><td style=\"text-align:left\">PROV[T.British Columbia]</td><td>-0.075<sup>***</sup></td><td>-0.014<sup></sup></td></tr>\n",
              "<tr><td style=\"text-align:left\"></td><td>(0.018)</td><td>(0.011)</td></tr>\n",
              "<tr><td style=\"text-align:left\">PROV[T.Manitoba]</td><td>-0.037<sup>*</sup></td><td>-0.007<sup></sup></td></tr>\n",
              "<tr><td style=\"text-align:left\"></td><td>(0.019)</td><td>(0.012)</td></tr>\n",
              "<tr><td style=\"text-align:left\">PROV[T.New Brunswick]</td><td>-0.016<sup></sup></td><td>0.000<sup></sup></td></tr>\n",
              "<tr><td style=\"text-align:left\"></td><td>(0.022)</td><td>(0.013)</td></tr>\n",
              "<tr><td style=\"text-align:left\">PROV[T.Nova Scotia]</td><td>-0.064<sup>***</sup></td><td>-0.037<sup>***</sup></td></tr>\n",
              "<tr><td style=\"text-align:left\"></td><td>(0.022)</td><td>(0.013)</td></tr>\n",
              "<tr><td style=\"text-align:left\">PROV[T.Ontario]</td><td>-0.058<sup>***</sup></td><td>-0.014<sup></sup></td></tr>\n",
              "<tr><td style=\"text-align:left\"></td><td>(0.016)</td><td>(0.010)</td></tr>\n",
              "<tr><td style=\"text-align:left\">PROV[T.Prince Edward Island]</td><td>-0.019<sup></sup></td><td>0.042<sup>***</sup></td></tr>\n",
              "<tr><td style=\"text-align:left\"></td><td>(0.026)</td><td>(0.016)</td></tr>\n",
              "<tr><td style=\"text-align:left\">PROV[T.Quebec]</td><td>0.009<sup></sup></td><td>0.024<sup>**</sup></td></tr>\n",
              "<tr><td style=\"text-align:left\"></td><td>(0.017)</td><td>(0.011)</td></tr>\n",
              "<tr><td style=\"text-align:left\">PROV[T.Saskatchewan]</td><td>-0.045<sup>**</sup></td><td>0.001<sup></sup></td></tr>\n",
              "<tr><td style=\"text-align:left\"></td><td>(0.020)</td><td>(0.013)</td></tr>\n",
              "\n",
              "<td colspan=\"3\" style=\"border-bottom: 1px solid black\"></td></tr>\n",
              "<tr><td style=\"text-align: left\">Observations</td><td>11916</td><td>31276</td></tr><tr><td style=\"text-align: left\">R<sup>2</sup></td><td>0.080</td><td>0.428</td></tr><tr><td style=\"text-align: left\">Adjusted R<sup>2</sup></td><td>0.078</td><td>0.428</td></tr><tr><td style=\"text-align: left\">Residual Std. Error</td><td>0.352 (df=11886)</td><td>0.368 (df=31245)</td></tr><tr><td style=\"text-align: left\">F Statistic</td><td>35.721<sup>***</sup> (df=29; 11886)</td><td>780.359<sup>***</sup> (df=30; 31245)</td></tr>\n",
              "<tr><td colspan=\"3\" style=\"border-bottom: 1px solid black\"></td></tr><tr><td style=\"text-align: left\">Note:</td><td colspan=\"2\" style=\"text-align: right\"><sup>*</sup>p&lt;0.1; <sup>**</sup>p&lt;0.05; <sup>***</sup>p&lt;0.01</td></tr></table>"
            ]
          },
          "metadata": {},
          "execution_count": 32
        }
      ]
    }
  ]
}